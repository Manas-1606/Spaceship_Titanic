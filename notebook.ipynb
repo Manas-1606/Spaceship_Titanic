{
 "cells": [
  {
   "cell_type": "code",
   "metadata": {
    "tags": [],
    "cell_id": "3e5f3123-604f-4893-88c5-d312f93bd5c7",
    "deepnote_to_be_reexecuted": false,
    "source_hash": "dabae288",
    "execution_start": 1657623597285,
    "execution_millis": 3847,
    "deepnote_cell_type": "code",
    "deepnote_cell_height": 149.96875
   },
   "source": "!pip install opendatasets --upgrade --quiet\n",
   "execution_count": 1,
   "outputs": [
    {
     "name": "stdout",
     "text": "\u001b[33mWARNING: You are using pip version 22.0.4; however, version 22.1.2 is available.\nYou should consider upgrading via the '/root/venv/bin/python -m pip install --upgrade pip' command.\u001b[0m\u001b[33m\n\u001b[0m",
     "output_type": "stream"
    }
   ]
  },
  {
   "cell_type": "markdown",
   "source": "### Downloaded the dataset ",
   "metadata": {
    "formattedRanges": [],
    "cell_id": "6703cb5e11e541d2b894caec550fc705",
    "tags": [],
    "is_collapsed": false,
    "deepnote_cell_type": "text-cell-h3"
   }
  },
  {
   "cell_type": "code",
   "metadata": {
    "cell_id": "1d00b1715bf24d18881dcc0a86069bc1",
    "tags": [],
    "deepnote_to_be_reexecuted": false,
    "source_hash": "8c66c380",
    "execution_start": 1657623600528,
    "execution_millis": 609,
    "deepnote_cell_type": "code",
    "deepnote_cell_height": 183.9375
   },
   "source": "import opendatasets as od\n\n\nspace_titanic_url = 'https://www.kaggle.com/competitions/spaceship-titanic/data'\nod.download(space_titanic_url)",
   "execution_count": 2,
   "outputs": [
    {
     "name": "stdout",
     "text": "Skipping, found downloaded files in \"./spaceship-titanic\" (use force=True to force download)\n",
     "output_type": "stream"
    }
   ]
  },
  {
   "cell_type": "markdown",
   "source": "### Fetching the dataset",
   "metadata": {
    "formattedRanges": [],
    "cell_id": "4772e4be2c0648efaf642bbd1e409366",
    "tags": [],
    "is_collapsed": false,
    "deepnote_cell_type": "text-cell-h3"
   }
  },
  {
   "cell_type": "code",
   "metadata": {
    "cell_id": "445ff9bf2feb4f0faea58af37fea7805",
    "tags": [],
    "deepnote_to_be_reexecuted": false,
    "source_hash": "f05a7eb3",
    "execution_start": 1657623600595,
    "execution_millis": 928,
    "deepnote_cell_type": "code",
    "deepnote_cell_height": 278.921875
   },
   "source": "import pandas as pd\nimport numpy as np\nimport matplotlib.pyplot as plt\n\n#df_train = df_train.reset_index(drop=True)\n\ndf_test = pd.read_csv('spaceship-titanic/test.csv')\n\ndf_train = pd.read_csv('spaceship-titanic/train.csv')\n\ndf_train = pd.concat([df_train, df_test])\n",
   "execution_count": 3,
   "outputs": []
  },
  {
   "cell_type": "code",
   "metadata": {
    "cell_id": "1d48be3156de4af3b86bfcd6ecd9a6b0",
    "tags": [],
    "deepnote_to_be_reexecuted": false,
    "source_hash": "e2477e74",
    "execution_start": 1657623601540,
    "execution_millis": 2,
    "deepnote_cell_type": "code",
    "deepnote_cell_height": 228.5,
    "deepnote_output_heights": [
     59.59375
    ]
   },
   "source": "x=np.mean(df_train['Age'])\ndf_train['Age'].fillna(int(x), inplace=True)\ndf_train.head()\n#df_train['CryoSleep'].map({'False':0, 'True':1})\ndf_train['CryoSleep'].value_counts()",
   "execution_count": 4,
   "outputs": [
    {
     "output_type": "execute_result",
     "execution_count": 4,
     "data": {
      "text/plain": "False    8079\nTrue     4581\nName: CryoSleep, dtype: int64"
     },
     "metadata": {}
    }
   ]
  },
  {
   "cell_type": "code",
   "metadata": {
    "cell_id": "6bac45f041714f4385d6355f4416d3c7",
    "tags": [],
    "deepnote_to_be_reexecuted": false,
    "source_hash": "cc628db",
    "execution_start": 1657623601546,
    "execution_millis": 4,
    "deepnote_cell_type": "code",
    "deepnote_cell_height": 116.9375
   },
   "source": "# dropping the name column\ndf_train = df_train.drop(['Name'], axis=1)\n",
   "execution_count": 5,
   "outputs": []
  },
  {
   "cell_type": "code",
   "metadata": {
    "cell_id": "b6e73b5be5824ff2a0c691b68984c67b",
    "tags": [],
    "deepnote_to_be_reexecuted": false,
    "source_hash": "e7a4a97c",
    "execution_start": 1657623601555,
    "execution_millis": 92,
    "deepnote_cell_type": "code",
    "deepnote_cell_height": 616.453125
   },
   "source": "df_train",
   "execution_count": 6,
   "outputs": [
    {
     "output_type": "execute_result",
     "execution_count": 6,
     "data": {
      "application/vnd.deepnote.dataframe.v3+json": {
       "column_count": 13,
       "row_count": 12970,
       "columns": [
        {
         "name": "PassengerId",
         "dtype": "object",
         "stats": {
          "unique_count": 12970,
          "nan_count": 0,
          "categories": [
           {
            "name": "0001_01",
            "count": 1
           },
           {
            "name": "0002_01",
            "count": 1
           },
           {
            "name": "12968 others",
            "count": 12968
           }
          ]
         }
        },
        {
         "name": "HomePlanet",
         "dtype": "object",
         "stats": {
          "unique_count": 3,
          "nan_count": 288,
          "categories": [
           {
            "name": "Earth",
            "count": 6865
           },
           {
            "name": "2 others",
            "count": 5817
           },
           {
            "name": "Missing",
            "count": 288
           }
          ]
         }
        },
        {
         "name": "CryoSleep",
         "dtype": "object",
         "stats": {
          "unique_count": 2,
          "nan_count": 310,
          "categories": [
           {
            "name": "False",
            "count": 8079
           },
           {
            "name": "True",
            "count": 4581
           },
           {
            "name": "Missing",
            "count": 310
           }
          ]
         }
        },
        {
         "name": "Cabin",
         "dtype": "object",
         "stats": {
          "unique_count": 9825,
          "nan_count": 299,
          "categories": [
           {
            "name": "G/734/S",
            "count": 8
           },
           {
            "name": "9824 others",
            "count": 12663
           },
           {
            "name": "Missing",
            "count": 299
           }
          ]
         }
        },
        {
         "name": "Destination",
         "dtype": "object",
         "stats": {
          "unique_count": 3,
          "nan_count": 274,
          "categories": [
           {
            "name": "TRAPPIST-1e",
            "count": 8871
           },
           {
            "name": "2 others",
            "count": 3825
           },
           {
            "name": "Missing",
            "count": 274
           }
          ]
         }
        },
        {
         "name": "Age",
         "dtype": "float64",
         "stats": {
          "unique_count": 80,
          "nan_count": 0,
          "min": "0.0",
          "max": "79.0",
          "histogram": [
           {
            "bin_start": 0,
            "bin_end": 7.9,
            "count": 847
           },
           {
            "bin_start": 7.9,
            "bin_end": 15.8,
            "count": 956
           },
           {
            "bin_start": 15.8,
            "bin_end": 23.700000000000003,
            "count": 3207
           },
           {
            "bin_start": 23.700000000000003,
            "bin_end": 31.6,
            "count": 3203
           },
           {
            "bin_start": 31.6,
            "bin_end": 39.5,
            "count": 2000
           },
           {
            "bin_start": 39.5,
            "bin_end": 47.400000000000006,
            "count": 1346
           },
           {
            "bin_start": 47.400000000000006,
            "bin_end": 55.300000000000004,
            "count": 773
           },
           {
            "bin_start": 55.300000000000004,
            "bin_end": 63.2,
            "count": 439
           },
           {
            "bin_start": 63.2,
            "bin_end": 71.10000000000001,
            "count": 153
           },
           {
            "bin_start": 71.10000000000001,
            "bin_end": 79,
            "count": 46
           }
          ]
         }
        },
        {
         "name": "VIP",
         "dtype": "object",
         "stats": {
          "unique_count": 2,
          "nan_count": 296,
          "categories": [
           {
            "name": "False",
            "count": 12401
           },
           {
            "name": "True",
            "count": 273
           },
           {
            "name": "Missing",
            "count": 296
           }
          ]
         }
        },
        {
         "name": "RoomService",
         "dtype": "float64"
        },
        {
         "name": "FoodCourt",
         "dtype": "float64"
        },
        {
         "name": "ShoppingMall",
         "dtype": "float64"
        },
        {
         "name": "Spa",
         "dtype": "float64"
        },
        {
         "name": "VRDeck",
         "dtype": "float64"
        },
        {
         "name": "Transported",
         "dtype": "object"
        },
        {
         "name": "_deepnote_index_column",
         "dtype": "int64"
        }
       ],
       "rows": [
        {
         "PassengerId": "0001_01",
         "HomePlanet": "Europa",
         "CryoSleep": "False",
         "Cabin": "B/0/P",
         "Destination": "TRAPPIST-1e",
         "Age": 39,
         "VIP": "False",
         "RoomService": 0,
         "FoodCourt": 0,
         "ShoppingMall": 0,
         "Spa": 0,
         "VRDeck": 0,
         "Transported": "False",
         "_deepnote_index_column": 0
        },
        {
         "PassengerId": "0002_01",
         "HomePlanet": "Earth",
         "CryoSleep": "False",
         "Cabin": "F/0/S",
         "Destination": "TRAPPIST-1e",
         "Age": 24,
         "VIP": "False",
         "RoomService": 109,
         "FoodCourt": 9,
         "ShoppingMall": 25,
         "Spa": 549,
         "VRDeck": 44,
         "Transported": "True",
         "_deepnote_index_column": 1
        },
        {
         "PassengerId": "0003_01",
         "HomePlanet": "Europa",
         "CryoSleep": "False",
         "Cabin": "A/0/S",
         "Destination": "TRAPPIST-1e",
         "Age": 58,
         "VIP": "True",
         "RoomService": 43,
         "FoodCourt": 3576,
         "ShoppingMall": 0,
         "Spa": 6715,
         "VRDeck": 49,
         "Transported": "False",
         "_deepnote_index_column": 2
        },
        {
         "PassengerId": "0003_02",
         "HomePlanet": "Europa",
         "CryoSleep": "False",
         "Cabin": "A/0/S",
         "Destination": "TRAPPIST-1e",
         "Age": 33,
         "VIP": "False",
         "RoomService": 0,
         "FoodCourt": 1283,
         "ShoppingMall": 371,
         "Spa": 3329,
         "VRDeck": 193,
         "Transported": "False",
         "_deepnote_index_column": 3
        },
        {
         "PassengerId": "0004_01",
         "HomePlanet": "Earth",
         "CryoSleep": "False",
         "Cabin": "F/1/S",
         "Destination": "TRAPPIST-1e",
         "Age": 16,
         "VIP": "False",
         "RoomService": 303,
         "FoodCourt": 70,
         "ShoppingMall": 151,
         "Spa": 565,
         "VRDeck": 2,
         "Transported": "True",
         "_deepnote_index_column": 4
        },
        {
         "PassengerId": "0005_01",
         "HomePlanet": "Earth",
         "CryoSleep": "False",
         "Cabin": "F/0/P",
         "Destination": "PSO J318.5-22",
         "Age": 44,
         "VIP": "False",
         "RoomService": 0,
         "FoodCourt": 483,
         "ShoppingMall": 0,
         "Spa": 291,
         "VRDeck": 0,
         "Transported": "True",
         "_deepnote_index_column": 5
        },
        {
         "PassengerId": "0006_01",
         "HomePlanet": "Earth",
         "CryoSleep": "False",
         "Cabin": "F/2/S",
         "Destination": "TRAPPIST-1e",
         "Age": 26,
         "VIP": "False",
         "RoomService": 42,
         "FoodCourt": 1539,
         "ShoppingMall": 3,
         "Spa": 0,
         "VRDeck": 0,
         "Transported": "True",
         "_deepnote_index_column": 6
        },
        {
         "PassengerId": "0006_02",
         "HomePlanet": "Earth",
         "CryoSleep": "True",
         "Cabin": "G/0/S",
         "Destination": "TRAPPIST-1e",
         "Age": 28,
         "VIP": "False",
         "RoomService": 0,
         "FoodCourt": 0,
         "ShoppingMall": 0,
         "Spa": 0,
         "VRDeck": "nan",
         "Transported": "True",
         "_deepnote_index_column": 7
        },
        {
         "PassengerId": "0007_01",
         "HomePlanet": "Earth",
         "CryoSleep": "False",
         "Cabin": "F/3/S",
         "Destination": "TRAPPIST-1e",
         "Age": 35,
         "VIP": "False",
         "RoomService": 0,
         "FoodCourt": 785,
         "ShoppingMall": 17,
         "Spa": 216,
         "VRDeck": 0,
         "Transported": "True",
         "_deepnote_index_column": 8
        },
        {
         "PassengerId": "0008_01",
         "HomePlanet": "Europa",
         "CryoSleep": "True",
         "Cabin": "B/1/P",
         "Destination": "55 Cancri e",
         "Age": 14,
         "VIP": "False",
         "RoomService": 0,
         "FoodCourt": 0,
         "ShoppingMall": 0,
         "Spa": 0,
         "VRDeck": 0,
         "Transported": "True",
         "_deepnote_index_column": 9
        }
       ]
      },
      "text/plain": "     PassengerId HomePlanet CryoSleep     Cabin    Destination   Age    VIP  \\\n0        0001_01     Europa     False     B/0/P    TRAPPIST-1e  39.0  False   \n1        0002_01      Earth     False     F/0/S    TRAPPIST-1e  24.0  False   \n2        0003_01     Europa     False     A/0/S    TRAPPIST-1e  58.0   True   \n3        0003_02     Europa     False     A/0/S    TRAPPIST-1e  33.0  False   \n4        0004_01      Earth     False     F/1/S    TRAPPIST-1e  16.0  False   \n...          ...        ...       ...       ...            ...   ...    ...   \n4272     9266_02      Earth      True  G/1496/S    TRAPPIST-1e  34.0  False   \n4273     9269_01      Earth     False       NaN    TRAPPIST-1e  42.0  False   \n4274     9271_01       Mars      True   D/296/P    55 Cancri e  28.0  False   \n4275     9273_01     Europa     False   D/297/P            NaN  28.0  False   \n4276     9277_01      Earth      True  G/1498/S  PSO J318.5-22  43.0  False   \n\n      RoomService  FoodCourt  ShoppingMall     Spa  VRDeck Transported  \n0             0.0        0.0           0.0     0.0     0.0       False  \n1           109.0        9.0          25.0   549.0    44.0        True  \n2            43.0     3576.0           0.0  6715.0    49.0       False  \n3             0.0     1283.0         371.0  3329.0   193.0       False  \n4           303.0       70.0         151.0   565.0     2.0        True  \n...           ...        ...           ...     ...     ...         ...  \n4272          0.0        0.0           0.0     0.0     0.0         NaN  \n4273          0.0      847.0          17.0    10.0   144.0         NaN  \n4274          0.0        0.0           0.0     0.0     0.0         NaN  \n4275          0.0     2680.0           0.0     0.0   523.0         NaN  \n4276          0.0        0.0           0.0     0.0     0.0         NaN  \n\n[12970 rows x 13 columns]",
      "text/html": "<div>\n<style scoped>\n    .dataframe tbody tr th:only-of-type {\n        vertical-align: middle;\n    }\n\n    .dataframe tbody tr th {\n        vertical-align: top;\n    }\n\n    .dataframe thead th {\n        text-align: right;\n    }\n</style>\n<table border=\"1\" class=\"dataframe\">\n  <thead>\n    <tr style=\"text-align: right;\">\n      <th></th>\n      <th>PassengerId</th>\n      <th>HomePlanet</th>\n      <th>CryoSleep</th>\n      <th>Cabin</th>\n      <th>Destination</th>\n      <th>Age</th>\n      <th>VIP</th>\n      <th>RoomService</th>\n      <th>FoodCourt</th>\n      <th>ShoppingMall</th>\n      <th>Spa</th>\n      <th>VRDeck</th>\n      <th>Transported</th>\n    </tr>\n  </thead>\n  <tbody>\n    <tr>\n      <th>0</th>\n      <td>0001_01</td>\n      <td>Europa</td>\n      <td>False</td>\n      <td>B/0/P</td>\n      <td>TRAPPIST-1e</td>\n      <td>39.0</td>\n      <td>False</td>\n      <td>0.0</td>\n      <td>0.0</td>\n      <td>0.0</td>\n      <td>0.0</td>\n      <td>0.0</td>\n      <td>False</td>\n    </tr>\n    <tr>\n      <th>1</th>\n      <td>0002_01</td>\n      <td>Earth</td>\n      <td>False</td>\n      <td>F/0/S</td>\n      <td>TRAPPIST-1e</td>\n      <td>24.0</td>\n      <td>False</td>\n      <td>109.0</td>\n      <td>9.0</td>\n      <td>25.0</td>\n      <td>549.0</td>\n      <td>44.0</td>\n      <td>True</td>\n    </tr>\n    <tr>\n      <th>2</th>\n      <td>0003_01</td>\n      <td>Europa</td>\n      <td>False</td>\n      <td>A/0/S</td>\n      <td>TRAPPIST-1e</td>\n      <td>58.0</td>\n      <td>True</td>\n      <td>43.0</td>\n      <td>3576.0</td>\n      <td>0.0</td>\n      <td>6715.0</td>\n      <td>49.0</td>\n      <td>False</td>\n    </tr>\n    <tr>\n      <th>3</th>\n      <td>0003_02</td>\n      <td>Europa</td>\n      <td>False</td>\n      <td>A/0/S</td>\n      <td>TRAPPIST-1e</td>\n      <td>33.0</td>\n      <td>False</td>\n      <td>0.0</td>\n      <td>1283.0</td>\n      <td>371.0</td>\n      <td>3329.0</td>\n      <td>193.0</td>\n      <td>False</td>\n    </tr>\n    <tr>\n      <th>4</th>\n      <td>0004_01</td>\n      <td>Earth</td>\n      <td>False</td>\n      <td>F/1/S</td>\n      <td>TRAPPIST-1e</td>\n      <td>16.0</td>\n      <td>False</td>\n      <td>303.0</td>\n      <td>70.0</td>\n      <td>151.0</td>\n      <td>565.0</td>\n      <td>2.0</td>\n      <td>True</td>\n    </tr>\n    <tr>\n      <th>...</th>\n      <td>...</td>\n      <td>...</td>\n      <td>...</td>\n      <td>...</td>\n      <td>...</td>\n      <td>...</td>\n      <td>...</td>\n      <td>...</td>\n      <td>...</td>\n      <td>...</td>\n      <td>...</td>\n      <td>...</td>\n      <td>...</td>\n    </tr>\n    <tr>\n      <th>4272</th>\n      <td>9266_02</td>\n      <td>Earth</td>\n      <td>True</td>\n      <td>G/1496/S</td>\n      <td>TRAPPIST-1e</td>\n      <td>34.0</td>\n      <td>False</td>\n      <td>0.0</td>\n      <td>0.0</td>\n      <td>0.0</td>\n      <td>0.0</td>\n      <td>0.0</td>\n      <td>NaN</td>\n    </tr>\n    <tr>\n      <th>4273</th>\n      <td>9269_01</td>\n      <td>Earth</td>\n      <td>False</td>\n      <td>NaN</td>\n      <td>TRAPPIST-1e</td>\n      <td>42.0</td>\n      <td>False</td>\n      <td>0.0</td>\n      <td>847.0</td>\n      <td>17.0</td>\n      <td>10.0</td>\n      <td>144.0</td>\n      <td>NaN</td>\n    </tr>\n    <tr>\n      <th>4274</th>\n      <td>9271_01</td>\n      <td>Mars</td>\n      <td>True</td>\n      <td>D/296/P</td>\n      <td>55 Cancri e</td>\n      <td>28.0</td>\n      <td>False</td>\n      <td>0.0</td>\n      <td>0.0</td>\n      <td>0.0</td>\n      <td>0.0</td>\n      <td>0.0</td>\n      <td>NaN</td>\n    </tr>\n    <tr>\n      <th>4275</th>\n      <td>9273_01</td>\n      <td>Europa</td>\n      <td>False</td>\n      <td>D/297/P</td>\n      <td>NaN</td>\n      <td>28.0</td>\n      <td>False</td>\n      <td>0.0</td>\n      <td>2680.0</td>\n      <td>0.0</td>\n      <td>0.0</td>\n      <td>523.0</td>\n      <td>NaN</td>\n    </tr>\n    <tr>\n      <th>4276</th>\n      <td>9277_01</td>\n      <td>Earth</td>\n      <td>True</td>\n      <td>G/1498/S</td>\n      <td>PSO J318.5-22</td>\n      <td>43.0</td>\n      <td>False</td>\n      <td>0.0</td>\n      <td>0.0</td>\n      <td>0.0</td>\n      <td>0.0</td>\n      <td>0.0</td>\n      <td>NaN</td>\n    </tr>\n  </tbody>\n</table>\n<p>12970 rows × 13 columns</p>\n</div>"
     },
     "metadata": {}
    }
   ]
  },
  {
   "cell_type": "code",
   "metadata": {
    "cell_id": "cc6f012741284db1a43513dcae00901f",
    "tags": [],
    "deepnote_to_be_reexecuted": false,
    "source_hash": "a21a296c",
    "execution_start": 1657623601649,
    "execution_millis": 5,
    "deepnote_cell_type": "code",
    "deepnote_cell_height": 206.9375
   },
   "source": "#Finding mean of values to be filled in nan cells\nroom_service_mean = np.mean(df_train['RoomService'])\nfood_court_mean = np.mean(df_train['FoodCourt'])\nshopping_mean = np.mean(df_train['ShoppingMall'])\nspa_mean = np.mean(df_train['Spa'])\nvr_deck_mean = np.mean(df_train['VRDeck'])\nage_mean = int(np.mean(df_train['Age']))\n",
   "execution_count": 7,
   "outputs": []
  },
  {
   "cell_type": "code",
   "metadata": {
    "cell_id": "c5e044837db94361a6ecec1ca45185a4",
    "tags": [],
    "deepnote_to_be_reexecuted": false,
    "source_hash": "68ff2d0e",
    "execution_start": 1657623601661,
    "execution_millis": 12,
    "deepnote_cell_type": "code",
    "deepnote_cell_height": 419.359375,
    "deepnote_output_heights": [
     232.453125
    ]
   },
   "source": "df_train['RoomService'].fillna(room_service_mean)\ndf_train['FoodCourt'].fillna(food_court_mean)\ndf_train['ShoppingMall'].fillna(shopping_mean)\ndf_train['Spa'].fillna(spa_mean)\ndf_train['VRDeck'].fillna(vr_deck_mean)\ndf_train['Age'].fillna(age_mean)",
   "execution_count": 8,
   "outputs": [
    {
     "output_type": "execute_result",
     "execution_count": 8,
     "data": {
      "text/plain": "0       39.0\n1       24.0\n2       58.0\n3       33.0\n4       16.0\n        ... \n4272    34.0\n4273    42.0\n4274    28.0\n4275    28.0\n4276    43.0\nName: Age, Length: 12970, dtype: float64"
     },
     "metadata": {}
    }
   ]
  },
  {
   "cell_type": "code",
   "metadata": {
    "cell_id": "7f99fc0442e04ea7806f843a7c2868fe",
    "tags": [],
    "deepnote_to_be_reexecuted": false,
    "source_hash": "df26db35",
    "execution_start": 1657623601724,
    "execution_millis": 4,
    "deepnote_cell_type": "code",
    "deepnote_cell_height": 616.453125
   },
   "source": "df_train[df_train['RoomService'].isnull()]",
   "execution_count": 9,
   "outputs": [
    {
     "output_type": "execute_result",
     "execution_count": 9,
     "data": {
      "application/vnd.deepnote.dataframe.v3+json": {
       "column_count": 13,
       "row_count": 263,
       "columns": [
        {
         "name": "PassengerId",
         "dtype": "object",
         "stats": {
          "unique_count": 263,
          "nan_count": 0,
          "categories": [
           {
            "name": "0020_05",
            "count": 1
           },
           {
            "name": "0031_03",
            "count": 1
           },
           {
            "name": "261 others",
            "count": 261
           }
          ]
         }
        },
        {
         "name": "HomePlanet",
         "dtype": "object",
         "stats": {
          "unique_count": 3,
          "nan_count": 6,
          "categories": [
           {
            "name": "Earth",
            "count": 155
           },
           {
            "name": "2 others",
            "count": 102
           },
           {
            "name": "Missing",
            "count": 6
           }
          ]
         }
        },
        {
         "name": "CryoSleep",
         "dtype": "object",
         "stats": {
          "unique_count": 2,
          "nan_count": 3,
          "categories": [
           {
            "name": "False",
            "count": 167
           },
           {
            "name": "True",
            "count": 93
           },
           {
            "name": "Missing",
            "count": 3
           }
          ]
         }
        },
        {
         "name": "Cabin",
         "dtype": "object",
         "stats": {
          "unique_count": 259,
          "nan_count": 4,
          "categories": [
           {
            "name": "E/0/S",
            "count": 1
           },
           {
            "name": "258 others",
            "count": 258
           },
           {
            "name": "Missing",
            "count": 4
           }
          ]
         }
        },
        {
         "name": "Destination",
         "dtype": "object",
         "stats": {
          "unique_count": 3,
          "nan_count": 4,
          "categories": [
           {
            "name": "TRAPPIST-1e",
            "count": 180
           },
           {
            "name": "2 others",
            "count": 79
           },
           {
            "name": "Missing",
            "count": 4
           }
          ]
         }
        },
        {
         "name": "Age",
         "dtype": "float64",
         "stats": {
          "unique_count": 62,
          "nan_count": 0,
          "min": "0.0",
          "max": "72.0",
          "histogram": [
           {
            "bin_start": 0,
            "bin_end": 7.2,
            "count": 22
           },
           {
            "bin_start": 7.2,
            "bin_end": 14.4,
            "count": 15
           },
           {
            "bin_start": 14.4,
            "bin_end": 21.6,
            "count": 60
           },
           {
            "bin_start": 21.6,
            "bin_end": 28.8,
            "count": 67
           },
           {
            "bin_start": 28.8,
            "bin_end": 36,
            "count": 31
           },
           {
            "bin_start": 36,
            "bin_end": 43.2,
            "count": 27
           },
           {
            "bin_start": 43.2,
            "bin_end": 50.4,
            "count": 26
           },
           {
            "bin_start": 50.4,
            "bin_end": 57.6,
            "count": 6
           },
           {
            "bin_start": 57.6,
            "bin_end": 64.8,
            "count": 7
           },
           {
            "bin_start": 64.8,
            "bin_end": 72,
            "count": 2
           }
          ]
         }
        },
        {
         "name": "VIP",
         "dtype": "object",
         "stats": {
          "unique_count": 2,
          "nan_count": 7,
          "categories": [
           {
            "name": "False",
            "count": 252
           },
           {
            "name": "True",
            "count": 4
           },
           {
            "name": "Missing",
            "count": 7
           }
          ]
         }
        },
        {
         "name": "RoomService",
         "dtype": "float64",
         "stats": {
          "unique_count": 0,
          "nan_count": 263,
          "min": null,
          "max": null,
          "histogram": [
           {
            "bin_start": 0,
            "bin_end": 0.1,
            "count": 0
           },
           {
            "bin_start": 0.1,
            "bin_end": 0.2,
            "count": 0
           },
           {
            "bin_start": 0.2,
            "bin_end": 0.30000000000000004,
            "count": 0
           },
           {
            "bin_start": 0.30000000000000004,
            "bin_end": 0.4,
            "count": 0
           },
           {
            "bin_start": 0.4,
            "bin_end": 0.5,
            "count": 0
           },
           {
            "bin_start": 0.5,
            "bin_end": 0.6000000000000001,
            "count": 0
           },
           {
            "bin_start": 0.6000000000000001,
            "bin_end": 0.7000000000000001,
            "count": 0
           },
           {
            "bin_start": 0.7000000000000001,
            "bin_end": 0.8,
            "count": 0
           },
           {
            "bin_start": 0.8,
            "bin_end": 0.9,
            "count": 0
           },
           {
            "bin_start": 0.9,
            "bin_end": 1,
            "count": 0
           }
          ]
         }
        },
        {
         "name": "FoodCourt",
         "dtype": "float64",
         "stats": {
          "unique_count": 82,
          "nan_count": 2,
          "min": "0.0",
          "max": "21066.0",
          "histogram": [
           {
            "bin_start": 0,
            "bin_end": 2106.6,
            "count": 247
           },
           {
            "bin_start": 2106.6,
            "bin_end": 4213.2,
            "count": 7
           },
           {
            "bin_start": 4213.2,
            "bin_end": 6319.799999999999,
            "count": 3
           },
           {
            "bin_start": 6319.799999999999,
            "bin_end": 8426.4,
            "count": 3
           },
           {
            "bin_start": 8426.4,
            "bin_end": 10533,
            "count": 0
           },
           {
            "bin_start": 10533,
            "bin_end": 12639.599999999999,
            "count": 0
           },
           {
            "bin_start": 12639.599999999999,
            "bin_end": 14746.199999999999,
            "count": 0
           },
           {
            "bin_start": 14746.199999999999,
            "bin_end": 16852.8,
            "count": 0
           },
           {
            "bin_start": 16852.8,
            "bin_end": 18959.399999999998,
            "count": 0
           },
           {
            "bin_start": 18959.399999999998,
            "bin_end": 21066,
            "count": 1
           }
          ]
         }
        },
        {
         "name": "ShoppingMall",
         "dtype": "float64",
         "stats": {
          "unique_count": 85,
          "nan_count": 4,
          "min": "0.0",
          "max": "7104.0",
          "histogram": [
           {
            "bin_start": 0,
            "bin_end": 710.4,
            "count": 241
           },
           {
            "bin_start": 710.4,
            "bin_end": 1420.8,
            "count": 10
           },
           {
            "bin_start": 1420.8,
            "bin_end": 2131.2,
            "count": 3
           },
           {
            "bin_start": 2131.2,
            "bin_end": 2841.6,
            "count": 1
           },
           {
            "bin_start": 2841.6,
            "bin_end": 3552,
            "count": 3
           },
           {
            "bin_start": 3552,
            "bin_end": 4262.4,
            "count": 0
           },
           {
            "bin_start": 4262.4,
            "bin_end": 4972.8,
            "count": 0
           },
           {
            "bin_start": 4972.8,
            "bin_end": 5683.2,
            "count": 0
           },
           {
            "bin_start": 5683.2,
            "bin_end": 6393.599999999999,
            "count": 0
           },
           {
            "bin_start": 6393.599999999999,
            "bin_end": 7104,
            "count": 1
           }
          ]
         }
        },
        {
         "name": "Spa",
         "dtype": "float64",
         "stats": {
          "unique_count": 85,
          "nan_count": 6,
          "min": "0.0",
          "max": "6688.0",
          "histogram": [
           {
            "bin_start": 0,
            "bin_end": 668.8,
            "count": 222
           },
           {
            "bin_start": 668.8,
            "bin_end": 1337.6,
            "count": 18
           },
           {
            "bin_start": 1337.6,
            "bin_end": 2006.3999999999999,
            "count": 7
           },
           {
            "bin_start": 2006.3999999999999,
            "bin_end": 2675.2,
            "count": 2
           },
           {
            "bin_start": 2675.2,
            "bin_end": 3344,
            "count": 2
           },
           {
            "bin_start": 3344,
            "bin_end": 4012.7999999999997,
            "count": 0
           },
           {
            "bin_start": 4012.7999999999997,
            "bin_end": 4681.599999999999,
            "count": 2
           },
           {
            "bin_start": 4681.599999999999,
            "bin_end": 5350.4,
            "count": 3
           },
           {
            "bin_start": 5350.4,
            "bin_end": 6019.2,
            "count": 0
           },
           {
            "bin_start": 6019.2,
            "bin_end": 6688,
            "count": 1
           }
          ]
         }
        },
        {
         "name": "VRDeck",
         "dtype": "float64",
         "stats": {
          "unique_count": 81,
          "nan_count": 2,
          "min": "0.0",
          "max": "12685.0",
          "histogram": [
           {
            "bin_start": 0,
            "bin_end": 1268.5,
            "count": 243
           },
           {
            "bin_start": 1268.5,
            "bin_end": 2537,
            "count": 11
           },
           {
            "bin_start": 2537,
            "bin_end": 3805.5,
            "count": 2
           },
           {
            "bin_start": 3805.5,
            "bin_end": 5074,
            "count": 2
           },
           {
            "bin_start": 5074,
            "bin_end": 6342.5,
            "count": 1
           },
           {
            "bin_start": 6342.5,
            "bin_end": 7611,
            "count": 0
           },
           {
            "bin_start": 7611,
            "bin_end": 8879.5,
            "count": 0
           },
           {
            "bin_start": 8879.5,
            "bin_end": 10148,
            "count": 0
           },
           {
            "bin_start": 10148,
            "bin_end": 11416.5,
            "count": 0
           },
           {
            "bin_start": 11416.5,
            "bin_end": 12685,
            "count": 2
           }
          ]
         }
        },
        {
         "name": "Transported",
         "dtype": "object",
         "stats": {
          "unique_count": 2,
          "nan_count": 82,
          "categories": [
           {
            "name": "False",
            "count": 98
           },
           {
            "name": "True",
            "count": 83
           },
           {
            "name": "Missing",
            "count": 82
           }
          ]
         }
        },
        {
         "name": "_deepnote_index_column",
         "dtype": "int64"
        }
       ],
       "rows": [
        {
         "PassengerId": "0020_05",
         "HomePlanet": "Earth",
         "CryoSleep": "True",
         "Cabin": "E/0/S",
         "Destination": "PSO J318.5-22",
         "Age": 1,
         "VIP": "False",
         "RoomService": "nan",
         "FoodCourt": 0,
         "ShoppingMall": 0,
         "Spa": 0,
         "VRDeck": 0,
         "Transported": "False",
         "_deepnote_index_column": 25
        },
        {
         "PassengerId": "0031_03",
         "HomePlanet": "Mars",
         "CryoSleep": "False",
         "Cabin": "F/9/P",
         "Destination": "TRAPPIST-1e",
         "Age": 20,
         "VIP": "False",
         "RoomService": "nan",
         "FoodCourt": 0,
         "ShoppingMall": 1750,
         "Spa": 990,
         "VRDeck": 0,
         "Transported": "True",
         "_deepnote_index_column": 35
        },
        {
         "PassengerId": "0091_01",
         "HomePlanet": "Earth",
         "CryoSleep": "True",
         "Cabin": "G/16/S",
         "Destination": "TRAPPIST-1e",
         "Age": 26,
         "VIP": "False",
         "RoomService": "nan",
         "FoodCourt": 0,
         "ShoppingMall": 0,
         "Spa": 0,
         "VRDeck": 0,
         "Transported": "True",
         "_deepnote_index_column": 83
        },
        {
         "PassengerId": "0141_01",
         "HomePlanet": "Mars",
         "CryoSleep": "False",
         "Cabin": "F/30/P",
         "Destination": "TRAPPIST-1e",
         "Age": 31,
         "VIP": "False",
         "RoomService": "nan",
         "FoodCourt": 0,
         "ShoppingMall": 97,
         "Spa": 0,
         "VRDeck": 0,
         "Transported": "False",
         "_deepnote_index_column": 132
        },
        {
         "PassengerId": "0193_02",
         "HomePlanet": "Mars",
         "CryoSleep": "False",
         "Cabin": "F/41/P",
         "Destination": "TRAPPIST-1e",
         "Age": 23,
         "VIP": "False",
         "RoomService": "nan",
         "FoodCourt": 0,
         "ShoppingMall": 8,
         "Spa": 1072,
         "VRDeck": 0,
         "Transported": "False",
         "_deepnote_index_column": 170
        },
        {
         "PassengerId": "0234_01",
         "HomePlanet": "Earth",
         "CryoSleep": "False",
         "Cabin": "F/50/P",
         "Destination": "TRAPPIST-1e",
         "Age": 43,
         "VIP": "False",
         "RoomService": "nan",
         "FoodCourt": 888,
         "ShoppingMall": 0,
         "Spa": 0,
         "VRDeck": 0,
         "Transported": "False",
         "_deepnote_index_column": 220
        },
        {
         "PassengerId": "0250_01",
         "HomePlanet": "Earth",
         "CryoSleep": "True",
         "Cabin": "G/38/S",
         "Destination": "PSO J318.5-22",
         "Age": 47,
         "VIP": "False",
         "RoomService": "nan",
         "FoodCourt": 0,
         "ShoppingMall": 0,
         "Spa": 0,
         "VRDeck": 0,
         "Transported": "False",
         "_deepnote_index_column": 233
        },
        {
         "PassengerId": "0310_01",
         "HomePlanet": "Europa",
         "CryoSleep": "False",
         "Cabin": "nan",
         "Destination": "TRAPPIST-1e",
         "Age": 67,
         "VIP": "False",
         "RoomService": "nan",
         "FoodCourt": 230,
         "ShoppingMall": 0,
         "Spa": 4476,
         "VRDeck": 241,
         "Transported": "False",
         "_deepnote_index_column": 280
        },
        {
         "PassengerId": "0357_01",
         "HomePlanet": "Earth",
         "CryoSleep": "False",
         "Cabin": "F/65/S",
         "Destination": "TRAPPIST-1e",
         "Age": 41,
         "VIP": "False",
         "RoomService": "nan",
         "FoodCourt": 1198,
         "ShoppingMall": 0,
         "Spa": 124,
         "VRDeck": 572,
         "Transported": "False",
         "_deepnote_index_column": 319
        },
        {
         "PassengerId": "0407_01",
         "HomePlanet": "Earth",
         "CryoSleep": "False",
         "Cabin": "G/69/P",
         "Destination": "TRAPPIST-1e",
         "Age": 23,
         "VIP": "False",
         "RoomService": "nan",
         "FoodCourt": 21,
         "ShoppingMall": 0,
         "Spa": 0,
         "VRDeck": 1699,
         "Transported": "False",
         "_deepnote_index_column": 368
        }
       ]
      },
      "text/plain": "     PassengerId HomePlanet CryoSleep     Cabin    Destination   Age    VIP  \\\n25       0020_05      Earth      True     E/0/S  PSO J318.5-22   1.0  False   \n35       0031_03       Mars     False     F/9/P    TRAPPIST-1e  20.0  False   \n83       0091_01      Earth      True    G/16/S    TRAPPIST-1e  26.0  False   \n132      0141_01       Mars     False    F/30/P    TRAPPIST-1e  31.0  False   \n170      0193_02       Mars     False    F/41/P    TRAPPIST-1e  23.0  False   \n...          ...        ...       ...       ...            ...   ...    ...   \n4119     8950_01      Earth     False  G/1451/P    TRAPPIST-1e  26.0  False   \n4171     9053_01     Europa      True   B/295/P    55 Cancri e  25.0  False   \n4241     9209_01      Earth     False  F/1881/P    55 Cancri e  33.0  False   \n4251     9229_01       Mars     False   E/605/S    TRAPPIST-1e  24.0  False   \n4255     9238_02      Earth      True  G/1501/P    55 Cancri e   3.0  False   \n\n      RoomService  FoodCourt  ShoppingMall     Spa  VRDeck Transported  \n25            NaN        0.0           0.0     0.0     0.0       False  \n35            NaN        0.0        1750.0   990.0     0.0        True  \n83            NaN        0.0           0.0     0.0     0.0        True  \n132           NaN        0.0          97.0     0.0     0.0       False  \n170           NaN        0.0           8.0  1072.0     0.0       False  \n...           ...        ...           ...     ...     ...         ...  \n4119          NaN        0.0         152.0   145.0     3.0         NaN  \n4171          NaN        0.0           0.0     0.0     0.0         NaN  \n4241          NaN      319.0           0.0     0.0     0.0         NaN  \n4251          NaN       32.0         282.0     1.0     0.0         NaN  \n4255          NaN        0.0           0.0     0.0     0.0         NaN  \n\n[263 rows x 13 columns]",
      "text/html": "<div>\n<style scoped>\n    .dataframe tbody tr th:only-of-type {\n        vertical-align: middle;\n    }\n\n    .dataframe tbody tr th {\n        vertical-align: top;\n    }\n\n    .dataframe thead th {\n        text-align: right;\n    }\n</style>\n<table border=\"1\" class=\"dataframe\">\n  <thead>\n    <tr style=\"text-align: right;\">\n      <th></th>\n      <th>PassengerId</th>\n      <th>HomePlanet</th>\n      <th>CryoSleep</th>\n      <th>Cabin</th>\n      <th>Destination</th>\n      <th>Age</th>\n      <th>VIP</th>\n      <th>RoomService</th>\n      <th>FoodCourt</th>\n      <th>ShoppingMall</th>\n      <th>Spa</th>\n      <th>VRDeck</th>\n      <th>Transported</th>\n    </tr>\n  </thead>\n  <tbody>\n    <tr>\n      <th>25</th>\n      <td>0020_05</td>\n      <td>Earth</td>\n      <td>True</td>\n      <td>E/0/S</td>\n      <td>PSO J318.5-22</td>\n      <td>1.0</td>\n      <td>False</td>\n      <td>NaN</td>\n      <td>0.0</td>\n      <td>0.0</td>\n      <td>0.0</td>\n      <td>0.0</td>\n      <td>False</td>\n    </tr>\n    <tr>\n      <th>35</th>\n      <td>0031_03</td>\n      <td>Mars</td>\n      <td>False</td>\n      <td>F/9/P</td>\n      <td>TRAPPIST-1e</td>\n      <td>20.0</td>\n      <td>False</td>\n      <td>NaN</td>\n      <td>0.0</td>\n      <td>1750.0</td>\n      <td>990.0</td>\n      <td>0.0</td>\n      <td>True</td>\n    </tr>\n    <tr>\n      <th>83</th>\n      <td>0091_01</td>\n      <td>Earth</td>\n      <td>True</td>\n      <td>G/16/S</td>\n      <td>TRAPPIST-1e</td>\n      <td>26.0</td>\n      <td>False</td>\n      <td>NaN</td>\n      <td>0.0</td>\n      <td>0.0</td>\n      <td>0.0</td>\n      <td>0.0</td>\n      <td>True</td>\n    </tr>\n    <tr>\n      <th>132</th>\n      <td>0141_01</td>\n      <td>Mars</td>\n      <td>False</td>\n      <td>F/30/P</td>\n      <td>TRAPPIST-1e</td>\n      <td>31.0</td>\n      <td>False</td>\n      <td>NaN</td>\n      <td>0.0</td>\n      <td>97.0</td>\n      <td>0.0</td>\n      <td>0.0</td>\n      <td>False</td>\n    </tr>\n    <tr>\n      <th>170</th>\n      <td>0193_02</td>\n      <td>Mars</td>\n      <td>False</td>\n      <td>F/41/P</td>\n      <td>TRAPPIST-1e</td>\n      <td>23.0</td>\n      <td>False</td>\n      <td>NaN</td>\n      <td>0.0</td>\n      <td>8.0</td>\n      <td>1072.0</td>\n      <td>0.0</td>\n      <td>False</td>\n    </tr>\n    <tr>\n      <th>...</th>\n      <td>...</td>\n      <td>...</td>\n      <td>...</td>\n      <td>...</td>\n      <td>...</td>\n      <td>...</td>\n      <td>...</td>\n      <td>...</td>\n      <td>...</td>\n      <td>...</td>\n      <td>...</td>\n      <td>...</td>\n      <td>...</td>\n    </tr>\n    <tr>\n      <th>4119</th>\n      <td>8950_01</td>\n      <td>Earth</td>\n      <td>False</td>\n      <td>G/1451/P</td>\n      <td>TRAPPIST-1e</td>\n      <td>26.0</td>\n      <td>False</td>\n      <td>NaN</td>\n      <td>0.0</td>\n      <td>152.0</td>\n      <td>145.0</td>\n      <td>3.0</td>\n      <td>NaN</td>\n    </tr>\n    <tr>\n      <th>4171</th>\n      <td>9053_01</td>\n      <td>Europa</td>\n      <td>True</td>\n      <td>B/295/P</td>\n      <td>55 Cancri e</td>\n      <td>25.0</td>\n      <td>False</td>\n      <td>NaN</td>\n      <td>0.0</td>\n      <td>0.0</td>\n      <td>0.0</td>\n      <td>0.0</td>\n      <td>NaN</td>\n    </tr>\n    <tr>\n      <th>4241</th>\n      <td>9209_01</td>\n      <td>Earth</td>\n      <td>False</td>\n      <td>F/1881/P</td>\n      <td>55 Cancri e</td>\n      <td>33.0</td>\n      <td>False</td>\n      <td>NaN</td>\n      <td>319.0</td>\n      <td>0.0</td>\n      <td>0.0</td>\n      <td>0.0</td>\n      <td>NaN</td>\n    </tr>\n    <tr>\n      <th>4251</th>\n      <td>9229_01</td>\n      <td>Mars</td>\n      <td>False</td>\n      <td>E/605/S</td>\n      <td>TRAPPIST-1e</td>\n      <td>24.0</td>\n      <td>False</td>\n      <td>NaN</td>\n      <td>32.0</td>\n      <td>282.0</td>\n      <td>1.0</td>\n      <td>0.0</td>\n      <td>NaN</td>\n    </tr>\n    <tr>\n      <th>4255</th>\n      <td>9238_02</td>\n      <td>Earth</td>\n      <td>True</td>\n      <td>G/1501/P</td>\n      <td>55 Cancri e</td>\n      <td>3.0</td>\n      <td>False</td>\n      <td>NaN</td>\n      <td>0.0</td>\n      <td>0.0</td>\n      <td>0.0</td>\n      <td>0.0</td>\n      <td>NaN</td>\n    </tr>\n  </tbody>\n</table>\n<p>263 rows × 13 columns</p>\n</div>"
     },
     "metadata": {}
    }
   ]
  },
  {
   "cell_type": "code",
   "metadata": {
    "cell_id": "5505645d1ea447b593e985c11b002fb9",
    "tags": [],
    "deepnote_to_be_reexecuted": false,
    "source_hash": "89ac1d51",
    "execution_start": 1657623601731,
    "execution_millis": 6,
    "deepnote_cell_type": "code",
    "deepnote_cell_height": 170.9375
   },
   "source": "df_train['RoomService'].fillna((df_train['RoomService'].mean()), inplace=True)\ndf_train['ShoppingMall'].fillna((df_train['ShoppingMall'].mean()), inplace=True)\ndf_train['Spa'].fillna((df_train['Spa'].mean()), inplace=True)\ndf_train['VRDeck'].fillna((df_train['VRDeck'].mean()), inplace=True)\ndf_train['FoodCourt'].fillna((df_train['FoodCourt'].mean()), inplace=True)\ndf_train['Age'].fillna(int(df_train['Age'].mean()), inplace=True)",
   "execution_count": 10,
   "outputs": []
  },
  {
   "cell_type": "code",
   "metadata": {
    "cell_id": "c79d115fffb944c5985c4dbff9341d57",
    "tags": [],
    "deepnote_to_be_reexecuted": false,
    "source_hash": "db047a86",
    "execution_start": 1657623601744,
    "execution_millis": 6,
    "deepnote_cell_type": "code",
    "deepnote_cell_height": 152.9375
   },
   "source": "df_train['HomePlanet'] = df_train['HomePlanet'].fillna('Earth')\ndf_train['CryoSleep'] = df_train['CryoSleep'].fillna('False')\ndf_train['Destination'] = df_train['Destination'].fillna('TRAPPIST-1e')\ndf_train['VIP'] = df_train['VIP'].fillna('False')\ndf_train['Cabin'] = df_train['Cabin'].fillna('B/0/P')",
   "execution_count": 11,
   "outputs": []
  },
  {
   "cell_type": "code",
   "metadata": {
    "cell_id": "ed07835ab5794e9c836154e642f3f85f",
    "tags": [],
    "deepnote_to_be_reexecuted": false,
    "source_hash": "86c9f135",
    "execution_start": 1657623601758,
    "execution_millis": 12,
    "deepnote_cell_type": "code",
    "deepnote_cell_height": 80.9375
   },
   "source": "df_train_drop = df_train.dropna()",
   "execution_count": 12,
   "outputs": []
  },
  {
   "cell_type": "code",
   "metadata": {
    "cell_id": "b8321229d9b84b8b8706bfa6727815f9",
    "tags": [],
    "deepnote_to_be_reexecuted": false,
    "source_hash": "942d7689",
    "execution_start": 1657623601774,
    "execution_millis": 85,
    "deepnote_cell_type": "code",
    "deepnote_cell_height": 616.453125
   },
   "source": "df_train_drop",
   "execution_count": 13,
   "outputs": [
    {
     "output_type": "execute_result",
     "execution_count": 13,
     "data": {
      "application/vnd.deepnote.dataframe.v3+json": {
       "column_count": 13,
       "row_count": 8693,
       "columns": [
        {
         "name": "PassengerId",
         "dtype": "object",
         "stats": {
          "unique_count": 8693,
          "nan_count": 0,
          "categories": [
           {
            "name": "0001_01",
            "count": 1
           },
           {
            "name": "0002_01",
            "count": 1
           },
           {
            "name": "8691 others",
            "count": 8691
           }
          ]
         }
        },
        {
         "name": "HomePlanet",
         "dtype": "object",
         "stats": {
          "unique_count": 3,
          "nan_count": 0,
          "categories": [
           {
            "name": "Earth",
            "count": 4803
           },
           {
            "name": "Europa",
            "count": 2131
           },
           {
            "name": "Mars",
            "count": 1759
           }
          ]
         }
        },
        {
         "name": "CryoSleep",
         "dtype": "object",
         "stats": {
          "unique_count": 3,
          "nan_count": 0,
          "categories": [
           {
            "name": "False",
            "count": 5656
           },
           {
            "name": "True",
            "count": 3037
           }
          ]
         }
        },
        {
         "name": "Cabin",
         "dtype": "object",
         "stats": {
          "unique_count": 6560,
          "nan_count": 0,
          "categories": [
           {
            "name": "B/0/P",
            "count": 200
           },
           {
            "name": "G/734/S",
            "count": 8
           },
           {
            "name": "6558 others",
            "count": 8485
           }
          ]
         }
        },
        {
         "name": "Destination",
         "dtype": "object",
         "stats": {
          "unique_count": 3,
          "nan_count": 0,
          "categories": [
           {
            "name": "TRAPPIST-1e",
            "count": 6097
           },
           {
            "name": "55 Cancri e",
            "count": 1800
           },
           {
            "name": "PSO J318.5-22",
            "count": 796
           }
          ]
         }
        },
        {
         "name": "Age",
         "dtype": "float64",
         "stats": {
          "unique_count": 80,
          "nan_count": 0,
          "min": "0.0",
          "max": "79.0",
          "histogram": [
           {
            "bin_start": 0,
            "bin_end": 7.9,
            "count": 591
           },
           {
            "bin_start": 7.9,
            "bin_end": 15.8,
            "count": 649
           },
           {
            "bin_start": 15.8,
            "bin_end": 23.700000000000003,
            "count": 2089
           },
           {
            "bin_start": 23.700000000000003,
            "bin_end": 31.6,
            "count": 2155
           },
           {
            "bin_start": 31.6,
            "bin_end": 39.5,
            "count": 1350
           },
           {
            "bin_start": 39.5,
            "bin_end": 47.400000000000006,
            "count": 893
           },
           {
            "bin_start": 47.400000000000006,
            "bin_end": 55.300000000000004,
            "count": 536
           },
           {
            "bin_start": 55.300000000000004,
            "bin_end": 63.2,
            "count": 294
           },
           {
            "bin_start": 63.2,
            "bin_end": 71.10000000000001,
            "count": 106
           },
           {
            "bin_start": 71.10000000000001,
            "bin_end": 79,
            "count": 30
           }
          ]
         }
        },
        {
         "name": "VIP",
         "dtype": "object",
         "stats": {
          "unique_count": 3,
          "nan_count": 0,
          "categories": [
           {
            "name": "False",
            "count": 8494
           },
           {
            "name": "True",
            "count": 199
           }
          ]
         }
        },
        {
         "name": "RoomService",
         "dtype": "float64",
         "stats": {
          "unique_count": 1274,
          "nan_count": 0,
          "min": "0.0",
          "max": "14327.0",
          "histogram": [
           {
            "bin_start": 0,
            "bin_end": 1432.7,
            "count": 8337
           },
           {
            "bin_start": 1432.7,
            "bin_end": 2865.4,
            "count": 254
           },
           {
            "bin_start": 2865.4,
            "bin_end": 4298.1,
            "count": 65
           },
           {
            "bin_start": 4298.1,
            "bin_end": 5730.8,
            "count": 17
           },
           {
            "bin_start": 5730.8,
            "bin_end": 7163.5,
            "count": 9
           },
           {
            "bin_start": 7163.5,
            "bin_end": 8596.2,
            "count": 9
           },
           {
            "bin_start": 8596.2,
            "bin_end": 10028.9,
            "count": 1
           },
           {
            "bin_start": 10028.9,
            "bin_end": 11461.6,
            "count": 0
           },
           {
            "bin_start": 11461.6,
            "bin_end": 12894.300000000001,
            "count": 0
           },
           {
            "bin_start": 12894.300000000001,
            "bin_end": 14327,
            "count": 1
           }
          ]
         }
        },
        {
         "name": "FoodCourt",
         "dtype": "float64",
         "stats": {
          "unique_count": 1508,
          "nan_count": 0,
          "min": "0.0",
          "max": "29813.0",
          "histogram": [
           {
            "bin_start": 0,
            "bin_end": 2981.3,
            "count": 8297
           },
           {
            "bin_start": 2981.3,
            "bin_end": 5962.6,
            "count": 250
           },
           {
            "bin_start": 5962.6,
            "bin_end": 8943.900000000001,
            "count": 80
           },
           {
            "bin_start": 8943.900000000001,
            "bin_end": 11925.2,
            "count": 34
           },
           {
            "bin_start": 11925.2,
            "bin_end": 14906.5,
            "count": 15
           },
           {
            "bin_start": 14906.5,
            "bin_end": 17887.800000000003,
            "count": 9
           },
           {
            "bin_start": 17887.800000000003,
            "bin_end": 20869.100000000002,
            "count": 3
           },
           {
            "bin_start": 20869.100000000002,
            "bin_end": 23850.4,
            "count": 1
           },
           {
            "bin_start": 23850.4,
            "bin_end": 26831.7,
            "count": 1
           },
           {
            "bin_start": 26831.7,
            "bin_end": 29813,
            "count": 3
           }
          ]
         }
        },
        {
         "name": "ShoppingMall",
         "dtype": "float64",
         "stats": {
          "unique_count": 1116,
          "nan_count": 0,
          "min": "0.0",
          "max": "23492.0",
          "histogram": [
           {
            "bin_start": 0,
            "bin_end": 2349.2,
            "count": 8609
           },
           {
            "bin_start": 2349.2,
            "bin_end": 4698.4,
            "count": 62
           },
           {
            "bin_start": 4698.4,
            "bin_end": 7047.599999999999,
            "count": 13
           },
           {
            "bin_start": 7047.599999999999,
            "bin_end": 9396.8,
            "count": 5
           },
           {
            "bin_start": 9396.8,
            "bin_end": 11746,
            "count": 2
           },
           {
            "bin_start": 11746,
            "bin_end": 14095.199999999999,
            "count": 1
           },
           {
            "bin_start": 14095.199999999999,
            "bin_end": 16444.399999999998,
            "count": 0
           },
           {
            "bin_start": 16444.399999999998,
            "bin_end": 18793.6,
            "count": 0
           },
           {
            "bin_start": 18793.6,
            "bin_end": 21142.8,
            "count": 0
           },
           {
            "bin_start": 21142.8,
            "bin_end": 23492,
            "count": 1
           }
          ]
         }
        },
        {
         "name": "Spa",
         "dtype": "float64",
         "stats": {
          "unique_count": 1328,
          "nan_count": 0,
          "min": "0.0",
          "max": "22408.0",
          "histogram": [
           {
            "bin_start": 0,
            "bin_end": 2240.8,
            "count": 8387
           },
           {
            "bin_start": 2240.8,
            "bin_end": 4481.6,
            "count": 180
           },
           {
            "bin_start": 4481.6,
            "bin_end": 6722.400000000001,
            "count": 73
           },
           {
            "bin_start": 6722.400000000001,
            "bin_end": 8963.2,
            "count": 22
           },
           {
            "bin_start": 8963.2,
            "bin_end": 11204,
            "count": 15
           },
           {
            "bin_start": 11204,
            "bin_end": 13444.800000000001,
            "count": 6
           },
           {
            "bin_start": 13444.800000000001,
            "bin_end": 15685.600000000002,
            "count": 6
           },
           {
            "bin_start": 15685.600000000002,
            "bin_end": 17926.4,
            "count": 2
           },
           {
            "bin_start": 17926.4,
            "bin_end": 20167.2,
            "count": 1
           },
           {
            "bin_start": 20167.2,
            "bin_end": 22408,
            "count": 1
           }
          ]
         }
        },
        {
         "name": "VRDeck",
         "dtype": "float64"
        },
        {
         "name": "Transported",
         "dtype": "object"
        },
        {
         "name": "_deepnote_index_column",
         "dtype": "int64"
        }
       ],
       "rows": [
        {
         "PassengerId": "0001_01",
         "HomePlanet": "Europa",
         "CryoSleep": "False",
         "Cabin": "B/0/P",
         "Destination": "TRAPPIST-1e",
         "Age": 39,
         "VIP": "False",
         "RoomService": 0,
         "FoodCourt": 0,
         "ShoppingMall": 0,
         "Spa": 0,
         "VRDeck": 0,
         "Transported": "False",
         "_deepnote_index_column": 0
        },
        {
         "PassengerId": "0002_01",
         "HomePlanet": "Earth",
         "CryoSleep": "False",
         "Cabin": "F/0/S",
         "Destination": "TRAPPIST-1e",
         "Age": 24,
         "VIP": "False",
         "RoomService": 109,
         "FoodCourt": 9,
         "ShoppingMall": 25,
         "Spa": 549,
         "VRDeck": 44,
         "Transported": "True",
         "_deepnote_index_column": 1
        },
        {
         "PassengerId": "0003_01",
         "HomePlanet": "Europa",
         "CryoSleep": "False",
         "Cabin": "A/0/S",
         "Destination": "TRAPPIST-1e",
         "Age": 58,
         "VIP": "True",
         "RoomService": 43,
         "FoodCourt": 3576,
         "ShoppingMall": 0,
         "Spa": 6715,
         "VRDeck": 49,
         "Transported": "False",
         "_deepnote_index_column": 2
        },
        {
         "PassengerId": "0003_02",
         "HomePlanet": "Europa",
         "CryoSleep": "False",
         "Cabin": "A/0/S",
         "Destination": "TRAPPIST-1e",
         "Age": 33,
         "VIP": "False",
         "RoomService": 0,
         "FoodCourt": 1283,
         "ShoppingMall": 371,
         "Spa": 3329,
         "VRDeck": 193,
         "Transported": "False",
         "_deepnote_index_column": 3
        },
        {
         "PassengerId": "0004_01",
         "HomePlanet": "Earth",
         "CryoSleep": "False",
         "Cabin": "F/1/S",
         "Destination": "TRAPPIST-1e",
         "Age": 16,
         "VIP": "False",
         "RoomService": 303,
         "FoodCourt": 70,
         "ShoppingMall": 151,
         "Spa": 565,
         "VRDeck": 2,
         "Transported": "True",
         "_deepnote_index_column": 4
        },
        {
         "PassengerId": "0005_01",
         "HomePlanet": "Earth",
         "CryoSleep": "False",
         "Cabin": "F/0/P",
         "Destination": "PSO J318.5-22",
         "Age": 44,
         "VIP": "False",
         "RoomService": 0,
         "FoodCourt": 483,
         "ShoppingMall": 0,
         "Spa": 291,
         "VRDeck": 0,
         "Transported": "True",
         "_deepnote_index_column": 5
        },
        {
         "PassengerId": "0006_01",
         "HomePlanet": "Earth",
         "CryoSleep": "False",
         "Cabin": "F/2/S",
         "Destination": "TRAPPIST-1e",
         "Age": 26,
         "VIP": "False",
         "RoomService": 42,
         "FoodCourt": 1539,
         "ShoppingMall": 3,
         "Spa": 0,
         "VRDeck": 0,
         "Transported": "True",
         "_deepnote_index_column": 6
        },
        {
         "PassengerId": "0006_02",
         "HomePlanet": "Earth",
         "CryoSleep": "True",
         "Cabin": "G/0/S",
         "Destination": "TRAPPIST-1e",
         "Age": 28,
         "VIP": "False",
         "RoomService": 0,
         "FoodCourt": 0,
         "ShoppingMall": 0,
         "Spa": 0,
         "VRDeck": 306.7894819713431,
         "Transported": "True",
         "_deepnote_index_column": 7
        },
        {
         "PassengerId": "0007_01",
         "HomePlanet": "Earth",
         "CryoSleep": "False",
         "Cabin": "F/3/S",
         "Destination": "TRAPPIST-1e",
         "Age": 35,
         "VIP": "False",
         "RoomService": 0,
         "FoodCourt": 785,
         "ShoppingMall": 17,
         "Spa": 216,
         "VRDeck": 0,
         "Transported": "True",
         "_deepnote_index_column": 8
        },
        {
         "PassengerId": "0008_01",
         "HomePlanet": "Europa",
         "CryoSleep": "True",
         "Cabin": "B/1/P",
         "Destination": "55 Cancri e",
         "Age": 14,
         "VIP": "False",
         "RoomService": 0,
         "FoodCourt": 0,
         "ShoppingMall": 0,
         "Spa": 0,
         "VRDeck": 0,
         "Transported": "True",
         "_deepnote_index_column": 9
        }
       ]
      },
      "text/plain": "     PassengerId HomePlanet CryoSleep     Cabin    Destination   Age    VIP  \\\n0        0001_01     Europa     False     B/0/P    TRAPPIST-1e  39.0  False   \n1        0002_01      Earth     False     F/0/S    TRAPPIST-1e  24.0  False   \n2        0003_01     Europa     False     A/0/S    TRAPPIST-1e  58.0   True   \n3        0003_02     Europa     False     A/0/S    TRAPPIST-1e  33.0  False   \n4        0004_01      Earth     False     F/1/S    TRAPPIST-1e  16.0  False   \n...          ...        ...       ...       ...            ...   ...    ...   \n8688     9276_01     Europa     False    A/98/P    55 Cancri e  41.0   True   \n8689     9278_01      Earth      True  G/1499/S  PSO J318.5-22  18.0  False   \n8690     9279_01      Earth     False  G/1500/S    TRAPPIST-1e  26.0  False   \n8691     9280_01     Europa     False   E/608/S    55 Cancri e  32.0  False   \n8692     9280_02     Europa     False   E/608/S    TRAPPIST-1e  44.0  False   \n\n      RoomService  FoodCourt  ShoppingMall     Spa  VRDeck Transported  \n0             0.0        0.0           0.0     0.0     0.0       False  \n1           109.0        9.0          25.0   549.0    44.0        True  \n2            43.0     3576.0           0.0  6715.0    49.0       False  \n3             0.0     1283.0         371.0  3329.0   193.0       False  \n4           303.0       70.0         151.0   565.0     2.0        True  \n...           ...        ...           ...     ...     ...         ...  \n8688          0.0     6819.0           0.0  1643.0    74.0       False  \n8689          0.0        0.0           0.0     0.0     0.0       False  \n8690          0.0        0.0        1872.0     1.0     0.0        True  \n8691          0.0     1049.0           0.0   353.0  3235.0       False  \n8692        126.0     4688.0           0.0     0.0    12.0        True  \n\n[8693 rows x 13 columns]",
      "text/html": "<div>\n<style scoped>\n    .dataframe tbody tr th:only-of-type {\n        vertical-align: middle;\n    }\n\n    .dataframe tbody tr th {\n        vertical-align: top;\n    }\n\n    .dataframe thead th {\n        text-align: right;\n    }\n</style>\n<table border=\"1\" class=\"dataframe\">\n  <thead>\n    <tr style=\"text-align: right;\">\n      <th></th>\n      <th>PassengerId</th>\n      <th>HomePlanet</th>\n      <th>CryoSleep</th>\n      <th>Cabin</th>\n      <th>Destination</th>\n      <th>Age</th>\n      <th>VIP</th>\n      <th>RoomService</th>\n      <th>FoodCourt</th>\n      <th>ShoppingMall</th>\n      <th>Spa</th>\n      <th>VRDeck</th>\n      <th>Transported</th>\n    </tr>\n  </thead>\n  <tbody>\n    <tr>\n      <th>0</th>\n      <td>0001_01</td>\n      <td>Europa</td>\n      <td>False</td>\n      <td>B/0/P</td>\n      <td>TRAPPIST-1e</td>\n      <td>39.0</td>\n      <td>False</td>\n      <td>0.0</td>\n      <td>0.0</td>\n      <td>0.0</td>\n      <td>0.0</td>\n      <td>0.0</td>\n      <td>False</td>\n    </tr>\n    <tr>\n      <th>1</th>\n      <td>0002_01</td>\n      <td>Earth</td>\n      <td>False</td>\n      <td>F/0/S</td>\n      <td>TRAPPIST-1e</td>\n      <td>24.0</td>\n      <td>False</td>\n      <td>109.0</td>\n      <td>9.0</td>\n      <td>25.0</td>\n      <td>549.0</td>\n      <td>44.0</td>\n      <td>True</td>\n    </tr>\n    <tr>\n      <th>2</th>\n      <td>0003_01</td>\n      <td>Europa</td>\n      <td>False</td>\n      <td>A/0/S</td>\n      <td>TRAPPIST-1e</td>\n      <td>58.0</td>\n      <td>True</td>\n      <td>43.0</td>\n      <td>3576.0</td>\n      <td>0.0</td>\n      <td>6715.0</td>\n      <td>49.0</td>\n      <td>False</td>\n    </tr>\n    <tr>\n      <th>3</th>\n      <td>0003_02</td>\n      <td>Europa</td>\n      <td>False</td>\n      <td>A/0/S</td>\n      <td>TRAPPIST-1e</td>\n      <td>33.0</td>\n      <td>False</td>\n      <td>0.0</td>\n      <td>1283.0</td>\n      <td>371.0</td>\n      <td>3329.0</td>\n      <td>193.0</td>\n      <td>False</td>\n    </tr>\n    <tr>\n      <th>4</th>\n      <td>0004_01</td>\n      <td>Earth</td>\n      <td>False</td>\n      <td>F/1/S</td>\n      <td>TRAPPIST-1e</td>\n      <td>16.0</td>\n      <td>False</td>\n      <td>303.0</td>\n      <td>70.0</td>\n      <td>151.0</td>\n      <td>565.0</td>\n      <td>2.0</td>\n      <td>True</td>\n    </tr>\n    <tr>\n      <th>...</th>\n      <td>...</td>\n      <td>...</td>\n      <td>...</td>\n      <td>...</td>\n      <td>...</td>\n      <td>...</td>\n      <td>...</td>\n      <td>...</td>\n      <td>...</td>\n      <td>...</td>\n      <td>...</td>\n      <td>...</td>\n      <td>...</td>\n    </tr>\n    <tr>\n      <th>8688</th>\n      <td>9276_01</td>\n      <td>Europa</td>\n      <td>False</td>\n      <td>A/98/P</td>\n      <td>55 Cancri e</td>\n      <td>41.0</td>\n      <td>True</td>\n      <td>0.0</td>\n      <td>6819.0</td>\n      <td>0.0</td>\n      <td>1643.0</td>\n      <td>74.0</td>\n      <td>False</td>\n    </tr>\n    <tr>\n      <th>8689</th>\n      <td>9278_01</td>\n      <td>Earth</td>\n      <td>True</td>\n      <td>G/1499/S</td>\n      <td>PSO J318.5-22</td>\n      <td>18.0</td>\n      <td>False</td>\n      <td>0.0</td>\n      <td>0.0</td>\n      <td>0.0</td>\n      <td>0.0</td>\n      <td>0.0</td>\n      <td>False</td>\n    </tr>\n    <tr>\n      <th>8690</th>\n      <td>9279_01</td>\n      <td>Earth</td>\n      <td>False</td>\n      <td>G/1500/S</td>\n      <td>TRAPPIST-1e</td>\n      <td>26.0</td>\n      <td>False</td>\n      <td>0.0</td>\n      <td>0.0</td>\n      <td>1872.0</td>\n      <td>1.0</td>\n      <td>0.0</td>\n      <td>True</td>\n    </tr>\n    <tr>\n      <th>8691</th>\n      <td>9280_01</td>\n      <td>Europa</td>\n      <td>False</td>\n      <td>E/608/S</td>\n      <td>55 Cancri e</td>\n      <td>32.0</td>\n      <td>False</td>\n      <td>0.0</td>\n      <td>1049.0</td>\n      <td>0.0</td>\n      <td>353.0</td>\n      <td>3235.0</td>\n      <td>False</td>\n    </tr>\n    <tr>\n      <th>8692</th>\n      <td>9280_02</td>\n      <td>Europa</td>\n      <td>False</td>\n      <td>E/608/S</td>\n      <td>TRAPPIST-1e</td>\n      <td>44.0</td>\n      <td>False</td>\n      <td>126.0</td>\n      <td>4688.0</td>\n      <td>0.0</td>\n      <td>0.0</td>\n      <td>12.0</td>\n      <td>True</td>\n    </tr>\n  </tbody>\n</table>\n<p>8693 rows × 13 columns</p>\n</div>"
     },
     "metadata": {}
    }
   ]
  },
  {
   "cell_type": "code",
   "metadata": {
    "cell_id": "0d3aef284d3f45789f8e70481180f169",
    "tags": [],
    "deepnote_to_be_reexecuted": false,
    "source_hash": "8bf76329",
    "execution_start": 1657623601865,
    "execution_millis": 5,
    "deepnote_cell_type": "code",
    "deepnote_cell_height": 80.9375
   },
   "source": "df_train_drop = pd.get_dummies(df_train_drop, columns = ['HomePlanet', 'Destination'])",
   "execution_count": 14,
   "outputs": []
  },
  {
   "cell_type": "code",
   "metadata": {
    "cell_id": "dbf0318a31d74c118648320e95bb7532",
    "tags": [],
    "deepnote_to_be_reexecuted": false,
    "source_hash": "a85c81ea",
    "execution_start": 1657623601880,
    "execution_millis": 6,
    "deepnote_cell_type": "code",
    "deepnote_cell_height": 170.9375
   },
   "source": "df_split = df_train_drop['Cabin'].str.split(pat='/')\ndf_spl = []\nfor i in df_split:\n    df_spl.append(i[2])\n\ndf_train_drop['Side'] = df_spl",
   "execution_count": 15,
   "outputs": []
  },
  {
   "cell_type": "code",
   "metadata": {
    "cell_id": "a389b592b461473ea988651ba07139b2",
    "tags": [],
    "deepnote_to_be_reexecuted": false,
    "source_hash": "eb2dc587",
    "execution_start": 1657623601891,
    "execution_millis": 6,
    "deepnote_cell_type": "code",
    "deepnote_cell_height": 80.9375
   },
   "source": "df_train_drop.drop('Cabin', axis=1, inplace=True)",
   "execution_count": 16,
   "outputs": []
  },
  {
   "cell_type": "code",
   "metadata": {
    "cell_id": "34e38a37aecf421db725848a07342db3",
    "tags": [],
    "deepnote_to_be_reexecuted": false,
    "source_hash": "446d5c2d",
    "execution_start": 1657623601900,
    "execution_millis": 5,
    "deepnote_cell_type": "code",
    "deepnote_cell_height": 80.9375
   },
   "source": "df_train_drop['CryoSleep'] = df_train_drop['CryoSleep'].map({False:0, True:1})",
   "execution_count": 17,
   "outputs": []
  },
  {
   "cell_type": "code",
   "metadata": {
    "cell_id": "93a2d501beb24c86b1663aad73ad25e7",
    "tags": [],
    "deepnote_to_be_reexecuted": false,
    "source_hash": "a938db1e",
    "execution_start": 1657623601910,
    "execution_millis": 2,
    "deepnote_cell_type": "code",
    "deepnote_cell_height": 98.921875
   },
   "source": "df_train_drop['VIP'] = df_train_drop['VIP'].map({False:0, True:1})\n",
   "execution_count": 18,
   "outputs": []
  },
  {
   "cell_type": "code",
   "metadata": {
    "cell_id": "72bb7305eac54615a92640f5024e2e40",
    "tags": [],
    "deepnote_to_be_reexecuted": false,
    "source_hash": "718d529e",
    "execution_start": 1657623601916,
    "execution_millis": 4,
    "deepnote_cell_type": "code",
    "deepnote_cell_height": 80.9375
   },
   "source": "df_train_drop['Side'] = df_train_drop['Side'].map({'P':0, 'S':1})",
   "execution_count": 19,
   "outputs": []
  },
  {
   "cell_type": "code",
   "metadata": {
    "cell_id": "49475e2227c642359a0eb7cf79153c7a",
    "tags": [],
    "deepnote_to_be_reexecuted": false,
    "source_hash": "86f77d75",
    "execution_start": 1657623601926,
    "execution_millis": 86,
    "deepnote_table_state": {
     "pageSize": 10,
     "pageIndex": 1,
     "filters": [],
     "sortBy": []
    },
    "deepnote_table_loading": false,
    "deepnote_cell_type": "code",
    "deepnote_cell_height": 652.921875
   },
   "source": "df_train_drop['CryoSleep'] = df_train_drop['CryoSleep'].fillna(0)\ndf_train_drop['VIP'] = df_train_drop['VIP'].fillna(0)\ndf_train_drop",
   "execution_count": 20,
   "outputs": [
    {
     "output_type": "execute_result",
     "execution_count": 20,
     "data": {
      "application/vnd.deepnote.dataframe.v3+json": {
       "column_count": 17,
       "row_count": 8693,
       "columns": [
        {
         "name": "PassengerId",
         "dtype": "object",
         "stats": {
          "unique_count": 8693,
          "nan_count": 0,
          "categories": [
           {
            "name": "0001_01",
            "count": 1
           },
           {
            "name": "0002_01",
            "count": 1
           },
           {
            "name": "8691 others",
            "count": 8691
           }
          ]
         }
        },
        {
         "name": "CryoSleep",
         "dtype": "float64",
         "stats": {
          "unique_count": 2,
          "nan_count": 0,
          "min": "0.0",
          "max": "1.0",
          "histogram": [
           {
            "bin_start": 0,
            "bin_end": 0.1,
            "count": 5656
           },
           {
            "bin_start": 0.1,
            "bin_end": 0.2,
            "count": 0
           },
           {
            "bin_start": 0.2,
            "bin_end": 0.30000000000000004,
            "count": 0
           },
           {
            "bin_start": 0.30000000000000004,
            "bin_end": 0.4,
            "count": 0
           },
           {
            "bin_start": 0.4,
            "bin_end": 0.5,
            "count": 0
           },
           {
            "bin_start": 0.5,
            "bin_end": 0.6000000000000001,
            "count": 0
           },
           {
            "bin_start": 0.6000000000000001,
            "bin_end": 0.7000000000000001,
            "count": 0
           },
           {
            "bin_start": 0.7000000000000001,
            "bin_end": 0.8,
            "count": 0
           },
           {
            "bin_start": 0.8,
            "bin_end": 0.9,
            "count": 0
           },
           {
            "bin_start": 0.9,
            "bin_end": 1,
            "count": 3037
           }
          ]
         }
        },
        {
         "name": "Age",
         "dtype": "float64",
         "stats": {
          "unique_count": 80,
          "nan_count": 0,
          "min": "0.0",
          "max": "79.0",
          "histogram": [
           {
            "bin_start": 0,
            "bin_end": 7.9,
            "count": 591
           },
           {
            "bin_start": 7.9,
            "bin_end": 15.8,
            "count": 649
           },
           {
            "bin_start": 15.8,
            "bin_end": 23.700000000000003,
            "count": 2089
           },
           {
            "bin_start": 23.700000000000003,
            "bin_end": 31.6,
            "count": 2155
           },
           {
            "bin_start": 31.6,
            "bin_end": 39.5,
            "count": 1350
           },
           {
            "bin_start": 39.5,
            "bin_end": 47.400000000000006,
            "count": 893
           },
           {
            "bin_start": 47.400000000000006,
            "bin_end": 55.300000000000004,
            "count": 536
           },
           {
            "bin_start": 55.300000000000004,
            "bin_end": 63.2,
            "count": 294
           },
           {
            "bin_start": 63.2,
            "bin_end": 71.10000000000001,
            "count": 106
           },
           {
            "bin_start": 71.10000000000001,
            "bin_end": 79,
            "count": 30
           }
          ]
         }
        },
        {
         "name": "VIP",
         "dtype": "float64",
         "stats": {
          "unique_count": 2,
          "nan_count": 0,
          "min": "0.0",
          "max": "1.0",
          "histogram": [
           {
            "bin_start": 0,
            "bin_end": 0.1,
            "count": 8494
           },
           {
            "bin_start": 0.1,
            "bin_end": 0.2,
            "count": 0
           },
           {
            "bin_start": 0.2,
            "bin_end": 0.30000000000000004,
            "count": 0
           },
           {
            "bin_start": 0.30000000000000004,
            "bin_end": 0.4,
            "count": 0
           },
           {
            "bin_start": 0.4,
            "bin_end": 0.5,
            "count": 0
           },
           {
            "bin_start": 0.5,
            "bin_end": 0.6000000000000001,
            "count": 0
           },
           {
            "bin_start": 0.6000000000000001,
            "bin_end": 0.7000000000000001,
            "count": 0
           },
           {
            "bin_start": 0.7000000000000001,
            "bin_end": 0.8,
            "count": 0
           },
           {
            "bin_start": 0.8,
            "bin_end": 0.9,
            "count": 0
           },
           {
            "bin_start": 0.9,
            "bin_end": 1,
            "count": 199
           }
          ]
         }
        },
        {
         "name": "RoomService",
         "dtype": "float64",
         "stats": {
          "unique_count": 1274,
          "nan_count": 0,
          "min": "0.0",
          "max": "14327.0",
          "histogram": [
           {
            "bin_start": 0,
            "bin_end": 1432.7,
            "count": 8337
           },
           {
            "bin_start": 1432.7,
            "bin_end": 2865.4,
            "count": 254
           },
           {
            "bin_start": 2865.4,
            "bin_end": 4298.1,
            "count": 65
           },
           {
            "bin_start": 4298.1,
            "bin_end": 5730.8,
            "count": 17
           },
           {
            "bin_start": 5730.8,
            "bin_end": 7163.5,
            "count": 9
           },
           {
            "bin_start": 7163.5,
            "bin_end": 8596.2,
            "count": 9
           },
           {
            "bin_start": 8596.2,
            "bin_end": 10028.9,
            "count": 1
           },
           {
            "bin_start": 10028.9,
            "bin_end": 11461.6,
            "count": 0
           },
           {
            "bin_start": 11461.6,
            "bin_end": 12894.300000000001,
            "count": 0
           },
           {
            "bin_start": 12894.300000000001,
            "bin_end": 14327,
            "count": 1
           }
          ]
         }
        },
        {
         "name": "FoodCourt",
         "dtype": "float64",
         "stats": {
          "unique_count": 1508,
          "nan_count": 0,
          "min": "0.0",
          "max": "29813.0",
          "histogram": [
           {
            "bin_start": 0,
            "bin_end": 2981.3,
            "count": 8297
           },
           {
            "bin_start": 2981.3,
            "bin_end": 5962.6,
            "count": 250
           },
           {
            "bin_start": 5962.6,
            "bin_end": 8943.900000000001,
            "count": 80
           },
           {
            "bin_start": 8943.900000000001,
            "bin_end": 11925.2,
            "count": 34
           },
           {
            "bin_start": 11925.2,
            "bin_end": 14906.5,
            "count": 15
           },
           {
            "bin_start": 14906.5,
            "bin_end": 17887.800000000003,
            "count": 9
           },
           {
            "bin_start": 17887.800000000003,
            "bin_end": 20869.100000000002,
            "count": 3
           },
           {
            "bin_start": 20869.100000000002,
            "bin_end": 23850.4,
            "count": 1
           },
           {
            "bin_start": 23850.4,
            "bin_end": 26831.7,
            "count": 1
           },
           {
            "bin_start": 26831.7,
            "bin_end": 29813,
            "count": 3
           }
          ]
         }
        },
        {
         "name": "ShoppingMall",
         "dtype": "float64",
         "stats": {
          "unique_count": 1116,
          "nan_count": 0,
          "min": "0.0",
          "max": "23492.0",
          "histogram": [
           {
            "bin_start": 0,
            "bin_end": 2349.2,
            "count": 8609
           },
           {
            "bin_start": 2349.2,
            "bin_end": 4698.4,
            "count": 62
           },
           {
            "bin_start": 4698.4,
            "bin_end": 7047.599999999999,
            "count": 13
           },
           {
            "bin_start": 7047.599999999999,
            "bin_end": 9396.8,
            "count": 5
           },
           {
            "bin_start": 9396.8,
            "bin_end": 11746,
            "count": 2
           },
           {
            "bin_start": 11746,
            "bin_end": 14095.199999999999,
            "count": 1
           },
           {
            "bin_start": 14095.199999999999,
            "bin_end": 16444.399999999998,
            "count": 0
           },
           {
            "bin_start": 16444.399999999998,
            "bin_end": 18793.6,
            "count": 0
           },
           {
            "bin_start": 18793.6,
            "bin_end": 21142.8,
            "count": 0
           },
           {
            "bin_start": 21142.8,
            "bin_end": 23492,
            "count": 1
           }
          ]
         }
        },
        {
         "name": "Spa",
         "dtype": "float64",
         "stats": {
          "unique_count": 1328,
          "nan_count": 0,
          "min": "0.0",
          "max": "22408.0",
          "histogram": [
           {
            "bin_start": 0,
            "bin_end": 2240.8,
            "count": 8387
           },
           {
            "bin_start": 2240.8,
            "bin_end": 4481.6,
            "count": 180
           },
           {
            "bin_start": 4481.6,
            "bin_end": 6722.400000000001,
            "count": 73
           },
           {
            "bin_start": 6722.400000000001,
            "bin_end": 8963.2,
            "count": 22
           },
           {
            "bin_start": 8963.2,
            "bin_end": 11204,
            "count": 15
           },
           {
            "bin_start": 11204,
            "bin_end": 13444.800000000001,
            "count": 6
           },
           {
            "bin_start": 13444.800000000001,
            "bin_end": 15685.600000000002,
            "count": 6
           },
           {
            "bin_start": 15685.600000000002,
            "bin_end": 17926.4,
            "count": 2
           },
           {
            "bin_start": 17926.4,
            "bin_end": 20167.2,
            "count": 1
           },
           {
            "bin_start": 20167.2,
            "bin_end": 22408,
            "count": 1
           }
          ]
         }
        },
        {
         "name": "VRDeck",
         "dtype": "float64",
         "stats": {
          "unique_count": 1307,
          "nan_count": 0,
          "min": "0.0",
          "max": "24133.0",
          "histogram": [
           {
            "bin_start": 0,
            "bin_end": 2413.3,
            "count": 8440
           },
           {
            "bin_start": 2413.3,
            "bin_end": 4826.6,
            "count": 136
           },
           {
            "bin_start": 4826.6,
            "bin_end": 7239.900000000001,
            "count": 60
           },
           {
            "bin_start": 7239.900000000001,
            "bin_end": 9653.2,
            "count": 26
           },
           {
            "bin_start": 9653.2,
            "bin_end": 12066.5,
            "count": 18
           },
           {
            "bin_start": 12066.5,
            "bin_end": 14479.800000000001,
            "count": 7
           },
           {
            "bin_start": 14479.800000000001,
            "bin_end": 16893.100000000002,
            "count": 2
           },
           {
            "bin_start": 16893.100000000002,
            "bin_end": 19306.4,
            "count": 2
           },
           {
            "bin_start": 19306.4,
            "bin_end": 21719.7,
            "count": 1
           },
           {
            "bin_start": 21719.7,
            "bin_end": 24133,
            "count": 1
           }
          ]
         }
        },
        {
         "name": "Transported",
         "dtype": "object",
         "stats": {
          "unique_count": 2,
          "nan_count": 0,
          "categories": [
           {
            "name": "True",
            "count": 4378
           },
           {
            "name": "False",
            "count": 4315
           }
          ]
         }
        },
        {
         "name": "HomePlanet_Earth",
         "dtype": "uint8",
         "stats": {
          "unique_count": 2,
          "nan_count": 0,
          "min": "0",
          "max": "1",
          "histogram": [
           {
            "bin_start": 0,
            "bin_end": 0.1,
            "count": 3890
           },
           {
            "bin_start": 0.1,
            "bin_end": 0.2,
            "count": 0
           },
           {
            "bin_start": 0.2,
            "bin_end": 0.30000000000000004,
            "count": 0
           },
           {
            "bin_start": 0.30000000000000004,
            "bin_end": 0.4,
            "count": 0
           },
           {
            "bin_start": 0.4,
            "bin_end": 0.5,
            "count": 0
           },
           {
            "bin_start": 0.5,
            "bin_end": 0.6000000000000001,
            "count": 0
           },
           {
            "bin_start": 0.6000000000000001,
            "bin_end": 0.7000000000000001,
            "count": 0
           },
           {
            "bin_start": 0.7000000000000001,
            "bin_end": 0.8,
            "count": 0
           },
           {
            "bin_start": 0.8,
            "bin_end": 0.9,
            "count": 0
           },
           {
            "bin_start": 0.9,
            "bin_end": 1,
            "count": 4803
           }
          ]
         }
        },
        {
         "name": "HomePlanet_Europa",
         "dtype": "uint8"
        },
        {
         "name": "HomePlanet_Mars",
         "dtype": "uint8"
        },
        {
         "name": "Destination_55 Cancri e",
         "dtype": "uint8"
        },
        {
         "name": "Destination_PSO J318.5-22",
         "dtype": "uint8"
        },
        {
         "name": "Destination_TRAPPIST-1e",
         "dtype": "uint8"
        },
        {
         "name": "Side",
         "dtype": "int64"
        },
        {
         "name": "_deepnote_index_column",
         "dtype": "int64"
        }
       ],
       "rows": [
        {
         "PassengerId": "0008_02",
         "CryoSleep": 1,
         "Age": 34,
         "VIP": 0,
         "RoomService": 0,
         "FoodCourt": 0,
         "ShoppingMall": 174.90603284902085,
         "Spa": 0,
         "VRDeck": 0,
         "Transported": "True",
         "HomePlanet_Earth": 0,
         "HomePlanet_Europa": 1,
         "HomePlanet_Mars": 0,
         "Destination_55 Cancri e": 0,
         "Destination_PSO J318.5-22": 0,
         "Destination_TRAPPIST-1e": 1,
         "Side": 0,
         "_deepnote_index_column": 10
        },
        {
         "PassengerId": "0008_03",
         "CryoSleep": 0,
         "Age": 45,
         "VIP": 0,
         "RoomService": 39,
         "FoodCourt": 7295,
         "ShoppingMall": 589,
         "Spa": 110,
         "VRDeck": 124,
         "Transported": "True",
         "HomePlanet_Earth": 0,
         "HomePlanet_Europa": 1,
         "HomePlanet_Mars": 0,
         "Destination_55 Cancri e": 1,
         "Destination_PSO J318.5-22": 0,
         "Destination_TRAPPIST-1e": 0,
         "Side": 0,
         "_deepnote_index_column": 11
        },
        {
         "PassengerId": "0009_01",
         "CryoSleep": 0,
         "Age": 32,
         "VIP": 0,
         "RoomService": 73,
         "FoodCourt": 0,
         "ShoppingMall": 1123,
         "Spa": 0,
         "VRDeck": 113,
         "Transported": "True",
         "HomePlanet_Earth": 0,
         "HomePlanet_Europa": 0,
         "HomePlanet_Mars": 1,
         "Destination_55 Cancri e": 0,
         "Destination_PSO J318.5-22": 0,
         "Destination_TRAPPIST-1e": 1,
         "Side": 0,
         "_deepnote_index_column": 12
        },
        {
         "PassengerId": "0010_01",
         "CryoSleep": 0,
         "Age": 48,
         "VIP": 0,
         "RoomService": 719,
         "FoodCourt": 1,
         "ShoppingMall": 65,
         "Spa": 0,
         "VRDeck": 24,
         "Transported": "False",
         "HomePlanet_Earth": 1,
         "HomePlanet_Europa": 0,
         "HomePlanet_Mars": 0,
         "Destination_55 Cancri e": 0,
         "Destination_PSO J318.5-22": 0,
         "Destination_TRAPPIST-1e": 1,
         "Side": 1,
         "_deepnote_index_column": 13
        },
        {
         "PassengerId": "0011_01",
         "CryoSleep": 0,
         "Age": 28,
         "VIP": 0,
         "RoomService": 8,
         "FoodCourt": 974,
         "ShoppingMall": 12,
         "Spa": 2,
         "VRDeck": 7,
         "Transported": "True",
         "HomePlanet_Earth": 1,
         "HomePlanet_Europa": 0,
         "HomePlanet_Mars": 0,
         "Destination_55 Cancri e": 0,
         "Destination_PSO J318.5-22": 0,
         "Destination_TRAPPIST-1e": 1,
         "Side": 0,
         "_deepnote_index_column": 14
        },
        {
         "PassengerId": "0012_01",
         "CryoSleep": 0,
         "Age": 31,
         "VIP": 0,
         "RoomService": 32,
         "FoodCourt": 0,
         "ShoppingMall": 876,
         "Spa": 0,
         "VRDeck": 0,
         "Transported": "False",
         "HomePlanet_Earth": 1,
         "HomePlanet_Europa": 0,
         "HomePlanet_Mars": 0,
         "Destination_55 Cancri e": 0,
         "Destination_PSO J318.5-22": 0,
         "Destination_TRAPPIST-1e": 1,
         "Side": 0,
         "_deepnote_index_column": 15
        },
        {
         "PassengerId": "0014_01",
         "CryoSleep": 0,
         "Age": 27,
         "VIP": 0,
         "RoomService": 1286,
         "FoodCourt": 122,
         "ShoppingMall": 174.90603284902085,
         "Spa": 0,
         "VRDeck": 0,
         "Transported": "False",
         "HomePlanet_Earth": 0,
         "HomePlanet_Europa": 0,
         "HomePlanet_Mars": 1,
         "Destination_55 Cancri e": 1,
         "Destination_PSO J318.5-22": 0,
         "Destination_TRAPPIST-1e": 0,
         "Side": 0,
         "_deepnote_index_column": 16
        },
        {
         "PassengerId": "0015_01",
         "CryoSleep": 0,
         "Age": 24,
         "VIP": 0,
         "RoomService": 0,
         "FoodCourt": 1,
         "ShoppingMall": 0,
         "Spa": 0,
         "VRDeck": 637,
         "Transported": "False",
         "HomePlanet_Earth": 1,
         "HomePlanet_Europa": 0,
         "HomePlanet_Mars": 0,
         "Destination_55 Cancri e": 1,
         "Destination_PSO J318.5-22": 0,
         "Destination_TRAPPIST-1e": 0,
         "Side": 0,
         "_deepnote_index_column": 17
        },
        {
         "PassengerId": "0016_01",
         "CryoSleep": 1,
         "Age": 45,
         "VIP": 0,
         "RoomService": 0,
         "FoodCourt": 0,
         "ShoppingMall": 0,
         "Spa": 0,
         "VRDeck": 0,
         "Transported": "True",
         "HomePlanet_Earth": 0,
         "HomePlanet_Europa": 0,
         "HomePlanet_Mars": 1,
         "Destination_55 Cancri e": 0,
         "Destination_PSO J318.5-22": 0,
         "Destination_TRAPPIST-1e": 1,
         "Side": 0,
         "_deepnote_index_column": 18
        },
        {
         "PassengerId": "0017_01",
         "CryoSleep": 0,
         "Age": 0,
         "VIP": 0,
         "RoomService": 0,
         "FoodCourt": 0,
         "ShoppingMall": 0,
         "Spa": 0,
         "VRDeck": 0,
         "Transported": "True",
         "HomePlanet_Earth": 1,
         "HomePlanet_Europa": 0,
         "HomePlanet_Mars": 0,
         "Destination_55 Cancri e": 0,
         "Destination_PSO J318.5-22": 0,
         "Destination_TRAPPIST-1e": 1,
         "Side": 0,
         "_deepnote_index_column": 19
        }
       ]
      },
      "text/plain": "     PassengerId  CryoSleep   Age  VIP  RoomService  FoodCourt  ShoppingMall  \\\n0        0001_01        0.0  39.0  0.0          0.0        0.0           0.0   \n1        0002_01        0.0  24.0  0.0        109.0        9.0          25.0   \n2        0003_01        0.0  58.0  1.0         43.0     3576.0           0.0   \n3        0003_02        0.0  33.0  0.0          0.0     1283.0         371.0   \n4        0004_01        0.0  16.0  0.0        303.0       70.0         151.0   \n...          ...        ...   ...  ...          ...        ...           ...   \n8688     9276_01        0.0  41.0  1.0          0.0     6819.0           0.0   \n8689     9278_01        1.0  18.0  0.0          0.0        0.0           0.0   \n8690     9279_01        0.0  26.0  0.0          0.0        0.0        1872.0   \n8691     9280_01        0.0  32.0  0.0          0.0     1049.0           0.0   \n8692     9280_02        0.0  44.0  0.0        126.0     4688.0           0.0   \n\n         Spa  VRDeck Transported  HomePlanet_Earth  HomePlanet_Europa  \\\n0        0.0     0.0       False                 0                  1   \n1      549.0    44.0        True                 1                  0   \n2     6715.0    49.0       False                 0                  1   \n3     3329.0   193.0       False                 0                  1   \n4      565.0     2.0        True                 1                  0   \n...      ...     ...         ...               ...                ...   \n8688  1643.0    74.0       False                 0                  1   \n8689     0.0     0.0       False                 1                  0   \n8690     1.0     0.0        True                 1                  0   \n8691   353.0  3235.0       False                 0                  1   \n8692     0.0    12.0        True                 0                  1   \n\n      HomePlanet_Mars  Destination_55 Cancri e  Destination_PSO J318.5-22  \\\n0                   0                        0                          0   \n1                   0                        0                          0   \n2                   0                        0                          0   \n3                   0                        0                          0   \n4                   0                        0                          0   \n...               ...                      ...                        ...   \n8688                0                        1                          0   \n8689                0                        0                          1   \n8690                0                        0                          0   \n8691                0                        1                          0   \n8692                0                        0                          0   \n\n      Destination_TRAPPIST-1e  Side  \n0                           1     0  \n1                           1     1  \n2                           1     1  \n3                           1     1  \n4                           1     1  \n...                       ...   ...  \n8688                        0     0  \n8689                        0     1  \n8690                        1     1  \n8691                        0     1  \n8692                        1     1  \n\n[8693 rows x 17 columns]",
      "text/html": "<div>\n<style scoped>\n    .dataframe tbody tr th:only-of-type {\n        vertical-align: middle;\n    }\n\n    .dataframe tbody tr th {\n        vertical-align: top;\n    }\n\n    .dataframe thead th {\n        text-align: right;\n    }\n</style>\n<table border=\"1\" class=\"dataframe\">\n  <thead>\n    <tr style=\"text-align: right;\">\n      <th></th>\n      <th>PassengerId</th>\n      <th>CryoSleep</th>\n      <th>Age</th>\n      <th>VIP</th>\n      <th>RoomService</th>\n      <th>FoodCourt</th>\n      <th>ShoppingMall</th>\n      <th>Spa</th>\n      <th>VRDeck</th>\n      <th>Transported</th>\n      <th>HomePlanet_Earth</th>\n      <th>HomePlanet_Europa</th>\n      <th>HomePlanet_Mars</th>\n      <th>Destination_55 Cancri e</th>\n      <th>Destination_PSO J318.5-22</th>\n      <th>Destination_TRAPPIST-1e</th>\n      <th>Side</th>\n    </tr>\n  </thead>\n  <tbody>\n    <tr>\n      <th>0</th>\n      <td>0001_01</td>\n      <td>0.0</td>\n      <td>39.0</td>\n      <td>0.0</td>\n      <td>0.0</td>\n      <td>0.0</td>\n      <td>0.0</td>\n      <td>0.0</td>\n      <td>0.0</td>\n      <td>False</td>\n      <td>0</td>\n      <td>1</td>\n      <td>0</td>\n      <td>0</td>\n      <td>0</td>\n      <td>1</td>\n      <td>0</td>\n    </tr>\n    <tr>\n      <th>1</th>\n      <td>0002_01</td>\n      <td>0.0</td>\n      <td>24.0</td>\n      <td>0.0</td>\n      <td>109.0</td>\n      <td>9.0</td>\n      <td>25.0</td>\n      <td>549.0</td>\n      <td>44.0</td>\n      <td>True</td>\n      <td>1</td>\n      <td>0</td>\n      <td>0</td>\n      <td>0</td>\n      <td>0</td>\n      <td>1</td>\n      <td>1</td>\n    </tr>\n    <tr>\n      <th>2</th>\n      <td>0003_01</td>\n      <td>0.0</td>\n      <td>58.0</td>\n      <td>1.0</td>\n      <td>43.0</td>\n      <td>3576.0</td>\n      <td>0.0</td>\n      <td>6715.0</td>\n      <td>49.0</td>\n      <td>False</td>\n      <td>0</td>\n      <td>1</td>\n      <td>0</td>\n      <td>0</td>\n      <td>0</td>\n      <td>1</td>\n      <td>1</td>\n    </tr>\n    <tr>\n      <th>3</th>\n      <td>0003_02</td>\n      <td>0.0</td>\n      <td>33.0</td>\n      <td>0.0</td>\n      <td>0.0</td>\n      <td>1283.0</td>\n      <td>371.0</td>\n      <td>3329.0</td>\n      <td>193.0</td>\n      <td>False</td>\n      <td>0</td>\n      <td>1</td>\n      <td>0</td>\n      <td>0</td>\n      <td>0</td>\n      <td>1</td>\n      <td>1</td>\n    </tr>\n    <tr>\n      <th>4</th>\n      <td>0004_01</td>\n      <td>0.0</td>\n      <td>16.0</td>\n      <td>0.0</td>\n      <td>303.0</td>\n      <td>70.0</td>\n      <td>151.0</td>\n      <td>565.0</td>\n      <td>2.0</td>\n      <td>True</td>\n      <td>1</td>\n      <td>0</td>\n      <td>0</td>\n      <td>0</td>\n      <td>0</td>\n      <td>1</td>\n      <td>1</td>\n    </tr>\n    <tr>\n      <th>...</th>\n      <td>...</td>\n      <td>...</td>\n      <td>...</td>\n      <td>...</td>\n      <td>...</td>\n      <td>...</td>\n      <td>...</td>\n      <td>...</td>\n      <td>...</td>\n      <td>...</td>\n      <td>...</td>\n      <td>...</td>\n      <td>...</td>\n      <td>...</td>\n      <td>...</td>\n      <td>...</td>\n      <td>...</td>\n    </tr>\n    <tr>\n      <th>8688</th>\n      <td>9276_01</td>\n      <td>0.0</td>\n      <td>41.0</td>\n      <td>1.0</td>\n      <td>0.0</td>\n      <td>6819.0</td>\n      <td>0.0</td>\n      <td>1643.0</td>\n      <td>74.0</td>\n      <td>False</td>\n      <td>0</td>\n      <td>1</td>\n      <td>0</td>\n      <td>1</td>\n      <td>0</td>\n      <td>0</td>\n      <td>0</td>\n    </tr>\n    <tr>\n      <th>8689</th>\n      <td>9278_01</td>\n      <td>1.0</td>\n      <td>18.0</td>\n      <td>0.0</td>\n      <td>0.0</td>\n      <td>0.0</td>\n      <td>0.0</td>\n      <td>0.0</td>\n      <td>0.0</td>\n      <td>False</td>\n      <td>1</td>\n      <td>0</td>\n      <td>0</td>\n      <td>0</td>\n      <td>1</td>\n      <td>0</td>\n      <td>1</td>\n    </tr>\n    <tr>\n      <th>8690</th>\n      <td>9279_01</td>\n      <td>0.0</td>\n      <td>26.0</td>\n      <td>0.0</td>\n      <td>0.0</td>\n      <td>0.0</td>\n      <td>1872.0</td>\n      <td>1.0</td>\n      <td>0.0</td>\n      <td>True</td>\n      <td>1</td>\n      <td>0</td>\n      <td>0</td>\n      <td>0</td>\n      <td>0</td>\n      <td>1</td>\n      <td>1</td>\n    </tr>\n    <tr>\n      <th>8691</th>\n      <td>9280_01</td>\n      <td>0.0</td>\n      <td>32.0</td>\n      <td>0.0</td>\n      <td>0.0</td>\n      <td>1049.0</td>\n      <td>0.0</td>\n      <td>353.0</td>\n      <td>3235.0</td>\n      <td>False</td>\n      <td>0</td>\n      <td>1</td>\n      <td>0</td>\n      <td>1</td>\n      <td>0</td>\n      <td>0</td>\n      <td>1</td>\n    </tr>\n    <tr>\n      <th>8692</th>\n      <td>9280_02</td>\n      <td>0.0</td>\n      <td>44.0</td>\n      <td>0.0</td>\n      <td>126.0</td>\n      <td>4688.0</td>\n      <td>0.0</td>\n      <td>0.0</td>\n      <td>12.0</td>\n      <td>True</td>\n      <td>0</td>\n      <td>1</td>\n      <td>0</td>\n      <td>0</td>\n      <td>0</td>\n      <td>1</td>\n      <td>1</td>\n    </tr>\n  </tbody>\n</table>\n<p>8693 rows × 17 columns</p>\n</div>"
     },
     "metadata": {}
    }
   ]
  },
  {
   "cell_type": "code",
   "metadata": {
    "cell_id": "43f16d3dea76473783ac869e140e376b",
    "tags": [],
    "deepnote_to_be_reexecuted": false,
    "source_hash": "bf22aa4c",
    "execution_start": 1657623602014,
    "execution_millis": 3,
    "deepnote_cell_type": "code",
    "deepnote_cell_height": 98.921875
   },
   "source": "y_train = df_train_drop['Transported']\ndf_train_drop.drop('Transported', axis=1, inplace=True)",
   "execution_count": 21,
   "outputs": []
  },
  {
   "cell_type": "code",
   "metadata": {
    "cell_id": "e93eab3ea00641efb51376bf9fe21c5e",
    "tags": [],
    "deepnote_to_be_reexecuted": false,
    "source_hash": "d53f7011",
    "execution_start": 1657623602019,
    "execution_millis": 8,
    "deepnote_cell_type": "code",
    "deepnote_cell_height": 347.359375,
    "deepnote_output_heights": [
     232.453125
    ]
   },
   "source": "y_train = y_train.map({False:0, True:1})\ny_train",
   "execution_count": 22,
   "outputs": [
    {
     "output_type": "execute_result",
     "execution_count": 22,
     "data": {
      "text/plain": "0       0\n1       1\n2       0\n3       0\n4       1\n       ..\n8688    0\n8689    0\n8690    1\n8691    0\n8692    1\nName: Transported, Length: 8693, dtype: int64"
     },
     "metadata": {}
    }
   ]
  },
  {
   "cell_type": "code",
   "metadata": {
    "cell_id": "1a03e6f7eb3a4282ac5b612f6767a46f",
    "tags": [],
    "deepnote_to_be_reexecuted": false,
    "source_hash": "3f2bb128",
    "execution_start": 1657623602030,
    "execution_millis": 1454,
    "deepnote_cell_type": "code",
    "deepnote_cell_height": 172.109375,
    "deepnote_output_heights": [
     21.1875
    ]
   },
   "source": "from sklearn.linear_model import LogisticRegression\nmodel = LogisticRegression()\nmodel.fit(df_train_drop, y_train)\nmodel.score(df_train_drop, y_train)",
   "execution_count": 23,
   "outputs": [
    {
     "output_type": "execute_result",
     "execution_count": 23,
     "data": {
      "text/plain": "0.7741861267686645"
     },
     "metadata": {}
    }
   ]
  },
  {
   "cell_type": "code",
   "source": "x=np.mean(df_test['Age'])\ndf_test['Age'].fillna(int(x), inplace=True)\ndf_test.head()\n#df_test['CryoSleep'].map({'False':0, 'True':1})\ndf_test['CryoSleep'].value_counts()\n# dropping the name column\ndf_test = df_test.drop(['Name'], axis=1)\n\n#Finding mean of values to be filled in nan cells\nroom_service_mean = np.mean(df_test['RoomService'])\nfood_court_mean = np.mean(df_test['FoodCourt'])\nshopping_mean = np.mean(df_test['ShoppingMall'])\nspa_mean = np.mean(df_test['Spa'])\nvr_deck_mean = np.mean(df_test['VRDeck'])\nage_mean = int(np.mean(df_test['Age']))\ndf_test['RoomService'].fillna(room_service_mean)\ndf_test['FoodCourt'].fillna(food_court_mean)\ndf_test['ShoppingMall'].fillna(shopping_mean)\ndf_test['Spa'].fillna(spa_mean)\ndf_test['VRDeck'].fillna(vr_deck_mean)\ndf_test['Age'].fillna(age_mean)\ndf_test['RoomService'].fillna((df_test['RoomService'].mean()), inplace=True)\ndf_test['ShoppingMall'].fillna((df_test['ShoppingMall'].mean()), inplace=True)\ndf_test['Spa'].fillna((df_test['Spa'].mean()), inplace=True)\ndf_test['VRDeck'].fillna((df_test['VRDeck'].mean()), inplace=True)\ndf_test['FoodCourt'].fillna((df_test['FoodCourt'].mean()), inplace=True)\ndf_test['Age'].fillna(int(df_test['Age'].mean()), inplace=True)\ndf_test['HomePlanet'] = df_test['HomePlanet'].fillna('Earth')\ndf_test['CryoSleep'] = df_test['CryoSleep'].fillna('False')\ndf_test['Destination'] = df_test['Destination'].fillna('TRAPPIST-1e')\ndf_test['VIP'] = df_test['VIP'].fillna('False')\ndf_test['Cabin'] = df_test['Cabin'].fillna('B/0/S')\ndf_test_drop = df_test.dropna()\ndf_test_drop = pd.get_dummies(df_test_drop, columns = ['HomePlanet', 'Destination'])\ndf_split = df_test_drop['Cabin'].str.split(pat='/')\ndf_spl = []\nfor i in df_split:\n    df_spl.append(i[2])\n\ndf_test_drop['Side'] = df_spl\ndf_test_drop.drop('Cabin', axis=1, inplace=True)\ndf_test_drop['CryoSleep'] = df_test_drop['CryoSleep'].map({False:0, True:1})\ndf_test_drop['VIP'] = df_test_drop['VIP'].map({False:0, True:1})\n\ndf_test_drop['Side'] = df_test_drop['Side'].map({'P':0, 'S':1})\ndf_test_drop['CryoSleep'] = df_test_drop['CryoSleep'].fillna(0)\ndf_test_drop['VIP'] = df_test_drop['VIP'].fillna(0)\ndf_test_drop\n",
   "metadata": {
    "cell_id": "21c0129fb7e9453d98cd6cd126f7d045",
    "tags": [],
    "deepnote_to_be_reexecuted": false,
    "source_hash": "91071814",
    "execution_start": 1657623603437,
    "execution_millis": 375,
    "deepnote_cell_type": "code",
    "deepnote_cell_height": 1480.921875
   },
   "outputs": [
    {
     "output_type": "execute_result",
     "execution_count": 24,
     "data": {
      "application/vnd.deepnote.dataframe.v3+json": {
       "column_count": 16,
       "row_count": 4277,
       "columns": [
        {
         "name": "PassengerId",
         "dtype": "object",
         "stats": {
          "unique_count": 4277,
          "nan_count": 0,
          "categories": [
           {
            "name": "0013_01",
            "count": 1
           },
           {
            "name": "0018_01",
            "count": 1
           },
           {
            "name": "4275 others",
            "count": 4275
           }
          ]
         }
        },
        {
         "name": "CryoSleep",
         "dtype": "float64",
         "stats": {
          "unique_count": 2,
          "nan_count": 0,
          "min": "0.0",
          "max": "1.0",
          "histogram": [
           {
            "bin_start": 0,
            "bin_end": 0.1,
            "count": 2733
           },
           {
            "bin_start": 0.1,
            "bin_end": 0.2,
            "count": 0
           },
           {
            "bin_start": 0.2,
            "bin_end": 0.30000000000000004,
            "count": 0
           },
           {
            "bin_start": 0.30000000000000004,
            "bin_end": 0.4,
            "count": 0
           },
           {
            "bin_start": 0.4,
            "bin_end": 0.5,
            "count": 0
           },
           {
            "bin_start": 0.5,
            "bin_end": 0.6000000000000001,
            "count": 0
           },
           {
            "bin_start": 0.6000000000000001,
            "bin_end": 0.7000000000000001,
            "count": 0
           },
           {
            "bin_start": 0.7000000000000001,
            "bin_end": 0.8,
            "count": 0
           },
           {
            "bin_start": 0.8,
            "bin_end": 0.9,
            "count": 0
           },
           {
            "bin_start": 0.9,
            "bin_end": 1,
            "count": 1544
           }
          ]
         }
        },
        {
         "name": "Age",
         "dtype": "float64",
         "stats": {
          "unique_count": 79,
          "nan_count": 0,
          "min": "0.0",
          "max": "79.0",
          "histogram": [
           {
            "bin_start": 0,
            "bin_end": 7.9,
            "count": 256
           },
           {
            "bin_start": 7.9,
            "bin_end": 15.8,
            "count": 307
           },
           {
            "bin_start": 15.8,
            "bin_end": 23.700000000000003,
            "count": 1118
           },
           {
            "bin_start": 23.700000000000003,
            "bin_end": 31.6,
            "count": 1048
           },
           {
            "bin_start": 31.6,
            "bin_end": 39.5,
            "count": 650
           },
           {
            "bin_start": 39.5,
            "bin_end": 47.400000000000006,
            "count": 453
           },
           {
            "bin_start": 47.400000000000006,
            "bin_end": 55.300000000000004,
            "count": 237
           },
           {
            "bin_start": 55.300000000000004,
            "bin_end": 63.2,
            "count": 145
           },
           {
            "bin_start": 63.2,
            "bin_end": 71.10000000000001,
            "count": 47
           },
           {
            "bin_start": 71.10000000000001,
            "bin_end": 79,
            "count": 16
           }
          ]
         }
        },
        {
         "name": "VIP",
         "dtype": "float64",
         "stats": {
          "unique_count": 2,
          "nan_count": 0,
          "min": "0.0",
          "max": "1.0",
          "histogram": [
           {
            "bin_start": 0,
            "bin_end": 0.1,
            "count": 4203
           },
           {
            "bin_start": 0.1,
            "bin_end": 0.2,
            "count": 0
           },
           {
            "bin_start": 0.2,
            "bin_end": 0.30000000000000004,
            "count": 0
           },
           {
            "bin_start": 0.30000000000000004,
            "bin_end": 0.4,
            "count": 0
           },
           {
            "bin_start": 0.4,
            "bin_end": 0.5,
            "count": 0
           },
           {
            "bin_start": 0.5,
            "bin_end": 0.6000000000000001,
            "count": 0
           },
           {
            "bin_start": 0.6000000000000001,
            "bin_end": 0.7000000000000001,
            "count": 0
           },
           {
            "bin_start": 0.7000000000000001,
            "bin_end": 0.8,
            "count": 0
           },
           {
            "bin_start": 0.8,
            "bin_end": 0.9,
            "count": 0
           },
           {
            "bin_start": 0.9,
            "bin_end": 1,
            "count": 74
           }
          ]
         }
        },
        {
         "name": "RoomService",
         "dtype": "float64",
         "stats": {
          "unique_count": 843,
          "nan_count": 0,
          "min": "0.0",
          "max": "11567.0",
          "histogram": [
           {
            "bin_start": 0,
            "bin_end": 1156.7,
            "count": 4022
           },
           {
            "bin_start": 1156.7,
            "bin_end": 2313.4,
            "count": 184
           },
           {
            "bin_start": 2313.4,
            "bin_end": 3470.1000000000004,
            "count": 42
           },
           {
            "bin_start": 3470.1000000000004,
            "bin_end": 4626.8,
            "count": 17
           },
           {
            "bin_start": 4626.8,
            "bin_end": 5783.5,
            "count": 7
           },
           {
            "bin_start": 5783.5,
            "bin_end": 6940.200000000001,
            "count": 3
           },
           {
            "bin_start": 6940.200000000001,
            "bin_end": 8096.900000000001,
            "count": 1
           },
           {
            "bin_start": 8096.900000000001,
            "bin_end": 9253.6,
            "count": 0
           },
           {
            "bin_start": 9253.6,
            "bin_end": 10410.300000000001,
            "count": 0
           },
           {
            "bin_start": 10410.300000000001,
            "bin_end": 11567,
            "count": 1
           }
          ]
         }
        },
        {
         "name": "FoodCourt",
         "dtype": "float64",
         "stats": {
          "unique_count": 903,
          "nan_count": 0,
          "min": "0.0",
          "max": "25273.0",
          "histogram": [
           {
            "bin_start": 0,
            "bin_end": 2527.3,
            "count": 4070
           },
           {
            "bin_start": 2527.3,
            "bin_end": 5054.6,
            "count": 116
           },
           {
            "bin_start": 5054.6,
            "bin_end": 7581.900000000001,
            "count": 49
           },
           {
            "bin_start": 7581.900000000001,
            "bin_end": 10109.2,
            "count": 22
           },
           {
            "bin_start": 10109.2,
            "bin_end": 12636.5,
            "count": 12
           },
           {
            "bin_start": 12636.5,
            "bin_end": 15163.800000000001,
            "count": 0
           },
           {
            "bin_start": 15163.800000000001,
            "bin_end": 17691.100000000002,
            "count": 4
           },
           {
            "bin_start": 17691.100000000002,
            "bin_end": 20218.4,
            "count": 0
           },
           {
            "bin_start": 20218.4,
            "bin_end": 22745.7,
            "count": 2
           },
           {
            "bin_start": 22745.7,
            "bin_end": 25273,
            "count": 2
           }
          ]
         }
        },
        {
         "name": "ShoppingMall",
         "dtype": "float64",
         "stats": {
          "unique_count": 716,
          "nan_count": 0,
          "min": "0.0",
          "max": "8292.0",
          "histogram": [
           {
            "bin_start": 0,
            "bin_end": 829.2,
            "count": 3984
           },
           {
            "bin_start": 829.2,
            "bin_end": 1658.4,
            "count": 204
           },
           {
            "bin_start": 1658.4,
            "bin_end": 2487.6000000000004,
            "count": 46
           },
           {
            "bin_start": 2487.6000000000004,
            "bin_end": 3316.8,
            "count": 22
           },
           {
            "bin_start": 3316.8,
            "bin_end": 4146,
            "count": 5
           },
           {
            "bin_start": 4146,
            "bin_end": 4975.200000000001,
            "count": 5
           },
           {
            "bin_start": 4975.200000000001,
            "bin_end": 5804.400000000001,
            "count": 2
           },
           {
            "bin_start": 5804.400000000001,
            "bin_end": 6633.6,
            "count": 4
           },
           {
            "bin_start": 6633.6,
            "bin_end": 7462.8,
            "count": 1
           },
           {
            "bin_start": 7462.8,
            "bin_end": 8292,
            "count": 4
           }
          ]
         }
        },
        {
         "name": "Spa",
         "dtype": "float64",
         "stats": {
          "unique_count": 834,
          "nan_count": 0,
          "min": "0.0",
          "max": "19844.0",
          "histogram": [
           {
            "bin_start": 0,
            "bin_end": 1984.4,
            "count": 4125
           },
           {
            "bin_start": 1984.4,
            "bin_end": 3968.8,
            "count": 82
           },
           {
            "bin_start": 3968.8,
            "bin_end": 5953.200000000001,
            "count": 33
           },
           {
            "bin_start": 5953.200000000001,
            "bin_end": 7937.6,
            "count": 19
           },
           {
            "bin_start": 7937.6,
            "bin_end": 9922,
            "count": 6
           },
           {
            "bin_start": 9922,
            "bin_end": 11906.400000000001,
            "count": 3
           },
           {
            "bin_start": 11906.400000000001,
            "bin_end": 13890.800000000001,
            "count": 4
           },
           {
            "bin_start": 13890.800000000001,
            "bin_end": 15875.2,
            "count": 4
           },
           {
            "bin_start": 15875.2,
            "bin_end": 17859.600000000002,
            "count": 0
           },
           {
            "bin_start": 17859.600000000002,
            "bin_end": 19844,
            "count": 1
           }
          ]
         }
        },
        {
         "name": "VRDeck",
         "dtype": "float64",
         "stats": {
          "unique_count": 797,
          "nan_count": 0,
          "min": "0.0",
          "max": "22272.0",
          "histogram": [
           {
            "bin_start": 0,
            "bin_end": 2227.2,
            "count": 4129
           },
           {
            "bin_start": 2227.2,
            "bin_end": 4454.4,
            "count": 83
           },
           {
            "bin_start": 4454.4,
            "bin_end": 6681.599999999999,
            "count": 33
           },
           {
            "bin_start": 6681.599999999999,
            "bin_end": 8908.8,
            "count": 14
           },
           {
            "bin_start": 8908.8,
            "bin_end": 11136,
            "count": 3
           },
           {
            "bin_start": 11136,
            "bin_end": 13363.199999999999,
            "count": 6
           },
           {
            "bin_start": 13363.199999999999,
            "bin_end": 15590.399999999998,
            "count": 4
           },
           {
            "bin_start": 15590.399999999998,
            "bin_end": 17817.6,
            "count": 2
           },
           {
            "bin_start": 17817.6,
            "bin_end": 20044.8,
            "count": 2
           },
           {
            "bin_start": 20044.8,
            "bin_end": 22272,
            "count": 1
           }
          ]
         }
        },
        {
         "name": "HomePlanet_Earth",
         "dtype": "uint8",
         "stats": {
          "unique_count": 2,
          "nan_count": 0,
          "min": "0",
          "max": "1",
          "histogram": [
           {
            "bin_start": 0,
            "bin_end": 0.1,
            "count": 1927
           },
           {
            "bin_start": 0.1,
            "bin_end": 0.2,
            "count": 0
           },
           {
            "bin_start": 0.2,
            "bin_end": 0.30000000000000004,
            "count": 0
           },
           {
            "bin_start": 0.30000000000000004,
            "bin_end": 0.4,
            "count": 0
           },
           {
            "bin_start": 0.4,
            "bin_end": 0.5,
            "count": 0
           },
           {
            "bin_start": 0.5,
            "bin_end": 0.6000000000000001,
            "count": 0
           },
           {
            "bin_start": 0.6000000000000001,
            "bin_end": 0.7000000000000001,
            "count": 0
           },
           {
            "bin_start": 0.7000000000000001,
            "bin_end": 0.8,
            "count": 0
           },
           {
            "bin_start": 0.8,
            "bin_end": 0.9,
            "count": 0
           },
           {
            "bin_start": 0.9,
            "bin_end": 1,
            "count": 2350
           }
          ]
         }
        },
        {
         "name": "HomePlanet_Europa",
         "dtype": "uint8",
         "stats": {
          "unique_count": 2,
          "nan_count": 0,
          "min": "0",
          "max": "1",
          "histogram": [
           {
            "bin_start": 0,
            "bin_end": 0.1,
            "count": 3275
           },
           {
            "bin_start": 0.1,
            "bin_end": 0.2,
            "count": 0
           },
           {
            "bin_start": 0.2,
            "bin_end": 0.30000000000000004,
            "count": 0
           },
           {
            "bin_start": 0.30000000000000004,
            "bin_end": 0.4,
            "count": 0
           },
           {
            "bin_start": 0.4,
            "bin_end": 0.5,
            "count": 0
           },
           {
            "bin_start": 0.5,
            "bin_end": 0.6000000000000001,
            "count": 0
           },
           {
            "bin_start": 0.6000000000000001,
            "bin_end": 0.7000000000000001,
            "count": 0
           },
           {
            "bin_start": 0.7000000000000001,
            "bin_end": 0.8,
            "count": 0
           },
           {
            "bin_start": 0.8,
            "bin_end": 0.9,
            "count": 0
           },
           {
            "bin_start": 0.9,
            "bin_end": 1,
            "count": 1002
           }
          ]
         }
        },
        {
         "name": "HomePlanet_Mars",
         "dtype": "uint8",
         "stats": {
          "unique_count": 2,
          "nan_count": 0,
          "min": "0",
          "max": "1",
          "histogram": [
           {
            "bin_start": 0,
            "bin_end": 0.1,
            "count": 3352
           },
           {
            "bin_start": 0.1,
            "bin_end": 0.2,
            "count": 0
           },
           {
            "bin_start": 0.2,
            "bin_end": 0.30000000000000004,
            "count": 0
           },
           {
            "bin_start": 0.30000000000000004,
            "bin_end": 0.4,
            "count": 0
           },
           {
            "bin_start": 0.4,
            "bin_end": 0.5,
            "count": 0
           },
           {
            "bin_start": 0.5,
            "bin_end": 0.6000000000000001,
            "count": 0
           },
           {
            "bin_start": 0.6000000000000001,
            "bin_end": 0.7000000000000001,
            "count": 0
           },
           {
            "bin_start": 0.7000000000000001,
            "bin_end": 0.8,
            "count": 0
           },
           {
            "bin_start": 0.8,
            "bin_end": 0.9,
            "count": 0
           },
           {
            "bin_start": 0.9,
            "bin_end": 1,
            "count": 925
           }
          ]
         }
        },
        {
         "name": "Destination_55 Cancri e",
         "dtype": "uint8",
         "stats": {
          "unique_count": 2,
          "nan_count": 0,
          "min": "0",
          "max": "1",
          "histogram": [
           {
            "bin_start": 0,
            "bin_end": 0.1,
            "count": 3436
           },
           {
            "bin_start": 0.1,
            "bin_end": 0.2,
            "count": 0
           },
           {
            "bin_start": 0.2,
            "bin_end": 0.30000000000000004,
            "count": 0
           },
           {
            "bin_start": 0.30000000000000004,
            "bin_end": 0.4,
            "count": 0
           },
           {
            "bin_start": 0.4,
            "bin_end": 0.5,
            "count": 0
           },
           {
            "bin_start": 0.5,
            "bin_end": 0.6000000000000001,
            "count": 0
           },
           {
            "bin_start": 0.6000000000000001,
            "bin_end": 0.7000000000000001,
            "count": 0
           },
           {
            "bin_start": 0.7000000000000001,
            "bin_end": 0.8,
            "count": 0
           },
           {
            "bin_start": 0.8,
            "bin_end": 0.9,
            "count": 0
           },
           {
            "bin_start": 0.9,
            "bin_end": 1,
            "count": 841
           }
          ]
         }
        },
        {
         "name": "Destination_PSO J318.5-22",
         "dtype": "uint8",
         "stats": {
          "unique_count": 2,
          "nan_count": 0,
          "min": "0",
          "max": "1",
          "histogram": [
           {
            "bin_start": 0,
            "bin_end": 0.1,
            "count": 3889
           },
           {
            "bin_start": 0.1,
            "bin_end": 0.2,
            "count": 0
           },
           {
            "bin_start": 0.2,
            "bin_end": 0.30000000000000004,
            "count": 0
           },
           {
            "bin_start": 0.30000000000000004,
            "bin_end": 0.4,
            "count": 0
           },
           {
            "bin_start": 0.4,
            "bin_end": 0.5,
            "count": 0
           },
           {
            "bin_start": 0.5,
            "bin_end": 0.6000000000000001,
            "count": 0
           },
           {
            "bin_start": 0.6000000000000001,
            "bin_end": 0.7000000000000001,
            "count": 0
           },
           {
            "bin_start": 0.7000000000000001,
            "bin_end": 0.8,
            "count": 0
           },
           {
            "bin_start": 0.8,
            "bin_end": 0.9,
            "count": 0
           },
           {
            "bin_start": 0.9,
            "bin_end": 1,
            "count": 388
           }
          ]
         }
        },
        {
         "name": "Destination_TRAPPIST-1e",
         "dtype": "uint8",
         "stats": {
          "unique_count": 2,
          "nan_count": 0,
          "min": "0",
          "max": "1",
          "histogram": [
           {
            "bin_start": 0,
            "bin_end": 0.1,
            "count": 1229
           },
           {
            "bin_start": 0.1,
            "bin_end": 0.2,
            "count": 0
           },
           {
            "bin_start": 0.2,
            "bin_end": 0.30000000000000004,
            "count": 0
           },
           {
            "bin_start": 0.30000000000000004,
            "bin_end": 0.4,
            "count": 0
           },
           {
            "bin_start": 0.4,
            "bin_end": 0.5,
            "count": 0
           },
           {
            "bin_start": 0.5,
            "bin_end": 0.6000000000000001,
            "count": 0
           },
           {
            "bin_start": 0.6000000000000001,
            "bin_end": 0.7000000000000001,
            "count": 0
           },
           {
            "bin_start": 0.7000000000000001,
            "bin_end": 0.8,
            "count": 0
           },
           {
            "bin_start": 0.8,
            "bin_end": 0.9,
            "count": 0
           },
           {
            "bin_start": 0.9,
            "bin_end": 1,
            "count": 3048
           }
          ]
         }
        },
        {
         "name": "Side",
         "dtype": "int64",
         "stats": {
          "unique_count": 2,
          "nan_count": 0,
          "min": "0",
          "max": "1",
          "histogram": [
           {
            "bin_start": 0,
            "bin_end": 0.1,
            "count": 2084
           },
           {
            "bin_start": 0.1,
            "bin_end": 0.2,
            "count": 0
           },
           {
            "bin_start": 0.2,
            "bin_end": 0.30000000000000004,
            "count": 0
           },
           {
            "bin_start": 0.30000000000000004,
            "bin_end": 0.4,
            "count": 0
           },
           {
            "bin_start": 0.4,
            "bin_end": 0.5,
            "count": 0
           },
           {
            "bin_start": 0.5,
            "bin_end": 0.6000000000000001,
            "count": 0
           },
           {
            "bin_start": 0.6000000000000001,
            "bin_end": 0.7000000000000001,
            "count": 0
           },
           {
            "bin_start": 0.7000000000000001,
            "bin_end": 0.8,
            "count": 0
           },
           {
            "bin_start": 0.8,
            "bin_end": 0.9,
            "count": 0
           },
           {
            "bin_start": 0.9,
            "bin_end": 1,
            "count": 2193
           }
          ]
         }
        },
        {
         "name": "_deepnote_index_column",
         "dtype": "int64"
        }
       ],
       "rows": [
        {
         "PassengerId": "0013_01",
         "CryoSleep": 1,
         "Age": 27,
         "VIP": 0,
         "RoomService": 0,
         "FoodCourt": 0,
         "ShoppingMall": 0,
         "Spa": 0,
         "VRDeck": 0,
         "HomePlanet_Earth": 1,
         "HomePlanet_Europa": 0,
         "HomePlanet_Mars": 0,
         "Destination_55 Cancri e": 0,
         "Destination_PSO J318.5-22": 0,
         "Destination_TRAPPIST-1e": 1,
         "Side": 1,
         "_deepnote_index_column": 0
        },
        {
         "PassengerId": "0018_01",
         "CryoSleep": 0,
         "Age": 19,
         "VIP": 0,
         "RoomService": 0,
         "FoodCourt": 9,
         "ShoppingMall": 0,
         "Spa": 2823,
         "VRDeck": 0,
         "HomePlanet_Earth": 1,
         "HomePlanet_Europa": 0,
         "HomePlanet_Mars": 0,
         "Destination_55 Cancri e": 0,
         "Destination_PSO J318.5-22": 0,
         "Destination_TRAPPIST-1e": 1,
         "Side": 1,
         "_deepnote_index_column": 1
        },
        {
         "PassengerId": "0019_01",
         "CryoSleep": 1,
         "Age": 31,
         "VIP": 0,
         "RoomService": 0,
         "FoodCourt": 0,
         "ShoppingMall": 0,
         "Spa": 0,
         "VRDeck": 0,
         "HomePlanet_Earth": 0,
         "HomePlanet_Europa": 1,
         "HomePlanet_Mars": 0,
         "Destination_55 Cancri e": 1,
         "Destination_PSO J318.5-22": 0,
         "Destination_TRAPPIST-1e": 0,
         "Side": 1,
         "_deepnote_index_column": 2
        },
        {
         "PassengerId": "0021_01",
         "CryoSleep": 0,
         "Age": 38,
         "VIP": 0,
         "RoomService": 0,
         "FoodCourt": 6652,
         "ShoppingMall": 0,
         "Spa": 181,
         "VRDeck": 585,
         "HomePlanet_Earth": 0,
         "HomePlanet_Europa": 1,
         "HomePlanet_Mars": 0,
         "Destination_55 Cancri e": 0,
         "Destination_PSO J318.5-22": 0,
         "Destination_TRAPPIST-1e": 1,
         "Side": 1,
         "_deepnote_index_column": 3
        },
        {
         "PassengerId": "0023_01",
         "CryoSleep": 0,
         "Age": 20,
         "VIP": 0,
         "RoomService": 10,
         "FoodCourt": 0,
         "ShoppingMall": 635,
         "Spa": 0,
         "VRDeck": 0,
         "HomePlanet_Earth": 1,
         "HomePlanet_Europa": 0,
         "HomePlanet_Mars": 0,
         "Destination_55 Cancri e": 0,
         "Destination_PSO J318.5-22": 0,
         "Destination_TRAPPIST-1e": 1,
         "Side": 1,
         "_deepnote_index_column": 4
        },
        {
         "PassengerId": "0027_01",
         "CryoSleep": 0,
         "Age": 31,
         "VIP": 0,
         "RoomService": 0,
         "FoodCourt": 1615,
         "ShoppingMall": 263,
         "Spa": 113,
         "VRDeck": 60,
         "HomePlanet_Earth": 1,
         "HomePlanet_Europa": 0,
         "HomePlanet_Mars": 0,
         "Destination_55 Cancri e": 0,
         "Destination_PSO J318.5-22": 0,
         "Destination_TRAPPIST-1e": 1,
         "Side": 0,
         "_deepnote_index_column": 5
        },
        {
         "PassengerId": "0029_01",
         "CryoSleep": 1,
         "Age": 21,
         "VIP": 0,
         "RoomService": 0,
         "FoodCourt": 439.4842963318149,
         "ShoppingMall": 0,
         "Spa": 0,
         "VRDeck": 0,
         "HomePlanet_Earth": 0,
         "HomePlanet_Europa": 1,
         "HomePlanet_Mars": 0,
         "Destination_55 Cancri e": 1,
         "Destination_PSO J318.5-22": 0,
         "Destination_TRAPPIST-1e": 0,
         "Side": 0,
         "_deepnote_index_column": 6
        },
        {
         "PassengerId": "0032_01",
         "CryoSleep": 1,
         "Age": 20,
         "VIP": 0,
         "RoomService": 0,
         "FoodCourt": 0,
         "ShoppingMall": 0,
         "Spa": 0,
         "VRDeck": 0,
         "HomePlanet_Earth": 0,
         "HomePlanet_Europa": 1,
         "HomePlanet_Mars": 0,
         "Destination_55 Cancri e": 0,
         "Destination_PSO J318.5-22": 0,
         "Destination_TRAPPIST-1e": 1,
         "Side": 1,
         "_deepnote_index_column": 7
        },
        {
         "PassengerId": "0032_02",
         "CryoSleep": 1,
         "Age": 23,
         "VIP": 0,
         "RoomService": 0,
         "FoodCourt": 0,
         "ShoppingMall": 0,
         "Spa": 0,
         "VRDeck": 0,
         "HomePlanet_Earth": 0,
         "HomePlanet_Europa": 1,
         "HomePlanet_Mars": 0,
         "Destination_55 Cancri e": 1,
         "Destination_PSO J318.5-22": 0,
         "Destination_TRAPPIST-1e": 0,
         "Side": 1,
         "_deepnote_index_column": 8
        },
        {
         "PassengerId": "0033_01",
         "CryoSleep": 0,
         "Age": 24,
         "VIP": 0,
         "RoomService": 0,
         "FoodCourt": 639,
         "ShoppingMall": 0,
         "Spa": 0,
         "VRDeck": 0,
         "HomePlanet_Earth": 1,
         "HomePlanet_Europa": 0,
         "HomePlanet_Mars": 0,
         "Destination_55 Cancri e": 1,
         "Destination_PSO J318.5-22": 0,
         "Destination_TRAPPIST-1e": 0,
         "Side": 1,
         "_deepnote_index_column": 9
        }
       ]
      },
      "text/plain": "     PassengerId  CryoSleep   Age  VIP  RoomService  FoodCourt  ShoppingMall  \\\n0        0013_01        1.0  27.0  0.0          0.0        0.0           0.0   \n1        0018_01        0.0  19.0  0.0          0.0        9.0           0.0   \n2        0019_01        1.0  31.0  0.0          0.0        0.0           0.0   \n3        0021_01        0.0  38.0  0.0          0.0     6652.0           0.0   \n4        0023_01        0.0  20.0  0.0         10.0        0.0         635.0   \n...          ...        ...   ...  ...          ...        ...           ...   \n4272     9266_02        1.0  34.0  0.0          0.0        0.0           0.0   \n4273     9269_01        0.0  42.0  0.0          0.0      847.0          17.0   \n4274     9271_01        1.0  28.0  0.0          0.0        0.0           0.0   \n4275     9273_01        0.0  28.0  0.0          0.0     2680.0           0.0   \n4276     9277_01        1.0  43.0  0.0          0.0        0.0           0.0   \n\n         Spa  VRDeck  HomePlanet_Earth  HomePlanet_Europa  HomePlanet_Mars  \\\n0        0.0     0.0                 1                  0                0   \n1     2823.0     0.0                 1                  0                0   \n2        0.0     0.0                 0                  1                0   \n3      181.0   585.0                 0                  1                0   \n4        0.0     0.0                 1                  0                0   \n...      ...     ...               ...                ...              ...   \n4272     0.0     0.0                 1                  0                0   \n4273    10.0   144.0                 1                  0                0   \n4274     0.0     0.0                 0                  0                1   \n4275     0.0   523.0                 0                  1                0   \n4276     0.0     0.0                 1                  0                0   \n\n      Destination_55 Cancri e  Destination_PSO J318.5-22  \\\n0                           0                          0   \n1                           0                          0   \n2                           1                          0   \n3                           0                          0   \n4                           0                          0   \n...                       ...                        ...   \n4272                        0                          0   \n4273                        0                          0   \n4274                        1                          0   \n4275                        0                          0   \n4276                        0                          1   \n\n      Destination_TRAPPIST-1e  Side  \n0                           1     1  \n1                           1     1  \n2                           0     1  \n3                           1     1  \n4                           1     1  \n...                       ...   ...  \n4272                        1     1  \n4273                        1     1  \n4274                        0     0  \n4275                        1     0  \n4276                        0     1  \n\n[4277 rows x 16 columns]",
      "text/html": "<div>\n<style scoped>\n    .dataframe tbody tr th:only-of-type {\n        vertical-align: middle;\n    }\n\n    .dataframe tbody tr th {\n        vertical-align: top;\n    }\n\n    .dataframe thead th {\n        text-align: right;\n    }\n</style>\n<table border=\"1\" class=\"dataframe\">\n  <thead>\n    <tr style=\"text-align: right;\">\n      <th></th>\n      <th>PassengerId</th>\n      <th>CryoSleep</th>\n      <th>Age</th>\n      <th>VIP</th>\n      <th>RoomService</th>\n      <th>FoodCourt</th>\n      <th>ShoppingMall</th>\n      <th>Spa</th>\n      <th>VRDeck</th>\n      <th>HomePlanet_Earth</th>\n      <th>HomePlanet_Europa</th>\n      <th>HomePlanet_Mars</th>\n      <th>Destination_55 Cancri e</th>\n      <th>Destination_PSO J318.5-22</th>\n      <th>Destination_TRAPPIST-1e</th>\n      <th>Side</th>\n    </tr>\n  </thead>\n  <tbody>\n    <tr>\n      <th>0</th>\n      <td>0013_01</td>\n      <td>1.0</td>\n      <td>27.0</td>\n      <td>0.0</td>\n      <td>0.0</td>\n      <td>0.0</td>\n      <td>0.0</td>\n      <td>0.0</td>\n      <td>0.0</td>\n      <td>1</td>\n      <td>0</td>\n      <td>0</td>\n      <td>0</td>\n      <td>0</td>\n      <td>1</td>\n      <td>1</td>\n    </tr>\n    <tr>\n      <th>1</th>\n      <td>0018_01</td>\n      <td>0.0</td>\n      <td>19.0</td>\n      <td>0.0</td>\n      <td>0.0</td>\n      <td>9.0</td>\n      <td>0.0</td>\n      <td>2823.0</td>\n      <td>0.0</td>\n      <td>1</td>\n      <td>0</td>\n      <td>0</td>\n      <td>0</td>\n      <td>0</td>\n      <td>1</td>\n      <td>1</td>\n    </tr>\n    <tr>\n      <th>2</th>\n      <td>0019_01</td>\n      <td>1.0</td>\n      <td>31.0</td>\n      <td>0.0</td>\n      <td>0.0</td>\n      <td>0.0</td>\n      <td>0.0</td>\n      <td>0.0</td>\n      <td>0.0</td>\n      <td>0</td>\n      <td>1</td>\n      <td>0</td>\n      <td>1</td>\n      <td>0</td>\n      <td>0</td>\n      <td>1</td>\n    </tr>\n    <tr>\n      <th>3</th>\n      <td>0021_01</td>\n      <td>0.0</td>\n      <td>38.0</td>\n      <td>0.0</td>\n      <td>0.0</td>\n      <td>6652.0</td>\n      <td>0.0</td>\n      <td>181.0</td>\n      <td>585.0</td>\n      <td>0</td>\n      <td>1</td>\n      <td>0</td>\n      <td>0</td>\n      <td>0</td>\n      <td>1</td>\n      <td>1</td>\n    </tr>\n    <tr>\n      <th>4</th>\n      <td>0023_01</td>\n      <td>0.0</td>\n      <td>20.0</td>\n      <td>0.0</td>\n      <td>10.0</td>\n      <td>0.0</td>\n      <td>635.0</td>\n      <td>0.0</td>\n      <td>0.0</td>\n      <td>1</td>\n      <td>0</td>\n      <td>0</td>\n      <td>0</td>\n      <td>0</td>\n      <td>1</td>\n      <td>1</td>\n    </tr>\n    <tr>\n      <th>...</th>\n      <td>...</td>\n      <td>...</td>\n      <td>...</td>\n      <td>...</td>\n      <td>...</td>\n      <td>...</td>\n      <td>...</td>\n      <td>...</td>\n      <td>...</td>\n      <td>...</td>\n      <td>...</td>\n      <td>...</td>\n      <td>...</td>\n      <td>...</td>\n      <td>...</td>\n      <td>...</td>\n    </tr>\n    <tr>\n      <th>4272</th>\n      <td>9266_02</td>\n      <td>1.0</td>\n      <td>34.0</td>\n      <td>0.0</td>\n      <td>0.0</td>\n      <td>0.0</td>\n      <td>0.0</td>\n      <td>0.0</td>\n      <td>0.0</td>\n      <td>1</td>\n      <td>0</td>\n      <td>0</td>\n      <td>0</td>\n      <td>0</td>\n      <td>1</td>\n      <td>1</td>\n    </tr>\n    <tr>\n      <th>4273</th>\n      <td>9269_01</td>\n      <td>0.0</td>\n      <td>42.0</td>\n      <td>0.0</td>\n      <td>0.0</td>\n      <td>847.0</td>\n      <td>17.0</td>\n      <td>10.0</td>\n      <td>144.0</td>\n      <td>1</td>\n      <td>0</td>\n      <td>0</td>\n      <td>0</td>\n      <td>0</td>\n      <td>1</td>\n      <td>1</td>\n    </tr>\n    <tr>\n      <th>4274</th>\n      <td>9271_01</td>\n      <td>1.0</td>\n      <td>28.0</td>\n      <td>0.0</td>\n      <td>0.0</td>\n      <td>0.0</td>\n      <td>0.0</td>\n      <td>0.0</td>\n      <td>0.0</td>\n      <td>0</td>\n      <td>0</td>\n      <td>1</td>\n      <td>1</td>\n      <td>0</td>\n      <td>0</td>\n      <td>0</td>\n    </tr>\n    <tr>\n      <th>4275</th>\n      <td>9273_01</td>\n      <td>0.0</td>\n      <td>28.0</td>\n      <td>0.0</td>\n      <td>0.0</td>\n      <td>2680.0</td>\n      <td>0.0</td>\n      <td>0.0</td>\n      <td>523.0</td>\n      <td>0</td>\n      <td>1</td>\n      <td>0</td>\n      <td>0</td>\n      <td>0</td>\n      <td>1</td>\n      <td>0</td>\n    </tr>\n    <tr>\n      <th>4276</th>\n      <td>9277_01</td>\n      <td>1.0</td>\n      <td>43.0</td>\n      <td>0.0</td>\n      <td>0.0</td>\n      <td>0.0</td>\n      <td>0.0</td>\n      <td>0.0</td>\n      <td>0.0</td>\n      <td>1</td>\n      <td>0</td>\n      <td>0</td>\n      <td>0</td>\n      <td>1</td>\n      <td>0</td>\n      <td>1</td>\n    </tr>\n  </tbody>\n</table>\n<p>4277 rows × 16 columns</p>\n</div>"
     },
     "metadata": {}
    }
   ],
   "execution_count": 24
  },
  {
   "cell_type": "code",
   "source": "arr = model.predict(df_test_drop)\ny_test = pd.DataFrame(arr)\ny_test.replace(to_replace=1, value=True, inplace=True)\ny_test.replace(to_replace=0, value=False, inplace=True)\ndf = pd.DataFrame()\ndf['PassengerId'] = df_test_drop['PassengerId']\ndf['Transported'] = y_test\ndf.to_csv('predictions.csv', index=False)\ndf",
   "metadata": {
    "cell_id": "5a79f01e8e37496eb256cdb04de3ce77",
    "tags": [],
    "deepnote_to_be_reexecuted": false,
    "source_hash": "622d88cc",
    "execution_start": 1657623603601,
    "execution_millis": 318,
    "deepnote_cell_type": "code",
    "deepnote_cell_height": 743.921875,
    "deepnote_output_heights": [
     117.21875
    ]
   },
   "outputs": [
    {
     "output_type": "execute_result",
     "execution_count": 25,
     "data": {
      "application/vnd.deepnote.dataframe.v3+json": {
       "column_count": 2,
       "row_count": 4277,
       "columns": [
        {
         "name": "PassengerId",
         "dtype": "object",
         "stats": {
          "unique_count": 4277,
          "nan_count": 0,
          "categories": [
           {
            "name": "0013_01",
            "count": 1
           },
           {
            "name": "0018_01",
            "count": 1
           },
           {
            "name": "4275 others",
            "count": 4275
           }
          ]
         }
        },
        {
         "name": "Transported",
         "dtype": "bool",
         "stats": {
          "unique_count": 2,
          "nan_count": 0,
          "categories": [
           {
            "name": "True",
            "count": 2556
           },
           {
            "name": "False",
            "count": 1721
           }
          ]
         }
        },
        {
         "name": "_deepnote_index_column",
         "dtype": "int64"
        }
       ],
       "rows": [
        {
         "PassengerId": "0013_01",
         "Transported": true,
         "_deepnote_index_column": 0
        },
        {
         "PassengerId": "0018_01",
         "Transported": false,
         "_deepnote_index_column": 1
        },
        {
         "PassengerId": "0019_01",
         "Transported": true,
         "_deepnote_index_column": 2
        },
        {
         "PassengerId": "0021_01",
         "Transported": true,
         "_deepnote_index_column": 3
        },
        {
         "PassengerId": "0023_01",
         "Transported": true,
         "_deepnote_index_column": 4
        },
        {
         "PassengerId": "0027_01",
         "Transported": true,
         "_deepnote_index_column": 5
        },
        {
         "PassengerId": "0029_01",
         "Transported": true,
         "_deepnote_index_column": 6
        },
        {
         "PassengerId": "0032_01",
         "Transported": true,
         "_deepnote_index_column": 7
        },
        {
         "PassengerId": "0032_02",
         "Transported": true,
         "_deepnote_index_column": 8
        },
        {
         "PassengerId": "0033_01",
         "Transported": true,
         "_deepnote_index_column": 9
        }
       ]
      },
      "text/plain": "     PassengerId  Transported\n0        0013_01         True\n1        0018_01        False\n2        0019_01         True\n3        0021_01         True\n4        0023_01         True\n...          ...          ...\n4272     9266_02         True\n4273     9269_01         True\n4274     9271_01         True\n4275     9273_01         True\n4276     9277_01         True\n\n[4277 rows x 2 columns]",
      "text/html": "<div>\n<style scoped>\n    .dataframe tbody tr th:only-of-type {\n        vertical-align: middle;\n    }\n\n    .dataframe tbody tr th {\n        vertical-align: top;\n    }\n\n    .dataframe thead th {\n        text-align: right;\n    }\n</style>\n<table border=\"1\" class=\"dataframe\">\n  <thead>\n    <tr style=\"text-align: right;\">\n      <th></th>\n      <th>PassengerId</th>\n      <th>Transported</th>\n    </tr>\n  </thead>\n  <tbody>\n    <tr>\n      <th>0</th>\n      <td>0013_01</td>\n      <td>True</td>\n    </tr>\n    <tr>\n      <th>1</th>\n      <td>0018_01</td>\n      <td>False</td>\n    </tr>\n    <tr>\n      <th>2</th>\n      <td>0019_01</td>\n      <td>True</td>\n    </tr>\n    <tr>\n      <th>3</th>\n      <td>0021_01</td>\n      <td>True</td>\n    </tr>\n    <tr>\n      <th>4</th>\n      <td>0023_01</td>\n      <td>True</td>\n    </tr>\n    <tr>\n      <th>...</th>\n      <td>...</td>\n      <td>...</td>\n    </tr>\n    <tr>\n      <th>4272</th>\n      <td>9266_02</td>\n      <td>True</td>\n    </tr>\n    <tr>\n      <th>4273</th>\n      <td>9269_01</td>\n      <td>True</td>\n    </tr>\n    <tr>\n      <th>4274</th>\n      <td>9271_01</td>\n      <td>True</td>\n    </tr>\n    <tr>\n      <th>4275</th>\n      <td>9273_01</td>\n      <td>True</td>\n    </tr>\n    <tr>\n      <th>4276</th>\n      <td>9277_01</td>\n      <td>True</td>\n    </tr>\n  </tbody>\n</table>\n<p>4277 rows × 2 columns</p>\n</div>"
     },
     "metadata": {}
    }
   ],
   "execution_count": 25
  },
  {
   "cell_type": "code",
   "source": "import tensorflow as tf\nfrom tensorflow import keras\nfrom tensorflow.keras import layers\ndf_train_drop.columns",
   "metadata": {
    "cell_id": "1c0cd9da351e4f0ba639bbd996c216e8",
    "tags": [],
    "deepnote_to_be_reexecuted": false,
    "source_hash": "373b6719",
    "execution_start": 1657623603674,
    "execution_millis": 6259,
    "deepnote_cell_type": "code",
    "deepnote_cell_height": 248.921875,
    "deepnote_output_heights": [
     98.015625
    ]
   },
   "outputs": [
    {
     "output_type": "execute_result",
     "execution_count": 26,
     "data": {
      "text/plain": "Index(['PassengerId', 'CryoSleep', 'Age', 'VIP', 'RoomService', 'FoodCourt',\n       'ShoppingMall', 'Spa', 'VRDeck', 'HomePlanet_Earth',\n       'HomePlanet_Europa', 'HomePlanet_Mars', 'Destination_55 Cancri e',\n       'Destination_PSO J318.5-22', 'Destination_TRAPPIST-1e', 'Side'],\n      dtype='object')"
     },
     "metadata": {}
    }
   ],
   "execution_count": 26
  },
  {
   "cell_type": "code",
   "source": "from sklearn.preprocessing import MinMaxScaler\nscaler = MinMaxScaler()\ncols = ['Age', 'RoomService', 'FoodCourt','ShoppingMall', 'Spa', 'VRDeck']\ndf1 = pd.DataFrame()\ndf2 = pd.DataFrame()\ndf1 = df_train_drop\ndf2 = df_test_drop\n\ndf1[cols] = scaler.fit_transform(df1[cols])\ncols_float = ['CryoSleep', 'Age', 'VIP', 'RoomService', 'FoodCourt',\n       'ShoppingMall', 'Spa', 'VRDeck', 'HomePlanet_Earth',\n       'HomePlanet_Europa', 'HomePlanet_Mars', 'Destination_55 Cancri e',\n       'Destination_PSO J318.5-22', 'Destination_TRAPPIST-1e', 'Side']\ndf1[cols_float] = np.asarray(df1[cols_float]).astype('float32')\n\ndf2[cols] = scaler.fit_transform(df2[cols])\ncols_float = ['CryoSleep', 'Age', 'VIP', 'RoomService', 'FoodCourt',\n       'ShoppingMall', 'Spa', 'VRDeck', 'HomePlanet_Earth',\n       'HomePlanet_Europa', 'HomePlanet_Mars', 'Destination_55 Cancri e',\n       'Destination_PSO J318.5-22', 'Destination_TRAPPIST-1e', 'Side']\ndf2[cols_float] = np.asarray(df2[cols_float]).astype('float32')",
   "metadata": {
    "cell_id": "a22ce12429954e57abc5c2808ef0188f",
    "tags": [],
    "deepnote_to_be_reexecuted": false,
    "source_hash": "16472e54",
    "execution_start": 1657623609942,
    "execution_millis": 53,
    "deepnote_cell_type": "code",
    "deepnote_cell_height": 440.921875
   },
   "outputs": [],
   "execution_count": 27
  },
  {
   "cell_type": "code",
   "source": "df1 = df1.drop('PassengerId', axis=1)\ndf2 = df2.drop('PassengerId', axis=1)",
   "metadata": {
    "cell_id": "a729cba72371421d965b2428b2638801",
    "tags": [],
    "deepnote_to_be_reexecuted": false,
    "source_hash": "7a444605",
    "execution_start": 1657623609999,
    "execution_millis": 5,
    "deepnote_cell_type": "code",
    "deepnote_cell_height": 98.921875,
    "deepnote_output_heights": [
     98.015625
    ]
   },
   "outputs": [],
   "execution_count": 28
  },
  {
   "cell_type": "code",
   "source": "df_train_drop",
   "metadata": {
    "cell_id": "fb38f044973342fda86365016d17a683",
    "tags": [],
    "deepnote_to_be_reexecuted": false,
    "source_hash": "942d7689",
    "execution_start": 1657623610007,
    "execution_millis": 84,
    "deepnote_cell_type": "code",
    "deepnote_cell_height": 616.453125
   },
   "outputs": [
    {
     "output_type": "execute_result",
     "execution_count": 29,
     "data": {
      "application/vnd.deepnote.dataframe.v3+json": {
       "column_count": 16,
       "row_count": 8693,
       "columns": [
        {
         "name": "PassengerId",
         "dtype": "object",
         "stats": {
          "unique_count": 8693,
          "nan_count": 0,
          "categories": [
           {
            "name": "0001_01",
            "count": 1
           },
           {
            "name": "0002_01",
            "count": 1
           },
           {
            "name": "8691 others",
            "count": 8691
           }
          ]
         }
        },
        {
         "name": "CryoSleep",
         "dtype": "float64",
         "stats": {
          "unique_count": 2,
          "nan_count": 0,
          "min": "0.0",
          "max": "1.0",
          "histogram": [
           {
            "bin_start": 0,
            "bin_end": 0.1,
            "count": 5656
           },
           {
            "bin_start": 0.1,
            "bin_end": 0.2,
            "count": 0
           },
           {
            "bin_start": 0.2,
            "bin_end": 0.30000000000000004,
            "count": 0
           },
           {
            "bin_start": 0.30000000000000004,
            "bin_end": 0.4,
            "count": 0
           },
           {
            "bin_start": 0.4,
            "bin_end": 0.5,
            "count": 0
           },
           {
            "bin_start": 0.5,
            "bin_end": 0.6000000000000001,
            "count": 0
           },
           {
            "bin_start": 0.6000000000000001,
            "bin_end": 0.7000000000000001,
            "count": 0
           },
           {
            "bin_start": 0.7000000000000001,
            "bin_end": 0.8,
            "count": 0
           },
           {
            "bin_start": 0.8,
            "bin_end": 0.9,
            "count": 0
           },
           {
            "bin_start": 0.9,
            "bin_end": 1,
            "count": 3037
           }
          ]
         }
        },
        {
         "name": "Age",
         "dtype": "float64",
         "stats": {
          "unique_count": 80,
          "nan_count": 0,
          "min": "0.0",
          "max": "1.0",
          "histogram": [
           {
            "bin_start": 0,
            "bin_end": 0.1,
            "count": 591
           },
           {
            "bin_start": 0.1,
            "bin_end": 0.2,
            "count": 649
           },
           {
            "bin_start": 0.2,
            "bin_end": 0.30000000000000004,
            "count": 2089
           },
           {
            "bin_start": 0.30000000000000004,
            "bin_end": 0.4,
            "count": 2155
           },
           {
            "bin_start": 0.4,
            "bin_end": 0.5,
            "count": 1350
           },
           {
            "bin_start": 0.5,
            "bin_end": 0.6000000000000001,
            "count": 893
           },
           {
            "bin_start": 0.6000000000000001,
            "bin_end": 0.7000000000000001,
            "count": 536
           },
           {
            "bin_start": 0.7000000000000001,
            "bin_end": 0.8,
            "count": 294
           },
           {
            "bin_start": 0.8,
            "bin_end": 0.9,
            "count": 106
           },
           {
            "bin_start": 0.9,
            "bin_end": 1,
            "count": 30
           }
          ]
         }
        },
        {
         "name": "VIP",
         "dtype": "float64",
         "stats": {
          "unique_count": 2,
          "nan_count": 0,
          "min": "0.0",
          "max": "1.0",
          "histogram": [
           {
            "bin_start": 0,
            "bin_end": 0.1,
            "count": 8494
           },
           {
            "bin_start": 0.1,
            "bin_end": 0.2,
            "count": 0
           },
           {
            "bin_start": 0.2,
            "bin_end": 0.30000000000000004,
            "count": 0
           },
           {
            "bin_start": 0.30000000000000004,
            "bin_end": 0.4,
            "count": 0
           },
           {
            "bin_start": 0.4,
            "bin_end": 0.5,
            "count": 0
           },
           {
            "bin_start": 0.5,
            "bin_end": 0.6000000000000001,
            "count": 0
           },
           {
            "bin_start": 0.6000000000000001,
            "bin_end": 0.7000000000000001,
            "count": 0
           },
           {
            "bin_start": 0.7000000000000001,
            "bin_end": 0.8,
            "count": 0
           },
           {
            "bin_start": 0.8,
            "bin_end": 0.9,
            "count": 0
           },
           {
            "bin_start": 0.9,
            "bin_end": 1,
            "count": 199
           }
          ]
         }
        },
        {
         "name": "RoomService",
         "dtype": "float64",
         "stats": {
          "unique_count": 1274,
          "nan_count": 0,
          "min": "0.0",
          "max": "1.0",
          "histogram": [
           {
            "bin_start": 0,
            "bin_end": 0.1,
            "count": 8337
           },
           {
            "bin_start": 0.1,
            "bin_end": 0.2,
            "count": 254
           },
           {
            "bin_start": 0.2,
            "bin_end": 0.30000000000000004,
            "count": 65
           },
           {
            "bin_start": 0.30000000000000004,
            "bin_end": 0.4,
            "count": 17
           },
           {
            "bin_start": 0.4,
            "bin_end": 0.5,
            "count": 9
           },
           {
            "bin_start": 0.5,
            "bin_end": 0.6000000000000001,
            "count": 9
           },
           {
            "bin_start": 0.6000000000000001,
            "bin_end": 0.7000000000000001,
            "count": 1
           },
           {
            "bin_start": 0.7000000000000001,
            "bin_end": 0.8,
            "count": 0
           },
           {
            "bin_start": 0.8,
            "bin_end": 0.9,
            "count": 0
           },
           {
            "bin_start": 0.9,
            "bin_end": 1,
            "count": 1
           }
          ]
         }
        },
        {
         "name": "FoodCourt",
         "dtype": "float64",
         "stats": {
          "unique_count": 1508,
          "nan_count": 0,
          "min": "0.0",
          "max": "1.0",
          "histogram": [
           {
            "bin_start": 0,
            "bin_end": 0.1,
            "count": 8297
           },
           {
            "bin_start": 0.1,
            "bin_end": 0.2,
            "count": 250
           },
           {
            "bin_start": 0.2,
            "bin_end": 0.30000000000000004,
            "count": 80
           },
           {
            "bin_start": 0.30000000000000004,
            "bin_end": 0.4,
            "count": 34
           },
           {
            "bin_start": 0.4,
            "bin_end": 0.5,
            "count": 15
           },
           {
            "bin_start": 0.5,
            "bin_end": 0.6000000000000001,
            "count": 9
           },
           {
            "bin_start": 0.6000000000000001,
            "bin_end": 0.7000000000000001,
            "count": 3
           },
           {
            "bin_start": 0.7000000000000001,
            "bin_end": 0.8,
            "count": 1
           },
           {
            "bin_start": 0.8,
            "bin_end": 0.9,
            "count": 1
           },
           {
            "bin_start": 0.9,
            "bin_end": 1,
            "count": 3
           }
          ]
         }
        },
        {
         "name": "ShoppingMall",
         "dtype": "float64",
         "stats": {
          "unique_count": 1116,
          "nan_count": 0,
          "min": "0.0",
          "max": "1.0",
          "histogram": [
           {
            "bin_start": 0,
            "bin_end": 0.1,
            "count": 8609
           },
           {
            "bin_start": 0.1,
            "bin_end": 0.2,
            "count": 62
           },
           {
            "bin_start": 0.2,
            "bin_end": 0.30000000000000004,
            "count": 13
           },
           {
            "bin_start": 0.30000000000000004,
            "bin_end": 0.4,
            "count": 5
           },
           {
            "bin_start": 0.4,
            "bin_end": 0.5,
            "count": 2
           },
           {
            "bin_start": 0.5,
            "bin_end": 0.6000000000000001,
            "count": 1
           },
           {
            "bin_start": 0.6000000000000001,
            "bin_end": 0.7000000000000001,
            "count": 0
           },
           {
            "bin_start": 0.7000000000000001,
            "bin_end": 0.8,
            "count": 0
           },
           {
            "bin_start": 0.8,
            "bin_end": 0.9,
            "count": 0
           },
           {
            "bin_start": 0.9,
            "bin_end": 1,
            "count": 1
           }
          ]
         }
        },
        {
         "name": "Spa",
         "dtype": "float64",
         "stats": {
          "unique_count": 1328,
          "nan_count": 0,
          "min": "0.0",
          "max": "1.0",
          "histogram": [
           {
            "bin_start": 0,
            "bin_end": 0.1,
            "count": 8387
           },
           {
            "bin_start": 0.1,
            "bin_end": 0.2,
            "count": 180
           },
           {
            "bin_start": 0.2,
            "bin_end": 0.30000000000000004,
            "count": 73
           },
           {
            "bin_start": 0.30000000000000004,
            "bin_end": 0.4,
            "count": 22
           },
           {
            "bin_start": 0.4,
            "bin_end": 0.5,
            "count": 15
           },
           {
            "bin_start": 0.5,
            "bin_end": 0.6000000000000001,
            "count": 6
           },
           {
            "bin_start": 0.6000000000000001,
            "bin_end": 0.7000000000000001,
            "count": 6
           },
           {
            "bin_start": 0.7000000000000001,
            "bin_end": 0.8,
            "count": 2
           },
           {
            "bin_start": 0.8,
            "bin_end": 0.9,
            "count": 1
           },
           {
            "bin_start": 0.9,
            "bin_end": 1,
            "count": 1
           }
          ]
         }
        },
        {
         "name": "VRDeck",
         "dtype": "float64",
         "stats": {
          "unique_count": 1307,
          "nan_count": 0,
          "min": "0.0",
          "max": "1.0",
          "histogram": [
           {
            "bin_start": 0,
            "bin_end": 0.1,
            "count": 8440
           },
           {
            "bin_start": 0.1,
            "bin_end": 0.2,
            "count": 136
           },
           {
            "bin_start": 0.2,
            "bin_end": 0.30000000000000004,
            "count": 60
           },
           {
            "bin_start": 0.30000000000000004,
            "bin_end": 0.4,
            "count": 26
           },
           {
            "bin_start": 0.4,
            "bin_end": 0.5,
            "count": 18
           },
           {
            "bin_start": 0.5,
            "bin_end": 0.6000000000000001,
            "count": 7
           },
           {
            "bin_start": 0.6000000000000001,
            "bin_end": 0.7000000000000001,
            "count": 2
           },
           {
            "bin_start": 0.7000000000000001,
            "bin_end": 0.8,
            "count": 2
           },
           {
            "bin_start": 0.8,
            "bin_end": 0.9,
            "count": 1
           },
           {
            "bin_start": 0.9,
            "bin_end": 1,
            "count": 1
           }
          ]
         }
        },
        {
         "name": "HomePlanet_Earth",
         "dtype": "float64",
         "stats": {
          "unique_count": 2,
          "nan_count": 0,
          "min": "0.0",
          "max": "1.0",
          "histogram": [
           {
            "bin_start": 0,
            "bin_end": 0.1,
            "count": 3890
           },
           {
            "bin_start": 0.1,
            "bin_end": 0.2,
            "count": 0
           },
           {
            "bin_start": 0.2,
            "bin_end": 0.30000000000000004,
            "count": 0
           },
           {
            "bin_start": 0.30000000000000004,
            "bin_end": 0.4,
            "count": 0
           },
           {
            "bin_start": 0.4,
            "bin_end": 0.5,
            "count": 0
           },
           {
            "bin_start": 0.5,
            "bin_end": 0.6000000000000001,
            "count": 0
           },
           {
            "bin_start": 0.6000000000000001,
            "bin_end": 0.7000000000000001,
            "count": 0
           },
           {
            "bin_start": 0.7000000000000001,
            "bin_end": 0.8,
            "count": 0
           },
           {
            "bin_start": 0.8,
            "bin_end": 0.9,
            "count": 0
           },
           {
            "bin_start": 0.9,
            "bin_end": 1,
            "count": 4803
           }
          ]
         }
        },
        {
         "name": "HomePlanet_Europa",
         "dtype": "float64",
         "stats": {
          "unique_count": 2,
          "nan_count": 0,
          "min": "0.0",
          "max": "1.0",
          "histogram": [
           {
            "bin_start": 0,
            "bin_end": 0.1,
            "count": 6562
           },
           {
            "bin_start": 0.1,
            "bin_end": 0.2,
            "count": 0
           },
           {
            "bin_start": 0.2,
            "bin_end": 0.30000000000000004,
            "count": 0
           },
           {
            "bin_start": 0.30000000000000004,
            "bin_end": 0.4,
            "count": 0
           },
           {
            "bin_start": 0.4,
            "bin_end": 0.5,
            "count": 0
           },
           {
            "bin_start": 0.5,
            "bin_end": 0.6000000000000001,
            "count": 0
           },
           {
            "bin_start": 0.6000000000000001,
            "bin_end": 0.7000000000000001,
            "count": 0
           },
           {
            "bin_start": 0.7000000000000001,
            "bin_end": 0.8,
            "count": 0
           },
           {
            "bin_start": 0.8,
            "bin_end": 0.9,
            "count": 0
           },
           {
            "bin_start": 0.9,
            "bin_end": 1,
            "count": 2131
           }
          ]
         }
        },
        {
         "name": "HomePlanet_Mars",
         "dtype": "float64"
        },
        {
         "name": "Destination_55 Cancri e",
         "dtype": "float64"
        },
        {
         "name": "Destination_PSO J318.5-22",
         "dtype": "float64"
        },
        {
         "name": "Destination_TRAPPIST-1e",
         "dtype": "float64"
        },
        {
         "name": "Side",
         "dtype": "float64"
        },
        {
         "name": "_deepnote_index_column",
         "dtype": "int64"
        }
       ],
       "rows": [
        {
         "PassengerId": "0001_01",
         "CryoSleep": 0,
         "Age": 0.49367088079452515,
         "VIP": 0,
         "RoomService": 0,
         "FoodCourt": 0,
         "ShoppingMall": 0,
         "Spa": 0,
         "VRDeck": 0,
         "HomePlanet_Earth": 0,
         "HomePlanet_Europa": 1,
         "HomePlanet_Mars": 0,
         "Destination_55 Cancri e": 0,
         "Destination_PSO J318.5-22": 0,
         "Destination_TRAPPIST-1e": 1,
         "Side": 0,
         "_deepnote_index_column": 0
        },
        {
         "PassengerId": "0002_01",
         "CryoSleep": 0,
         "Age": 0.3037974536418915,
         "VIP": 0,
         "RoomService": 0.0076080127619206905,
         "FoodCourt": 0.0003018817224074155,
         "ShoppingMall": 0.0010641920380294323,
         "Spa": 0.024500178173184395,
         "VRDeck": 0.001823229598812759,
         "HomePlanet_Earth": 1,
         "HomePlanet_Europa": 0,
         "HomePlanet_Mars": 0,
         "Destination_55 Cancri e": 0,
         "Destination_PSO J318.5-22": 0,
         "Destination_TRAPPIST-1e": 1,
         "Side": 1,
         "_deepnote_index_column": 1
        },
        {
         "PassengerId": "0003_01",
         "CryoSleep": 0,
         "Age": 0.7341772317886353,
         "VIP": 1,
         "RoomService": 0.0030013262294232845,
         "FoodCourt": 0.11994767189025879,
         "ShoppingMall": 0,
         "Spa": 0.2996697723865509,
         "VRDeck": 0.0020304147619754076,
         "HomePlanet_Earth": 0,
         "HomePlanet_Europa": 1,
         "HomePlanet_Mars": 0,
         "Destination_55 Cancri e": 0,
         "Destination_PSO J318.5-22": 0,
         "Destination_TRAPPIST-1e": 1,
         "Side": 1,
         "_deepnote_index_column": 2
        },
        {
         "PassengerId": "0003_02",
         "CryoSleep": 0,
         "Age": 0.4177215099334717,
         "VIP": 0,
         "RoomService": 0,
         "FoodCourt": 0.04303491860628128,
         "ShoppingMall": 0.015792610123753548,
         "Spa": 0.14856301248073578,
         "VRDeck": 0.007997347973287106,
         "HomePlanet_Earth": 0,
         "HomePlanet_Europa": 1,
         "HomePlanet_Mars": 0,
         "Destination_55 Cancri e": 0,
         "Destination_PSO J318.5-22": 0,
         "Destination_TRAPPIST-1e": 1,
         "Side": 1,
         "_deepnote_index_column": 3
        },
        {
         "PassengerId": "0004_01",
         "CryoSleep": 0,
         "Age": 0.20253165066242218,
         "VIP": 0,
         "RoomService": 0.02114887908101082,
         "FoodCourt": 0.0023479689843952656,
         "ShoppingMall": 0.0064277201890945435,
         "Spa": 0.02521420828998089,
         "VRDeck": 0.00008287407399620861,
         "HomePlanet_Earth": 1,
         "HomePlanet_Europa": 0,
         "HomePlanet_Mars": 0,
         "Destination_55 Cancri e": 0,
         "Destination_PSO J318.5-22": 0,
         "Destination_TRAPPIST-1e": 1,
         "Side": 1,
         "_deepnote_index_column": 4
        },
        {
         "PassengerId": "0005_01",
         "CryoSleep": 0,
         "Age": 0.5569620132446289,
         "VIP": 0,
         "RoomService": 0,
         "FoodCourt": 0.01620098575949669,
         "ShoppingMall": 0,
         "Spa": 0.012986433692276478,
         "VRDeck": 0,
         "HomePlanet_Earth": 1,
         "HomePlanet_Europa": 0,
         "HomePlanet_Mars": 0,
         "Destination_55 Cancri e": 0,
         "Destination_PSO J318.5-22": 1,
         "Destination_TRAPPIST-1e": 0,
         "Side": 0,
         "_deepnote_index_column": 5
        },
        {
         "PassengerId": "0006_01",
         "CryoSleep": 0,
         "Age": 0.3291139304637909,
         "VIP": 0,
         "RoomService": 0.00293152779340744,
         "FoodCourt": 0.051621776074171066,
         "ShoppingMall": 0.000127703053294681,
         "Spa": 0,
         "VRDeck": 0,
         "HomePlanet_Earth": 1,
         "HomePlanet_Europa": 0,
         "HomePlanet_Mars": 0,
         "Destination_55 Cancri e": 0,
         "Destination_PSO J318.5-22": 0,
         "Destination_TRAPPIST-1e": 1,
         "Side": 1,
         "_deepnote_index_column": 6
        },
        {
         "PassengerId": "0006_02",
         "CryoSleep": 1,
         "Age": 0.3544303774833679,
         "VIP": 0,
         "RoomService": 0,
         "FoodCourt": 0,
         "ShoppingMall": 0,
         "Spa": 0,
         "VRDeck": 0.012712446972727776,
         "HomePlanet_Earth": 1,
         "HomePlanet_Europa": 0,
         "HomePlanet_Mars": 0,
         "Destination_55 Cancri e": 0,
         "Destination_PSO J318.5-22": 0,
         "Destination_TRAPPIST-1e": 1,
         "Side": 1,
         "_deepnote_index_column": 7
        },
        {
         "PassengerId": "0007_01",
         "CryoSleep": 0,
         "Age": 0.4430379867553711,
         "VIP": 0,
         "RoomService": 0,
         "FoodCourt": 0.026330795139074326,
         "ShoppingMall": 0.0007236506207846105,
         "Spa": 0.009639414958655834,
         "VRDeck": 0,
         "HomePlanet_Earth": 1,
         "HomePlanet_Europa": 0,
         "HomePlanet_Mars": 0,
         "Destination_55 Cancri e": 0,
         "Destination_PSO J318.5-22": 0,
         "Destination_TRAPPIST-1e": 1,
         "Side": 1,
         "_deepnote_index_column": 8
        },
        {
         "PassengerId": "0008_01",
         "CryoSleep": 1,
         "Age": 0.17721518874168396,
         "VIP": 0,
         "RoomService": 0,
         "FoodCourt": 0,
         "ShoppingMall": 0,
         "Spa": 0,
         "VRDeck": 0,
         "HomePlanet_Earth": 0,
         "HomePlanet_Europa": 1,
         "HomePlanet_Mars": 0,
         "Destination_55 Cancri e": 1,
         "Destination_PSO J318.5-22": 0,
         "Destination_TRAPPIST-1e": 0,
         "Side": 0,
         "_deepnote_index_column": 9
        }
       ]
      },
      "text/plain": "     PassengerId  CryoSleep       Age  VIP  RoomService  FoodCourt  \\\n0        0001_01        0.0  0.493671  0.0     0.000000   0.000000   \n1        0002_01        0.0  0.303797  0.0     0.007608   0.000302   \n2        0003_01        0.0  0.734177  1.0     0.003001   0.119948   \n3        0003_02        0.0  0.417722  0.0     0.000000   0.043035   \n4        0004_01        0.0  0.202532  0.0     0.021149   0.002348   \n...          ...        ...       ...  ...          ...        ...   \n8688     9276_01        0.0  0.518987  1.0     0.000000   0.228726   \n8689     9278_01        1.0  0.227848  0.0     0.000000   0.000000   \n8690     9279_01        0.0  0.329114  0.0     0.000000   0.000000   \n8691     9280_01        0.0  0.405063  0.0     0.000000   0.035186   \n8692     9280_02        0.0  0.556962  0.0     0.008795   0.157247   \n\n      ShoppingMall       Spa    VRDeck  HomePlanet_Earth  HomePlanet_Europa  \\\n0         0.000000  0.000000  0.000000               0.0                1.0   \n1         0.001064  0.024500  0.001823               1.0                0.0   \n2         0.000000  0.299670  0.002030               0.0                1.0   \n3         0.015793  0.148563  0.007997               0.0                1.0   \n4         0.006428  0.025214  0.000083               1.0                0.0   \n...            ...       ...       ...               ...                ...   \n8688      0.000000  0.073322  0.003066               0.0                1.0   \n8689      0.000000  0.000000  0.000000               1.0                0.0   \n8690      0.079687  0.000045  0.000000               1.0                0.0   \n8691      0.000000  0.015753  0.134049               0.0                1.0   \n8692      0.000000  0.000000  0.000497               0.0                1.0   \n\n      HomePlanet_Mars  Destination_55 Cancri e  Destination_PSO J318.5-22  \\\n0                 0.0                      0.0                        0.0   \n1                 0.0                      0.0                        0.0   \n2                 0.0                      0.0                        0.0   \n3                 0.0                      0.0                        0.0   \n4                 0.0                      0.0                        0.0   \n...               ...                      ...                        ...   \n8688              0.0                      1.0                        0.0   \n8689              0.0                      0.0                        1.0   \n8690              0.0                      0.0                        0.0   \n8691              0.0                      1.0                        0.0   \n8692              0.0                      0.0                        0.0   \n\n      Destination_TRAPPIST-1e  Side  \n0                         1.0   0.0  \n1                         1.0   1.0  \n2                         1.0   1.0  \n3                         1.0   1.0  \n4                         1.0   1.0  \n...                       ...   ...  \n8688                      0.0   0.0  \n8689                      0.0   1.0  \n8690                      1.0   1.0  \n8691                      0.0   1.0  \n8692                      1.0   1.0  \n\n[8693 rows x 16 columns]",
      "text/html": "<div>\n<style scoped>\n    .dataframe tbody tr th:only-of-type {\n        vertical-align: middle;\n    }\n\n    .dataframe tbody tr th {\n        vertical-align: top;\n    }\n\n    .dataframe thead th {\n        text-align: right;\n    }\n</style>\n<table border=\"1\" class=\"dataframe\">\n  <thead>\n    <tr style=\"text-align: right;\">\n      <th></th>\n      <th>PassengerId</th>\n      <th>CryoSleep</th>\n      <th>Age</th>\n      <th>VIP</th>\n      <th>RoomService</th>\n      <th>FoodCourt</th>\n      <th>ShoppingMall</th>\n      <th>Spa</th>\n      <th>VRDeck</th>\n      <th>HomePlanet_Earth</th>\n      <th>HomePlanet_Europa</th>\n      <th>HomePlanet_Mars</th>\n      <th>Destination_55 Cancri e</th>\n      <th>Destination_PSO J318.5-22</th>\n      <th>Destination_TRAPPIST-1e</th>\n      <th>Side</th>\n    </tr>\n  </thead>\n  <tbody>\n    <tr>\n      <th>0</th>\n      <td>0001_01</td>\n      <td>0.0</td>\n      <td>0.493671</td>\n      <td>0.0</td>\n      <td>0.000000</td>\n      <td>0.000000</td>\n      <td>0.000000</td>\n      <td>0.000000</td>\n      <td>0.000000</td>\n      <td>0.0</td>\n      <td>1.0</td>\n      <td>0.0</td>\n      <td>0.0</td>\n      <td>0.0</td>\n      <td>1.0</td>\n      <td>0.0</td>\n    </tr>\n    <tr>\n      <th>1</th>\n      <td>0002_01</td>\n      <td>0.0</td>\n      <td>0.303797</td>\n      <td>0.0</td>\n      <td>0.007608</td>\n      <td>0.000302</td>\n      <td>0.001064</td>\n      <td>0.024500</td>\n      <td>0.001823</td>\n      <td>1.0</td>\n      <td>0.0</td>\n      <td>0.0</td>\n      <td>0.0</td>\n      <td>0.0</td>\n      <td>1.0</td>\n      <td>1.0</td>\n    </tr>\n    <tr>\n      <th>2</th>\n      <td>0003_01</td>\n      <td>0.0</td>\n      <td>0.734177</td>\n      <td>1.0</td>\n      <td>0.003001</td>\n      <td>0.119948</td>\n      <td>0.000000</td>\n      <td>0.299670</td>\n      <td>0.002030</td>\n      <td>0.0</td>\n      <td>1.0</td>\n      <td>0.0</td>\n      <td>0.0</td>\n      <td>0.0</td>\n      <td>1.0</td>\n      <td>1.0</td>\n    </tr>\n    <tr>\n      <th>3</th>\n      <td>0003_02</td>\n      <td>0.0</td>\n      <td>0.417722</td>\n      <td>0.0</td>\n      <td>0.000000</td>\n      <td>0.043035</td>\n      <td>0.015793</td>\n      <td>0.148563</td>\n      <td>0.007997</td>\n      <td>0.0</td>\n      <td>1.0</td>\n      <td>0.0</td>\n      <td>0.0</td>\n      <td>0.0</td>\n      <td>1.0</td>\n      <td>1.0</td>\n    </tr>\n    <tr>\n      <th>4</th>\n      <td>0004_01</td>\n      <td>0.0</td>\n      <td>0.202532</td>\n      <td>0.0</td>\n      <td>0.021149</td>\n      <td>0.002348</td>\n      <td>0.006428</td>\n      <td>0.025214</td>\n      <td>0.000083</td>\n      <td>1.0</td>\n      <td>0.0</td>\n      <td>0.0</td>\n      <td>0.0</td>\n      <td>0.0</td>\n      <td>1.0</td>\n      <td>1.0</td>\n    </tr>\n    <tr>\n      <th>...</th>\n      <td>...</td>\n      <td>...</td>\n      <td>...</td>\n      <td>...</td>\n      <td>...</td>\n      <td>...</td>\n      <td>...</td>\n      <td>...</td>\n      <td>...</td>\n      <td>...</td>\n      <td>...</td>\n      <td>...</td>\n      <td>...</td>\n      <td>...</td>\n      <td>...</td>\n      <td>...</td>\n    </tr>\n    <tr>\n      <th>8688</th>\n      <td>9276_01</td>\n      <td>0.0</td>\n      <td>0.518987</td>\n      <td>1.0</td>\n      <td>0.000000</td>\n      <td>0.228726</td>\n      <td>0.000000</td>\n      <td>0.073322</td>\n      <td>0.003066</td>\n      <td>0.0</td>\n      <td>1.0</td>\n      <td>0.0</td>\n      <td>1.0</td>\n      <td>0.0</td>\n      <td>0.0</td>\n      <td>0.0</td>\n    </tr>\n    <tr>\n      <th>8689</th>\n      <td>9278_01</td>\n      <td>1.0</td>\n      <td>0.227848</td>\n      <td>0.0</td>\n      <td>0.000000</td>\n      <td>0.000000</td>\n      <td>0.000000</td>\n      <td>0.000000</td>\n      <td>0.000000</td>\n      <td>1.0</td>\n      <td>0.0</td>\n      <td>0.0</td>\n      <td>0.0</td>\n      <td>1.0</td>\n      <td>0.0</td>\n      <td>1.0</td>\n    </tr>\n    <tr>\n      <th>8690</th>\n      <td>9279_01</td>\n      <td>0.0</td>\n      <td>0.329114</td>\n      <td>0.0</td>\n      <td>0.000000</td>\n      <td>0.000000</td>\n      <td>0.079687</td>\n      <td>0.000045</td>\n      <td>0.000000</td>\n      <td>1.0</td>\n      <td>0.0</td>\n      <td>0.0</td>\n      <td>0.0</td>\n      <td>0.0</td>\n      <td>1.0</td>\n      <td>1.0</td>\n    </tr>\n    <tr>\n      <th>8691</th>\n      <td>9280_01</td>\n      <td>0.0</td>\n      <td>0.405063</td>\n      <td>0.0</td>\n      <td>0.000000</td>\n      <td>0.035186</td>\n      <td>0.000000</td>\n      <td>0.015753</td>\n      <td>0.134049</td>\n      <td>0.0</td>\n      <td>1.0</td>\n      <td>0.0</td>\n      <td>1.0</td>\n      <td>0.0</td>\n      <td>0.0</td>\n      <td>1.0</td>\n    </tr>\n    <tr>\n      <th>8692</th>\n      <td>9280_02</td>\n      <td>0.0</td>\n      <td>0.556962</td>\n      <td>0.0</td>\n      <td>0.008795</td>\n      <td>0.157247</td>\n      <td>0.000000</td>\n      <td>0.000000</td>\n      <td>0.000497</td>\n      <td>0.0</td>\n      <td>1.0</td>\n      <td>0.0</td>\n      <td>0.0</td>\n      <td>0.0</td>\n      <td>1.0</td>\n      <td>1.0</td>\n    </tr>\n  </tbody>\n</table>\n<p>8693 rows × 16 columns</p>\n</div>"
     },
     "metadata": {}
    }
   ],
   "execution_count": 29
  },
  {
   "cell_type": "code",
   "source": "dl_model = keras.Sequential([\n    keras.layers.Dense(25, input_shape = (15, ), activation='relu'),\n    keras.layers.Dense(15, activation='relu'),\n     keras.layers.Dense(15, activation='relu'),\n      keras.layers.Dense(10, activation='relu'),\n    keras.layers.Dense(1, activation='sigmoid')\n])\n\ndl_model.compile(\n    optimizer='adam',\n    loss='binary_crossentropy',\n    metrics=['accuracy']\n)\n\ndl_model.fit(df1, y_train, epochs=10)\n",
   "metadata": {
    "cell_id": "20e3617461d54d708a8b319300a97132",
    "tags": [],
    "deepnote_to_be_reexecuted": false,
    "source_hash": "95cc0ab4",
    "execution_start": 1657623610092,
    "execution_millis": 5545,
    "deepnote_cell_type": "code",
    "deepnote_cell_height": 814.921875,
    "deepnote_output_heights": [
     null,
     21.1875
    ]
   },
   "outputs": [
    {
     "name": "stdout",
     "text": "Epoch 1/10\n272/272 [==============================] - 1s 2ms/step - loss: 0.6280 - accuracy: 0.6750\nEpoch 2/10\n272/272 [==============================] - 0s 2ms/step - loss: 0.5104 - accuracy: 0.7519\nEpoch 3/10\n272/272 [==============================] - 0s 2ms/step - loss: 0.4669 - accuracy: 0.7669\nEpoch 4/10\n272/272 [==============================] - 1s 2ms/step - loss: 0.4499 - accuracy: 0.7826\nEpoch 5/10\n272/272 [==============================] - 0s 2ms/step - loss: 0.4458 - accuracy: 0.7875\nEpoch 6/10\n272/272 [==============================] - 0s 2ms/step - loss: 0.4390 - accuracy: 0.7925\nEpoch 7/10\n272/272 [==============================] - 0s 2ms/step - loss: 0.4392 - accuracy: 0.7911\nEpoch 8/10\n272/272 [==============================] - 0s 2ms/step - loss: 0.4344 - accuracy: 0.7952\nEpoch 9/10\n272/272 [==============================] - 0s 2ms/step - loss: 0.4353 - accuracy: 0.7935\nEpoch 10/10\n272/272 [==============================] - 1s 2ms/step - loss: 0.4346 - accuracy: 0.7905\n",
     "output_type": "stream"
    },
    {
     "output_type": "execute_result",
     "execution_count": 30,
     "data": {
      "text/plain": "<keras.callbacks.History at 0x7fa8bcf4fa30>"
     },
     "metadata": {}
    }
   ],
   "execution_count": 30
  },
  {
   "cell_type": "code",
   "source": "dl_model.evaluate(df1, y_train)",
   "metadata": {
    "cell_id": "3a1ecb3767bd494bb7fe197499d5ac5f",
    "tags": [],
    "deepnote_to_be_reexecuted": false,
    "source_hash": "cbc431df",
    "execution_start": 1657623615679,
    "execution_millis": 477,
    "deepnote_cell_type": "code",
    "deepnote_cell_height": 163.921875,
    "deepnote_output_heights": [
     null,
     21.1875
    ]
   },
   "outputs": [
    {
     "name": "stdout",
     "text": "272/272 [==============================] - 0s 1ms/step - loss: 0.4248 - accuracy: 0.8009\n",
     "output_type": "stream"
    },
    {
     "output_type": "execute_result",
     "execution_count": 31,
     "data": {
      "text/plain": "[0.4248448312282562, 0.8008742928504944]"
     },
     "metadata": {}
    }
   ],
   "execution_count": 31
  },
  {
   "cell_type": "code",
   "source": "y_pred = []\narr = dl_model.predict(df2)\nfor i in arr:\n    if i>0.5:\n        y_pred.append(1)\n    else:\n        y_pred.append(0)\n\n#y_pred",
   "metadata": {
    "cell_id": "f0bdad740f9140648a0ecc17b126d038",
    "tags": [],
    "deepnote_to_be_reexecuted": false,
    "source_hash": "22099956",
    "execution_start": 1657623616156,
    "execution_millis": 271,
    "deepnote_cell_type": "code",
    "deepnote_cell_height": 255.921875,
    "deepnote_output_heights": [
     null,
     611
    ]
   },
   "outputs": [
    {
     "name": "stdout",
     "text": "134/134 [==============================] - 0s 1ms/step\n",
     "output_type": "stream"
    }
   ],
   "execution_count": 32
  },
  {
   "cell_type": "code",
   "source": "df_test_drop",
   "metadata": {
    "cell_id": "7333bbc142a74e1ab50d74d47480d6bd",
    "tags": [],
    "deepnote_to_be_reexecuted": false,
    "source_hash": "98e12091",
    "execution_start": 1657623616429,
    "execution_millis": 120,
    "deepnote_cell_type": "code",
    "deepnote_cell_height": 616.921875
   },
   "outputs": [
    {
     "output_type": "execute_result",
     "execution_count": 33,
     "data": {
      "application/vnd.deepnote.dataframe.v3+json": {
       "column_count": 16,
       "row_count": 4277,
       "columns": [
        {
         "name": "PassengerId",
         "dtype": "object",
         "stats": {
          "unique_count": 4277,
          "nan_count": 0,
          "categories": [
           {
            "name": "0013_01",
            "count": 1
           },
           {
            "name": "0018_01",
            "count": 1
           },
           {
            "name": "4275 others",
            "count": 4275
           }
          ]
         }
        },
        {
         "name": "CryoSleep",
         "dtype": "float64",
         "stats": {
          "unique_count": 2,
          "nan_count": 0,
          "min": "0.0",
          "max": "1.0",
          "histogram": [
           {
            "bin_start": 0,
            "bin_end": 0.1,
            "count": 2733
           },
           {
            "bin_start": 0.1,
            "bin_end": 0.2,
            "count": 0
           },
           {
            "bin_start": 0.2,
            "bin_end": 0.30000000000000004,
            "count": 0
           },
           {
            "bin_start": 0.30000000000000004,
            "bin_end": 0.4,
            "count": 0
           },
           {
            "bin_start": 0.4,
            "bin_end": 0.5,
            "count": 0
           },
           {
            "bin_start": 0.5,
            "bin_end": 0.6000000000000001,
            "count": 0
           },
           {
            "bin_start": 0.6000000000000001,
            "bin_end": 0.7000000000000001,
            "count": 0
           },
           {
            "bin_start": 0.7000000000000001,
            "bin_end": 0.8,
            "count": 0
           },
           {
            "bin_start": 0.8,
            "bin_end": 0.9,
            "count": 0
           },
           {
            "bin_start": 0.9,
            "bin_end": 1,
            "count": 1544
           }
          ]
         }
        },
        {
         "name": "Age",
         "dtype": "float64",
         "stats": {
          "unique_count": 79,
          "nan_count": 0,
          "min": "0.0",
          "max": "1.0",
          "histogram": [
           {
            "bin_start": 0,
            "bin_end": 0.1,
            "count": 256
           },
           {
            "bin_start": 0.1,
            "bin_end": 0.2,
            "count": 307
           },
           {
            "bin_start": 0.2,
            "bin_end": 0.30000000000000004,
            "count": 1118
           },
           {
            "bin_start": 0.30000000000000004,
            "bin_end": 0.4,
            "count": 1048
           },
           {
            "bin_start": 0.4,
            "bin_end": 0.5,
            "count": 650
           },
           {
            "bin_start": 0.5,
            "bin_end": 0.6000000000000001,
            "count": 453
           },
           {
            "bin_start": 0.6000000000000001,
            "bin_end": 0.7000000000000001,
            "count": 237
           },
           {
            "bin_start": 0.7000000000000001,
            "bin_end": 0.8,
            "count": 145
           },
           {
            "bin_start": 0.8,
            "bin_end": 0.9,
            "count": 47
           },
           {
            "bin_start": 0.9,
            "bin_end": 1,
            "count": 16
           }
          ]
         }
        },
        {
         "name": "VIP",
         "dtype": "float64",
         "stats": {
          "unique_count": 2,
          "nan_count": 0,
          "min": "0.0",
          "max": "1.0",
          "histogram": [
           {
            "bin_start": 0,
            "bin_end": 0.1,
            "count": 4203
           },
           {
            "bin_start": 0.1,
            "bin_end": 0.2,
            "count": 0
           },
           {
            "bin_start": 0.2,
            "bin_end": 0.30000000000000004,
            "count": 0
           },
           {
            "bin_start": 0.30000000000000004,
            "bin_end": 0.4,
            "count": 0
           },
           {
            "bin_start": 0.4,
            "bin_end": 0.5,
            "count": 0
           },
           {
            "bin_start": 0.5,
            "bin_end": 0.6000000000000001,
            "count": 0
           },
           {
            "bin_start": 0.6000000000000001,
            "bin_end": 0.7000000000000001,
            "count": 0
           },
           {
            "bin_start": 0.7000000000000001,
            "bin_end": 0.8,
            "count": 0
           },
           {
            "bin_start": 0.8,
            "bin_end": 0.9,
            "count": 0
           },
           {
            "bin_start": 0.9,
            "bin_end": 1,
            "count": 74
           }
          ]
         }
        },
        {
         "name": "RoomService",
         "dtype": "float64",
         "stats": {
          "unique_count": 843,
          "nan_count": 0,
          "min": "0.0",
          "max": "1.0",
          "histogram": [
           {
            "bin_start": 0,
            "bin_end": 0.1,
            "count": 4022
           },
           {
            "bin_start": 0.1,
            "bin_end": 0.2,
            "count": 184
           },
           {
            "bin_start": 0.2,
            "bin_end": 0.30000000000000004,
            "count": 42
           },
           {
            "bin_start": 0.30000000000000004,
            "bin_end": 0.4,
            "count": 17
           },
           {
            "bin_start": 0.4,
            "bin_end": 0.5,
            "count": 7
           },
           {
            "bin_start": 0.5,
            "bin_end": 0.6000000000000001,
            "count": 3
           },
           {
            "bin_start": 0.6000000000000001,
            "bin_end": 0.7000000000000001,
            "count": 1
           },
           {
            "bin_start": 0.7000000000000001,
            "bin_end": 0.8,
            "count": 0
           },
           {
            "bin_start": 0.8,
            "bin_end": 0.9,
            "count": 0
           },
           {
            "bin_start": 0.9,
            "bin_end": 1,
            "count": 1
           }
          ]
         }
        },
        {
         "name": "FoodCourt",
         "dtype": "float64",
         "stats": {
          "unique_count": 903,
          "nan_count": 0,
          "min": "0.0",
          "max": "1.0",
          "histogram": [
           {
            "bin_start": 0,
            "bin_end": 0.1,
            "count": 4070
           },
           {
            "bin_start": 0.1,
            "bin_end": 0.2,
            "count": 116
           },
           {
            "bin_start": 0.2,
            "bin_end": 0.30000000000000004,
            "count": 49
           },
           {
            "bin_start": 0.30000000000000004,
            "bin_end": 0.4,
            "count": 22
           },
           {
            "bin_start": 0.4,
            "bin_end": 0.5,
            "count": 12
           },
           {
            "bin_start": 0.5,
            "bin_end": 0.6000000000000001,
            "count": 0
           },
           {
            "bin_start": 0.6000000000000001,
            "bin_end": 0.7000000000000001,
            "count": 4
           },
           {
            "bin_start": 0.7000000000000001,
            "bin_end": 0.8,
            "count": 0
           },
           {
            "bin_start": 0.8,
            "bin_end": 0.9,
            "count": 2
           },
           {
            "bin_start": 0.9,
            "bin_end": 1,
            "count": 2
           }
          ]
         }
        },
        {
         "name": "ShoppingMall",
         "dtype": "float64",
         "stats": {
          "unique_count": 716,
          "nan_count": 0,
          "min": "0.0",
          "max": "1.0",
          "histogram": [
           {
            "bin_start": 0,
            "bin_end": 0.1,
            "count": 3984
           },
           {
            "bin_start": 0.1,
            "bin_end": 0.2,
            "count": 204
           },
           {
            "bin_start": 0.2,
            "bin_end": 0.30000000000000004,
            "count": 46
           },
           {
            "bin_start": 0.30000000000000004,
            "bin_end": 0.4,
            "count": 22
           },
           {
            "bin_start": 0.4,
            "bin_end": 0.5,
            "count": 5
           },
           {
            "bin_start": 0.5,
            "bin_end": 0.6000000000000001,
            "count": 5
           },
           {
            "bin_start": 0.6000000000000001,
            "bin_end": 0.7000000000000001,
            "count": 2
           },
           {
            "bin_start": 0.7000000000000001,
            "bin_end": 0.8,
            "count": 4
           },
           {
            "bin_start": 0.8,
            "bin_end": 0.9,
            "count": 1
           },
           {
            "bin_start": 0.9,
            "bin_end": 1,
            "count": 4
           }
          ]
         }
        },
        {
         "name": "Spa",
         "dtype": "float64",
         "stats": {
          "unique_count": 834,
          "nan_count": 0,
          "min": "0.0",
          "max": "1.0",
          "histogram": [
           {
            "bin_start": 0,
            "bin_end": 0.1,
            "count": 4125
           },
           {
            "bin_start": 0.1,
            "bin_end": 0.2,
            "count": 82
           },
           {
            "bin_start": 0.2,
            "bin_end": 0.30000000000000004,
            "count": 33
           },
           {
            "bin_start": 0.30000000000000004,
            "bin_end": 0.4,
            "count": 19
           },
           {
            "bin_start": 0.4,
            "bin_end": 0.5,
            "count": 6
           },
           {
            "bin_start": 0.5,
            "bin_end": 0.6000000000000001,
            "count": 3
           },
           {
            "bin_start": 0.6000000000000001,
            "bin_end": 0.7000000000000001,
            "count": 4
           },
           {
            "bin_start": 0.7000000000000001,
            "bin_end": 0.8,
            "count": 4
           },
           {
            "bin_start": 0.8,
            "bin_end": 0.9,
            "count": 0
           },
           {
            "bin_start": 0.9,
            "bin_end": 1,
            "count": 1
           }
          ]
         }
        },
        {
         "name": "VRDeck",
         "dtype": "float64",
         "stats": {
          "unique_count": 797,
          "nan_count": 0,
          "min": "0.0",
          "max": "1.0",
          "histogram": [
           {
            "bin_start": 0,
            "bin_end": 0.1,
            "count": 4129
           },
           {
            "bin_start": 0.1,
            "bin_end": 0.2,
            "count": 83
           },
           {
            "bin_start": 0.2,
            "bin_end": 0.30000000000000004,
            "count": 33
           },
           {
            "bin_start": 0.30000000000000004,
            "bin_end": 0.4,
            "count": 14
           },
           {
            "bin_start": 0.4,
            "bin_end": 0.5,
            "count": 3
           },
           {
            "bin_start": 0.5,
            "bin_end": 0.6000000000000001,
            "count": 6
           },
           {
            "bin_start": 0.6000000000000001,
            "bin_end": 0.7000000000000001,
            "count": 4
           },
           {
            "bin_start": 0.7000000000000001,
            "bin_end": 0.8,
            "count": 2
           },
           {
            "bin_start": 0.8,
            "bin_end": 0.9,
            "count": 2
           },
           {
            "bin_start": 0.9,
            "bin_end": 1,
            "count": 1
           }
          ]
         }
        },
        {
         "name": "HomePlanet_Earth",
         "dtype": "float64",
         "stats": {
          "unique_count": 2,
          "nan_count": 0,
          "min": "0.0",
          "max": "1.0",
          "histogram": [
           {
            "bin_start": 0,
            "bin_end": 0.1,
            "count": 1927
           },
           {
            "bin_start": 0.1,
            "bin_end": 0.2,
            "count": 0
           },
           {
            "bin_start": 0.2,
            "bin_end": 0.30000000000000004,
            "count": 0
           },
           {
            "bin_start": 0.30000000000000004,
            "bin_end": 0.4,
            "count": 0
           },
           {
            "bin_start": 0.4,
            "bin_end": 0.5,
            "count": 0
           },
           {
            "bin_start": 0.5,
            "bin_end": 0.6000000000000001,
            "count": 0
           },
           {
            "bin_start": 0.6000000000000001,
            "bin_end": 0.7000000000000001,
            "count": 0
           },
           {
            "bin_start": 0.7000000000000001,
            "bin_end": 0.8,
            "count": 0
           },
           {
            "bin_start": 0.8,
            "bin_end": 0.9,
            "count": 0
           },
           {
            "bin_start": 0.9,
            "bin_end": 1,
            "count": 2350
           }
          ]
         }
        },
        {
         "name": "HomePlanet_Europa",
         "dtype": "float64",
         "stats": {
          "unique_count": 2,
          "nan_count": 0,
          "min": "0.0",
          "max": "1.0",
          "histogram": [
           {
            "bin_start": 0,
            "bin_end": 0.1,
            "count": 3275
           },
           {
            "bin_start": 0.1,
            "bin_end": 0.2,
            "count": 0
           },
           {
            "bin_start": 0.2,
            "bin_end": 0.30000000000000004,
            "count": 0
           },
           {
            "bin_start": 0.30000000000000004,
            "bin_end": 0.4,
            "count": 0
           },
           {
            "bin_start": 0.4,
            "bin_end": 0.5,
            "count": 0
           },
           {
            "bin_start": 0.5,
            "bin_end": 0.6000000000000001,
            "count": 0
           },
           {
            "bin_start": 0.6000000000000001,
            "bin_end": 0.7000000000000001,
            "count": 0
           },
           {
            "bin_start": 0.7000000000000001,
            "bin_end": 0.8,
            "count": 0
           },
           {
            "bin_start": 0.8,
            "bin_end": 0.9,
            "count": 0
           },
           {
            "bin_start": 0.9,
            "bin_end": 1,
            "count": 1002
           }
          ]
         }
        },
        {
         "name": "HomePlanet_Mars",
         "dtype": "float64",
         "stats": {
          "unique_count": 2,
          "nan_count": 0,
          "min": "0.0",
          "max": "1.0",
          "histogram": [
           {
            "bin_start": 0,
            "bin_end": 0.1,
            "count": 3352
           },
           {
            "bin_start": 0.1,
            "bin_end": 0.2,
            "count": 0
           },
           {
            "bin_start": 0.2,
            "bin_end": 0.30000000000000004,
            "count": 0
           },
           {
            "bin_start": 0.30000000000000004,
            "bin_end": 0.4,
            "count": 0
           },
           {
            "bin_start": 0.4,
            "bin_end": 0.5,
            "count": 0
           },
           {
            "bin_start": 0.5,
            "bin_end": 0.6000000000000001,
            "count": 0
           },
           {
            "bin_start": 0.6000000000000001,
            "bin_end": 0.7000000000000001,
            "count": 0
           },
           {
            "bin_start": 0.7000000000000001,
            "bin_end": 0.8,
            "count": 0
           },
           {
            "bin_start": 0.8,
            "bin_end": 0.9,
            "count": 0
           },
           {
            "bin_start": 0.9,
            "bin_end": 1,
            "count": 925
           }
          ]
         }
        },
        {
         "name": "Destination_55 Cancri e",
         "dtype": "float64",
         "stats": {
          "unique_count": 2,
          "nan_count": 0,
          "min": "0.0",
          "max": "1.0",
          "histogram": [
           {
            "bin_start": 0,
            "bin_end": 0.1,
            "count": 3436
           },
           {
            "bin_start": 0.1,
            "bin_end": 0.2,
            "count": 0
           },
           {
            "bin_start": 0.2,
            "bin_end": 0.30000000000000004,
            "count": 0
           },
           {
            "bin_start": 0.30000000000000004,
            "bin_end": 0.4,
            "count": 0
           },
           {
            "bin_start": 0.4,
            "bin_end": 0.5,
            "count": 0
           },
           {
            "bin_start": 0.5,
            "bin_end": 0.6000000000000001,
            "count": 0
           },
           {
            "bin_start": 0.6000000000000001,
            "bin_end": 0.7000000000000001,
            "count": 0
           },
           {
            "bin_start": 0.7000000000000001,
            "bin_end": 0.8,
            "count": 0
           },
           {
            "bin_start": 0.8,
            "bin_end": 0.9,
            "count": 0
           },
           {
            "bin_start": 0.9,
            "bin_end": 1,
            "count": 841
           }
          ]
         }
        },
        {
         "name": "Destination_PSO J318.5-22",
         "dtype": "float64",
         "stats": {
          "unique_count": 2,
          "nan_count": 0,
          "min": "0.0",
          "max": "1.0",
          "histogram": [
           {
            "bin_start": 0,
            "bin_end": 0.1,
            "count": 3889
           },
           {
            "bin_start": 0.1,
            "bin_end": 0.2,
            "count": 0
           },
           {
            "bin_start": 0.2,
            "bin_end": 0.30000000000000004,
            "count": 0
           },
           {
            "bin_start": 0.30000000000000004,
            "bin_end": 0.4,
            "count": 0
           },
           {
            "bin_start": 0.4,
            "bin_end": 0.5,
            "count": 0
           },
           {
            "bin_start": 0.5,
            "bin_end": 0.6000000000000001,
            "count": 0
           },
           {
            "bin_start": 0.6000000000000001,
            "bin_end": 0.7000000000000001,
            "count": 0
           },
           {
            "bin_start": 0.7000000000000001,
            "bin_end": 0.8,
            "count": 0
           },
           {
            "bin_start": 0.8,
            "bin_end": 0.9,
            "count": 0
           },
           {
            "bin_start": 0.9,
            "bin_end": 1,
            "count": 388
           }
          ]
         }
        },
        {
         "name": "Destination_TRAPPIST-1e",
         "dtype": "float64",
         "stats": {
          "unique_count": 2,
          "nan_count": 0,
          "min": "0.0",
          "max": "1.0",
          "histogram": [
           {
            "bin_start": 0,
            "bin_end": 0.1,
            "count": 1229
           },
           {
            "bin_start": 0.1,
            "bin_end": 0.2,
            "count": 0
           },
           {
            "bin_start": 0.2,
            "bin_end": 0.30000000000000004,
            "count": 0
           },
           {
            "bin_start": 0.30000000000000004,
            "bin_end": 0.4,
            "count": 0
           },
           {
            "bin_start": 0.4,
            "bin_end": 0.5,
            "count": 0
           },
           {
            "bin_start": 0.5,
            "bin_end": 0.6000000000000001,
            "count": 0
           },
           {
            "bin_start": 0.6000000000000001,
            "bin_end": 0.7000000000000001,
            "count": 0
           },
           {
            "bin_start": 0.7000000000000001,
            "bin_end": 0.8,
            "count": 0
           },
           {
            "bin_start": 0.8,
            "bin_end": 0.9,
            "count": 0
           },
           {
            "bin_start": 0.9,
            "bin_end": 1,
            "count": 3048
           }
          ]
         }
        },
        {
         "name": "Side",
         "dtype": "float64",
         "stats": {
          "unique_count": 2,
          "nan_count": 0,
          "min": "0.0",
          "max": "1.0",
          "histogram": [
           {
            "bin_start": 0,
            "bin_end": 0.1,
            "count": 2084
           },
           {
            "bin_start": 0.1,
            "bin_end": 0.2,
            "count": 0
           },
           {
            "bin_start": 0.2,
            "bin_end": 0.30000000000000004,
            "count": 0
           },
           {
            "bin_start": 0.30000000000000004,
            "bin_end": 0.4,
            "count": 0
           },
           {
            "bin_start": 0.4,
            "bin_end": 0.5,
            "count": 0
           },
           {
            "bin_start": 0.5,
            "bin_end": 0.6000000000000001,
            "count": 0
           },
           {
            "bin_start": 0.6000000000000001,
            "bin_end": 0.7000000000000001,
            "count": 0
           },
           {
            "bin_start": 0.7000000000000001,
            "bin_end": 0.8,
            "count": 0
           },
           {
            "bin_start": 0.8,
            "bin_end": 0.9,
            "count": 0
           },
           {
            "bin_start": 0.9,
            "bin_end": 1,
            "count": 2193
           }
          ]
         }
        },
        {
         "name": "_deepnote_index_column",
         "dtype": "int64"
        }
       ],
       "rows": [
        {
         "PassengerId": "0013_01",
         "CryoSleep": 1,
         "Age": 0.3417721390724182,
         "VIP": 0,
         "RoomService": 0,
         "FoodCourt": 0,
         "ShoppingMall": 0,
         "Spa": 0,
         "VRDeck": 0,
         "HomePlanet_Earth": 1,
         "HomePlanet_Europa": 0,
         "HomePlanet_Mars": 0,
         "Destination_55 Cancri e": 0,
         "Destination_PSO J318.5-22": 0,
         "Destination_TRAPPIST-1e": 1,
         "Side": 1,
         "_deepnote_index_column": 0
        },
        {
         "PassengerId": "0018_01",
         "CryoSleep": 0,
         "Age": 0.2405063360929489,
         "VIP": 0,
         "RoomService": 0,
         "FoodCourt": 0.00035611126804724336,
         "ShoppingMall": 0,
         "Spa": 0.1422596275806427,
         "VRDeck": 0,
         "HomePlanet_Earth": 1,
         "HomePlanet_Europa": 0,
         "HomePlanet_Mars": 0,
         "Destination_55 Cancri e": 0,
         "Destination_PSO J318.5-22": 0,
         "Destination_TRAPPIST-1e": 1,
         "Side": 1,
         "_deepnote_index_column": 1
        },
        {
         "PassengerId": "0019_01",
         "CryoSleep": 1,
         "Age": 0.39240506291389465,
         "VIP": 0,
         "RoomService": 0,
         "FoodCourt": 0,
         "ShoppingMall": 0,
         "Spa": 0,
         "VRDeck": 0,
         "HomePlanet_Earth": 0,
         "HomePlanet_Europa": 1,
         "HomePlanet_Mars": 0,
         "Destination_55 Cancri e": 1,
         "Destination_PSO J318.5-22": 0,
         "Destination_TRAPPIST-1e": 0,
         "Side": 1,
         "_deepnote_index_column": 2
        },
        {
         "PassengerId": "0021_01",
         "CryoSleep": 0,
         "Age": 0.4810126721858978,
         "VIP": 0,
         "RoomService": 0,
         "FoodCourt": 0.26320579648017883,
         "ShoppingMall": 0,
         "Spa": 0.009121145121753216,
         "VRDeck": 0.02626616321504116,
         "HomePlanet_Earth": 0,
         "HomePlanet_Europa": 1,
         "HomePlanet_Mars": 0,
         "Destination_55 Cancri e": 0,
         "Destination_PSO J318.5-22": 0,
         "Destination_TRAPPIST-1e": 1,
         "Side": 1,
         "_deepnote_index_column": 3
        },
        {
         "PassengerId": "0023_01",
         "CryoSleep": 0,
         "Age": 0.2531645596027374,
         "VIP": 0,
         "RoomService": 0.000864528410602361,
         "FoodCourt": 0,
         "ShoppingMall": 0.07657983899116516,
         "Spa": 0,
         "VRDeck": 0,
         "HomePlanet_Earth": 1,
         "HomePlanet_Europa": 0,
         "HomePlanet_Mars": 0,
         "Destination_55 Cancri e": 0,
         "Destination_PSO J318.5-22": 0,
         "Destination_TRAPPIST-1e": 1,
         "Side": 1,
         "_deepnote_index_column": 4
        },
        {
         "PassengerId": "0027_01",
         "CryoSleep": 0,
         "Age": 0.39240506291389465,
         "VIP": 0,
         "RoomService": 0,
         "FoodCourt": 0.06390219181776047,
         "ShoppingMall": 0.031717319041490555,
         "Spa": 0.005694416351616383,
         "VRDeck": 0.0026939655654132366,
         "HomePlanet_Earth": 1,
         "HomePlanet_Europa": 0,
         "HomePlanet_Mars": 0,
         "Destination_55 Cancri e": 0,
         "Destination_PSO J318.5-22": 0,
         "Destination_TRAPPIST-1e": 1,
         "Side": 0,
         "_deepnote_index_column": 5
        },
        {
         "PassengerId": "0029_01",
         "CryoSleep": 1,
         "Age": 0.26582279801368713,
         "VIP": 0,
         "RoomService": 0,
         "FoodCourt": 0.017389478161931038,
         "ShoppingMall": 0,
         "Spa": 0,
         "VRDeck": 0,
         "HomePlanet_Earth": 0,
         "HomePlanet_Europa": 1,
         "HomePlanet_Mars": 0,
         "Destination_55 Cancri e": 1,
         "Destination_PSO J318.5-22": 0,
         "Destination_TRAPPIST-1e": 0,
         "Side": 0,
         "_deepnote_index_column": 6
        },
        {
         "PassengerId": "0032_01",
         "CryoSleep": 1,
         "Age": 0.2531645596027374,
         "VIP": 0,
         "RoomService": 0,
         "FoodCourt": 0,
         "ShoppingMall": 0,
         "Spa": 0,
         "VRDeck": 0,
         "HomePlanet_Earth": 0,
         "HomePlanet_Europa": 1,
         "HomePlanet_Mars": 0,
         "Destination_55 Cancri e": 0,
         "Destination_PSO J318.5-22": 0,
         "Destination_TRAPPIST-1e": 1,
         "Side": 1,
         "_deepnote_index_column": 7
        },
        {
         "PassengerId": "0032_02",
         "CryoSleep": 1,
         "Age": 0.29113924503326416,
         "VIP": 0,
         "RoomService": 0,
         "FoodCourt": 0,
         "ShoppingMall": 0,
         "Spa": 0,
         "VRDeck": 0,
         "HomePlanet_Earth": 0,
         "HomePlanet_Europa": 1,
         "HomePlanet_Mars": 0,
         "Destination_55 Cancri e": 1,
         "Destination_PSO J318.5-22": 0,
         "Destination_TRAPPIST-1e": 0,
         "Side": 1,
         "_deepnote_index_column": 8
        },
        {
         "PassengerId": "0033_01",
         "CryoSleep": 0,
         "Age": 0.3037974536418915,
         "VIP": 0,
         "RoomService": 0,
         "FoodCourt": 0.025283899158239365,
         "ShoppingMall": 0,
         "Spa": 0,
         "VRDeck": 0,
         "HomePlanet_Earth": 1,
         "HomePlanet_Europa": 0,
         "HomePlanet_Mars": 0,
         "Destination_55 Cancri e": 1,
         "Destination_PSO J318.5-22": 0,
         "Destination_TRAPPIST-1e": 0,
         "Side": 1,
         "_deepnote_index_column": 9
        }
       ]
      },
      "text/plain": "     PassengerId  CryoSleep       Age  VIP  RoomService  FoodCourt  \\\n0        0013_01        1.0  0.341772  0.0     0.000000   0.000000   \n1        0018_01        0.0  0.240506  0.0     0.000000   0.000356   \n2        0019_01        1.0  0.392405  0.0     0.000000   0.000000   \n3        0021_01        0.0  0.481013  0.0     0.000000   0.263206   \n4        0023_01        0.0  0.253165  0.0     0.000865   0.000000   \n...          ...        ...       ...  ...          ...        ...   \n4272     9266_02        1.0  0.430380  0.0     0.000000   0.000000   \n4273     9269_01        0.0  0.531646  0.0     0.000000   0.033514   \n4274     9271_01        1.0  0.354430  0.0     0.000000   0.000000   \n4275     9273_01        0.0  0.354430  0.0     0.000000   0.106042   \n4276     9277_01        1.0  0.544304  0.0     0.000000   0.000000   \n\n      ShoppingMall       Spa    VRDeck  HomePlanet_Earth  HomePlanet_Europa  \\\n0          0.00000  0.000000  0.000000               1.0                0.0   \n1          0.00000  0.142260  0.000000               1.0                0.0   \n2          0.00000  0.000000  0.000000               0.0                1.0   \n3          0.00000  0.009121  0.026266               0.0                1.0   \n4          0.07658  0.000000  0.000000               1.0                0.0   \n...            ...       ...       ...               ...                ...   \n4272       0.00000  0.000000  0.000000               1.0                0.0   \n4273       0.00205  0.000504  0.006466               1.0                0.0   \n4274       0.00000  0.000000  0.000000               0.0                0.0   \n4275       0.00000  0.000000  0.023482               0.0                1.0   \n4276       0.00000  0.000000  0.000000               1.0                0.0   \n\n      HomePlanet_Mars  Destination_55 Cancri e  Destination_PSO J318.5-22  \\\n0                 0.0                      0.0                        0.0   \n1                 0.0                      0.0                        0.0   \n2                 0.0                      1.0                        0.0   \n3                 0.0                      0.0                        0.0   \n4                 0.0                      0.0                        0.0   \n...               ...                      ...                        ...   \n4272              0.0                      0.0                        0.0   \n4273              0.0                      0.0                        0.0   \n4274              1.0                      1.0                        0.0   \n4275              0.0                      0.0                        0.0   \n4276              0.0                      0.0                        1.0   \n\n      Destination_TRAPPIST-1e  Side  \n0                         1.0   1.0  \n1                         1.0   1.0  \n2                         0.0   1.0  \n3                         1.0   1.0  \n4                         1.0   1.0  \n...                       ...   ...  \n4272                      1.0   1.0  \n4273                      1.0   1.0  \n4274                      0.0   0.0  \n4275                      1.0   0.0  \n4276                      0.0   1.0  \n\n[4277 rows x 16 columns]",
      "text/html": "<div>\n<style scoped>\n    .dataframe tbody tr th:only-of-type {\n        vertical-align: middle;\n    }\n\n    .dataframe tbody tr th {\n        vertical-align: top;\n    }\n\n    .dataframe thead th {\n        text-align: right;\n    }\n</style>\n<table border=\"1\" class=\"dataframe\">\n  <thead>\n    <tr style=\"text-align: right;\">\n      <th></th>\n      <th>PassengerId</th>\n      <th>CryoSleep</th>\n      <th>Age</th>\n      <th>VIP</th>\n      <th>RoomService</th>\n      <th>FoodCourt</th>\n      <th>ShoppingMall</th>\n      <th>Spa</th>\n      <th>VRDeck</th>\n      <th>HomePlanet_Earth</th>\n      <th>HomePlanet_Europa</th>\n      <th>HomePlanet_Mars</th>\n      <th>Destination_55 Cancri e</th>\n      <th>Destination_PSO J318.5-22</th>\n      <th>Destination_TRAPPIST-1e</th>\n      <th>Side</th>\n    </tr>\n  </thead>\n  <tbody>\n    <tr>\n      <th>0</th>\n      <td>0013_01</td>\n      <td>1.0</td>\n      <td>0.341772</td>\n      <td>0.0</td>\n      <td>0.000000</td>\n      <td>0.000000</td>\n      <td>0.00000</td>\n      <td>0.000000</td>\n      <td>0.000000</td>\n      <td>1.0</td>\n      <td>0.0</td>\n      <td>0.0</td>\n      <td>0.0</td>\n      <td>0.0</td>\n      <td>1.0</td>\n      <td>1.0</td>\n    </tr>\n    <tr>\n      <th>1</th>\n      <td>0018_01</td>\n      <td>0.0</td>\n      <td>0.240506</td>\n      <td>0.0</td>\n      <td>0.000000</td>\n      <td>0.000356</td>\n      <td>0.00000</td>\n      <td>0.142260</td>\n      <td>0.000000</td>\n      <td>1.0</td>\n      <td>0.0</td>\n      <td>0.0</td>\n      <td>0.0</td>\n      <td>0.0</td>\n      <td>1.0</td>\n      <td>1.0</td>\n    </tr>\n    <tr>\n      <th>2</th>\n      <td>0019_01</td>\n      <td>1.0</td>\n      <td>0.392405</td>\n      <td>0.0</td>\n      <td>0.000000</td>\n      <td>0.000000</td>\n      <td>0.00000</td>\n      <td>0.000000</td>\n      <td>0.000000</td>\n      <td>0.0</td>\n      <td>1.0</td>\n      <td>0.0</td>\n      <td>1.0</td>\n      <td>0.0</td>\n      <td>0.0</td>\n      <td>1.0</td>\n    </tr>\n    <tr>\n      <th>3</th>\n      <td>0021_01</td>\n      <td>0.0</td>\n      <td>0.481013</td>\n      <td>0.0</td>\n      <td>0.000000</td>\n      <td>0.263206</td>\n      <td>0.00000</td>\n      <td>0.009121</td>\n      <td>0.026266</td>\n      <td>0.0</td>\n      <td>1.0</td>\n      <td>0.0</td>\n      <td>0.0</td>\n      <td>0.0</td>\n      <td>1.0</td>\n      <td>1.0</td>\n    </tr>\n    <tr>\n      <th>4</th>\n      <td>0023_01</td>\n      <td>0.0</td>\n      <td>0.253165</td>\n      <td>0.0</td>\n      <td>0.000865</td>\n      <td>0.000000</td>\n      <td>0.07658</td>\n      <td>0.000000</td>\n      <td>0.000000</td>\n      <td>1.0</td>\n      <td>0.0</td>\n      <td>0.0</td>\n      <td>0.0</td>\n      <td>0.0</td>\n      <td>1.0</td>\n      <td>1.0</td>\n    </tr>\n    <tr>\n      <th>...</th>\n      <td>...</td>\n      <td>...</td>\n      <td>...</td>\n      <td>...</td>\n      <td>...</td>\n      <td>...</td>\n      <td>...</td>\n      <td>...</td>\n      <td>...</td>\n      <td>...</td>\n      <td>...</td>\n      <td>...</td>\n      <td>...</td>\n      <td>...</td>\n      <td>...</td>\n      <td>...</td>\n    </tr>\n    <tr>\n      <th>4272</th>\n      <td>9266_02</td>\n      <td>1.0</td>\n      <td>0.430380</td>\n      <td>0.0</td>\n      <td>0.000000</td>\n      <td>0.000000</td>\n      <td>0.00000</td>\n      <td>0.000000</td>\n      <td>0.000000</td>\n      <td>1.0</td>\n      <td>0.0</td>\n      <td>0.0</td>\n      <td>0.0</td>\n      <td>0.0</td>\n      <td>1.0</td>\n      <td>1.0</td>\n    </tr>\n    <tr>\n      <th>4273</th>\n      <td>9269_01</td>\n      <td>0.0</td>\n      <td>0.531646</td>\n      <td>0.0</td>\n      <td>0.000000</td>\n      <td>0.033514</td>\n      <td>0.00205</td>\n      <td>0.000504</td>\n      <td>0.006466</td>\n      <td>1.0</td>\n      <td>0.0</td>\n      <td>0.0</td>\n      <td>0.0</td>\n      <td>0.0</td>\n      <td>1.0</td>\n      <td>1.0</td>\n    </tr>\n    <tr>\n      <th>4274</th>\n      <td>9271_01</td>\n      <td>1.0</td>\n      <td>0.354430</td>\n      <td>0.0</td>\n      <td>0.000000</td>\n      <td>0.000000</td>\n      <td>0.00000</td>\n      <td>0.000000</td>\n      <td>0.000000</td>\n      <td>0.0</td>\n      <td>0.0</td>\n      <td>1.0</td>\n      <td>1.0</td>\n      <td>0.0</td>\n      <td>0.0</td>\n      <td>0.0</td>\n    </tr>\n    <tr>\n      <th>4275</th>\n      <td>9273_01</td>\n      <td>0.0</td>\n      <td>0.354430</td>\n      <td>0.0</td>\n      <td>0.000000</td>\n      <td>0.106042</td>\n      <td>0.00000</td>\n      <td>0.000000</td>\n      <td>0.023482</td>\n      <td>0.0</td>\n      <td>1.0</td>\n      <td>0.0</td>\n      <td>0.0</td>\n      <td>0.0</td>\n      <td>1.0</td>\n      <td>0.0</td>\n    </tr>\n    <tr>\n      <th>4276</th>\n      <td>9277_01</td>\n      <td>1.0</td>\n      <td>0.544304</td>\n      <td>0.0</td>\n      <td>0.000000</td>\n      <td>0.000000</td>\n      <td>0.00000</td>\n      <td>0.000000</td>\n      <td>0.000000</td>\n      <td>1.0</td>\n      <td>0.0</td>\n      <td>0.0</td>\n      <td>0.0</td>\n      <td>1.0</td>\n      <td>0.0</td>\n      <td>1.0</td>\n    </tr>\n  </tbody>\n</table>\n<p>4277 rows × 16 columns</p>\n</div>"
     },
     "metadata": {}
    }
   ],
   "execution_count": 33
  },
  {
   "cell_type": "code",
   "source": "\ny_test = pd.DataFrame(y_pred)\ny_test.replace(to_replace=1, value=True, inplace=True)\ny_test.replace(to_replace=0, value=False, inplace=True)\nfinal = pd.DataFrame()\nfinal['PassengerId'] = df_test_drop['PassengerId']\nfinal['Transported'] = y_test\nfinal.to_csv('predictions.csv', index=False)\n",
   "metadata": {
    "cell_id": "062d5d20451a4171b61073ffe6e76ba0",
    "tags": [],
    "deepnote_to_be_reexecuted": false,
    "source_hash": "a7c6296c",
    "execution_start": 1657623616552,
    "execution_millis": 18,
    "owner_user_id": "f4bd10dd-ead1-40c9-a6a0-1858654a4702",
    "deepnote_cell_type": "code",
    "deepnote_cell_height": 224.921875
   },
   "outputs": [],
   "execution_count": 34
  },
  {
   "cell_type": "markdown",
   "source": "<a style='text-decoration:none;line-height:16px;display:flex;color:#5B5B62;padding:10px;justify-content:end;' href='https://deepnote.com?utm_source=created-in-deepnote-cell&projectId=4e28e2bf-342c-4d1b-b02e-0546f24e74c0' target=\"_blank\">\n<img alt='Created in deepnote.com' style='display:inline;max-height:16px;margin:0px;margin-right:7.5px;' src='data:image/svg+xml;base64,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' > </img>\nCreated in <span style='font-weight:600;margin-left:4px;'>Deepnote</span></a>",
   "metadata": {
    "tags": [],
    "created_in_deepnote_cell": true,
    "deepnote_cell_type": "markdown"
   }
  }
 ],
 "nbformat": 4,
 "nbformat_minor": 2,
 "metadata": {
  "orig_nbformat": 2,
  "deepnote": {},
  "deepnote_notebook_id": "a655b81d-b690-43d8-b0d4-ebf8350d43e4",
  "deepnote_execution_queue": []
 }
}